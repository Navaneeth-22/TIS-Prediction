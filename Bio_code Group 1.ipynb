{
  "cells": [
    {
      "cell_type": "code",
      "execution_count": 1,
      "metadata": {
        "id": "0Iw1lMUYinXu"
      },
      "outputs": [],
      "source": [
        "#DEEP TIS \n",
        "#PREDICTING TRANSLATION INITIATION SITES FROM GENOMIC SEQUENCES\n",
        "\n"
      ]
    },
    {
      "cell_type": "code",
      "execution_count": 2,
      "metadata": {
        "id": "UlcsfTVrinXx"
      },
      "outputs": [],
      "source": [
        "import pandas as pd\n",
        "import numpy as np\n",
        "import itertools\n"
      ]
    },
    {
      "cell_type": "code",
      "execution_count": 3,
      "metadata": {
        "id": "D1av0AR4inXx"
      },
      "outputs": [],
      "source": [
        "data1 = pd.read_csv(\"mmc1.csv\")"
      ]
    },
    {
      "cell_type": "code",
      "execution_count": 4,
      "metadata": {
        "id": "1ahMFL8DinXy",
        "colab": {
          "base_uri": "https://localhost:8080/",
          "height": 206
        },
        "outputId": "122fabd7-a8d1-4ef3-e496-450612f24081"
      },
      "outputs": [
        {
          "output_type": "execute_result",
          "data": {
            "text/plain": [
              "                                            Sequence  Label\n",
              "0  GATCCCTGCGGCGTTCGCGAGGGTGGGACGGGAAGCGGGCTGGGAA...   True\n",
              "1  GTCACTGCCCTCGCGGCCAATCCAAGGGCTGCGCGCGTGTCCCTTA...   True\n",
              "2  GTCACTGTCCTCGGGGCCAATCCAAGGGCTGCGCGCGTGTCCCTTA...   True\n",
              "3  GCGGAAAACGGCAGGAGGAGAGCCAATCCCGAGGGTCGGCGGACGC...   True\n",
              "4  TCGGCGGTGGAACCGCCAGTCCGGGGTCACAGAGCTTGAGAAGCGA...   True"
            ],
            "text/html": [
              "\n",
              "  <div id=\"df-ab0fd68f-f59a-4f8e-a2c3-5e43bb4c8661\">\n",
              "    <div class=\"colab-df-container\">\n",
              "      <div>\n",
              "<style scoped>\n",
              "    .dataframe tbody tr th:only-of-type {\n",
              "        vertical-align: middle;\n",
              "    }\n",
              "\n",
              "    .dataframe tbody tr th {\n",
              "        vertical-align: top;\n",
              "    }\n",
              "\n",
              "    .dataframe thead th {\n",
              "        text-align: right;\n",
              "    }\n",
              "</style>\n",
              "<table border=\"1\" class=\"dataframe\">\n",
              "  <thead>\n",
              "    <tr style=\"text-align: right;\">\n",
              "      <th></th>\n",
              "      <th>Sequence</th>\n",
              "      <th>Label</th>\n",
              "    </tr>\n",
              "  </thead>\n",
              "  <tbody>\n",
              "    <tr>\n",
              "      <th>0</th>\n",
              "      <td>GATCCCTGCGGCGTTCGCGAGGGTGGGACGGGAAGCGGGCTGGGAA...</td>\n",
              "      <td>True</td>\n",
              "    </tr>\n",
              "    <tr>\n",
              "      <th>1</th>\n",
              "      <td>GTCACTGCCCTCGCGGCCAATCCAAGGGCTGCGCGCGTGTCCCTTA...</td>\n",
              "      <td>True</td>\n",
              "    </tr>\n",
              "    <tr>\n",
              "      <th>2</th>\n",
              "      <td>GTCACTGTCCTCGGGGCCAATCCAAGGGCTGCGCGCGTGTCCCTTA...</td>\n",
              "      <td>True</td>\n",
              "    </tr>\n",
              "    <tr>\n",
              "      <th>3</th>\n",
              "      <td>GCGGAAAACGGCAGGAGGAGAGCCAATCCCGAGGGTCGGCGGACGC...</td>\n",
              "      <td>True</td>\n",
              "    </tr>\n",
              "    <tr>\n",
              "      <th>4</th>\n",
              "      <td>TCGGCGGTGGAACCGCCAGTCCGGGGTCACAGAGCTTGAGAAGCGA...</td>\n",
              "      <td>True</td>\n",
              "    </tr>\n",
              "  </tbody>\n",
              "</table>\n",
              "</div>\n",
              "      <button class=\"colab-df-convert\" onclick=\"convertToInteractive('df-ab0fd68f-f59a-4f8e-a2c3-5e43bb4c8661')\"\n",
              "              title=\"Convert this dataframe to an interactive table.\"\n",
              "              style=\"display:none;\">\n",
              "        \n",
              "  <svg xmlns=\"http://www.w3.org/2000/svg\" height=\"24px\"viewBox=\"0 0 24 24\"\n",
              "       width=\"24px\">\n",
              "    <path d=\"M0 0h24v24H0V0z\" fill=\"none\"/>\n",
              "    <path d=\"M18.56 5.44l.94 2.06.94-2.06 2.06-.94-2.06-.94-.94-2.06-.94 2.06-2.06.94zm-11 1L8.5 8.5l.94-2.06 2.06-.94-2.06-.94L8.5 2.5l-.94 2.06-2.06.94zm10 10l.94 2.06.94-2.06 2.06-.94-2.06-.94-.94-2.06-.94 2.06-2.06.94z\"/><path d=\"M17.41 7.96l-1.37-1.37c-.4-.4-.92-.59-1.43-.59-.52 0-1.04.2-1.43.59L10.3 9.45l-7.72 7.72c-.78.78-.78 2.05 0 2.83L4 21.41c.39.39.9.59 1.41.59.51 0 1.02-.2 1.41-.59l7.78-7.78 2.81-2.81c.8-.78.8-2.07 0-2.86zM5.41 20L4 18.59l7.72-7.72 1.47 1.35L5.41 20z\"/>\n",
              "  </svg>\n",
              "      </button>\n",
              "      \n",
              "  <style>\n",
              "    .colab-df-container {\n",
              "      display:flex;\n",
              "      flex-wrap:wrap;\n",
              "      gap: 12px;\n",
              "    }\n",
              "\n",
              "    .colab-df-convert {\n",
              "      background-color: #E8F0FE;\n",
              "      border: none;\n",
              "      border-radius: 50%;\n",
              "      cursor: pointer;\n",
              "      display: none;\n",
              "      fill: #1967D2;\n",
              "      height: 32px;\n",
              "      padding: 0 0 0 0;\n",
              "      width: 32px;\n",
              "    }\n",
              "\n",
              "    .colab-df-convert:hover {\n",
              "      background-color: #E2EBFA;\n",
              "      box-shadow: 0px 1px 2px rgba(60, 64, 67, 0.3), 0px 1px 3px 1px rgba(60, 64, 67, 0.15);\n",
              "      fill: #174EA6;\n",
              "    }\n",
              "\n",
              "    [theme=dark] .colab-df-convert {\n",
              "      background-color: #3B4455;\n",
              "      fill: #D2E3FC;\n",
              "    }\n",
              "\n",
              "    [theme=dark] .colab-df-convert:hover {\n",
              "      background-color: #434B5C;\n",
              "      box-shadow: 0px 1px 3px 1px rgba(0, 0, 0, 0.15);\n",
              "      filter: drop-shadow(0px 1px 2px rgba(0, 0, 0, 0.3));\n",
              "      fill: #FFFFFF;\n",
              "    }\n",
              "  </style>\n",
              "\n",
              "      <script>\n",
              "        const buttonEl =\n",
              "          document.querySelector('#df-ab0fd68f-f59a-4f8e-a2c3-5e43bb4c8661 button.colab-df-convert');\n",
              "        buttonEl.style.display =\n",
              "          google.colab.kernel.accessAllowed ? 'block' : 'none';\n",
              "\n",
              "        async function convertToInteractive(key) {\n",
              "          const element = document.querySelector('#df-ab0fd68f-f59a-4f8e-a2c3-5e43bb4c8661');\n",
              "          const dataTable =\n",
              "            await google.colab.kernel.invokeFunction('convertToInteractive',\n",
              "                                                     [key], {});\n",
              "          if (!dataTable) return;\n",
              "\n",
              "          const docLinkHtml = 'Like what you see? Visit the ' +\n",
              "            '<a target=\"_blank\" href=https://colab.research.google.com/notebooks/data_table.ipynb>data table notebook</a>'\n",
              "            + ' to learn more about interactive tables.';\n",
              "          element.innerHTML = '';\n",
              "          dataTable['output_type'] = 'display_data';\n",
              "          await google.colab.output.renderOutput(dataTable, element);\n",
              "          const docLink = document.createElement('div');\n",
              "          docLink.innerHTML = docLinkHtml;\n",
              "          element.appendChild(docLink);\n",
              "        }\n",
              "      </script>\n",
              "    </div>\n",
              "  </div>\n",
              "  "
            ]
          },
          "metadata": {},
          "execution_count": 4
        }
      ],
      "source": [
        "data1.head()"
      ]
    },
    {
      "cell_type": "code",
      "execution_count": 5,
      "metadata": {
        "id": "COtMmJ-linXz",
        "colab": {
          "base_uri": "https://localhost:8080/"
        },
        "outputId": "8825ea95-73de-45ef-8b15-39181c7e38f5"
      },
      "outputs": [
        {
          "output_type": "stream",
          "name": "stdout",
          "text": [
            "<class 'pandas.core.frame.DataFrame'>\n",
            "RangeIndex: 2318 entries, 0 to 2317\n",
            "Data columns (total 2 columns):\n",
            " #   Column    Non-Null Count  Dtype \n",
            "---  ------    --------------  ----- \n",
            " 0   Sequence  2318 non-null   object\n",
            " 1   Label     2318 non-null   bool  \n",
            "dtypes: bool(1), object(1)\n",
            "memory usage: 20.5+ KB\n"
          ]
        }
      ],
      "source": [
        "data1.info()"
      ]
    },
    {
      "cell_type": "code",
      "execution_count": 6,
      "metadata": {
        "id": "vzNIv4xHinXz"
      },
      "outputs": [],
      "source": [
        "# check len of sequence in each row\n",
        "\n",
        "def len_seq(sequence):\n",
        "    return len(sequence)\n",
        "data1['len'] = data1['Sequence'].apply(len_seq)\n",
        "\n",
        "# remove gaps from sequence\n",
        "\n",
        "def remove_gaps(sequence):\n",
        "    return sequence.replace(' ','N')\n",
        "data1['Sequence'] = data1['Sequence'].apply(remove_gaps)"
      ]
    },
    {
      "cell_type": "code",
      "execution_count": 7,
      "metadata": {
        "colab": {
          "base_uri": "https://localhost:8080/",
          "height": 206
        },
        "id": "tQEPI1eRinX0",
        "outputId": "59d90776-4579-4749-e006-846ee1ea0a0f"
      },
      "outputs": [
        {
          "output_type": "execute_result",
          "data": {
            "text/plain": [
              "                                            Sequence  Label  len\n",
              "0  GATCCCTGCGGCGTTCGCGAGGGTGGGACGGGAAGCGGGCTGGGAA...   True  399\n",
              "1  GTCACTGCCCTCGCGGCCAATCCAAGGGCTGCGCGCGTGTCCCTTA...   True  399\n",
              "2  GTCACTGTCCTCGGGGCCAATCCAAGGGCTGCGCGCGTGTCCCTTA...   True  399\n",
              "3  GCGGAAAACGGCAGGAGGAGAGCCAATCCCGAGGGTCGGCGGACGC...   True  399\n",
              "4  TCGGCGGTGGAACCGCCAGTCCGGGGTCACAGAGCTTGAGAAGCGA...   True  399"
            ],
            "text/html": [
              "\n",
              "  <div id=\"df-af36b7bf-208c-4415-b82b-90e9b910fce0\">\n",
              "    <div class=\"colab-df-container\">\n",
              "      <div>\n",
              "<style scoped>\n",
              "    .dataframe tbody tr th:only-of-type {\n",
              "        vertical-align: middle;\n",
              "    }\n",
              "\n",
              "    .dataframe tbody tr th {\n",
              "        vertical-align: top;\n",
              "    }\n",
              "\n",
              "    .dataframe thead th {\n",
              "        text-align: right;\n",
              "    }\n",
              "</style>\n",
              "<table border=\"1\" class=\"dataframe\">\n",
              "  <thead>\n",
              "    <tr style=\"text-align: right;\">\n",
              "      <th></th>\n",
              "      <th>Sequence</th>\n",
              "      <th>Label</th>\n",
              "      <th>len</th>\n",
              "    </tr>\n",
              "  </thead>\n",
              "  <tbody>\n",
              "    <tr>\n",
              "      <th>0</th>\n",
              "      <td>GATCCCTGCGGCGTTCGCGAGGGTGGGACGGGAAGCGGGCTGGGAA...</td>\n",
              "      <td>True</td>\n",
              "      <td>399</td>\n",
              "    </tr>\n",
              "    <tr>\n",
              "      <th>1</th>\n",
              "      <td>GTCACTGCCCTCGCGGCCAATCCAAGGGCTGCGCGCGTGTCCCTTA...</td>\n",
              "      <td>True</td>\n",
              "      <td>399</td>\n",
              "    </tr>\n",
              "    <tr>\n",
              "      <th>2</th>\n",
              "      <td>GTCACTGTCCTCGGGGCCAATCCAAGGGCTGCGCGCGTGTCCCTTA...</td>\n",
              "      <td>True</td>\n",
              "      <td>399</td>\n",
              "    </tr>\n",
              "    <tr>\n",
              "      <th>3</th>\n",
              "      <td>GCGGAAAACGGCAGGAGGAGAGCCAATCCCGAGGGTCGGCGGACGC...</td>\n",
              "      <td>True</td>\n",
              "      <td>399</td>\n",
              "    </tr>\n",
              "    <tr>\n",
              "      <th>4</th>\n",
              "      <td>TCGGCGGTGGAACCGCCAGTCCGGGGTCACAGAGCTTGAGAAGCGA...</td>\n",
              "      <td>True</td>\n",
              "      <td>399</td>\n",
              "    </tr>\n",
              "  </tbody>\n",
              "</table>\n",
              "</div>\n",
              "      <button class=\"colab-df-convert\" onclick=\"convertToInteractive('df-af36b7bf-208c-4415-b82b-90e9b910fce0')\"\n",
              "              title=\"Convert this dataframe to an interactive table.\"\n",
              "              style=\"display:none;\">\n",
              "        \n",
              "  <svg xmlns=\"http://www.w3.org/2000/svg\" height=\"24px\"viewBox=\"0 0 24 24\"\n",
              "       width=\"24px\">\n",
              "    <path d=\"M0 0h24v24H0V0z\" fill=\"none\"/>\n",
              "    <path d=\"M18.56 5.44l.94 2.06.94-2.06 2.06-.94-2.06-.94-.94-2.06-.94 2.06-2.06.94zm-11 1L8.5 8.5l.94-2.06 2.06-.94-2.06-.94L8.5 2.5l-.94 2.06-2.06.94zm10 10l.94 2.06.94-2.06 2.06-.94-2.06-.94-.94-2.06-.94 2.06-2.06.94z\"/><path d=\"M17.41 7.96l-1.37-1.37c-.4-.4-.92-.59-1.43-.59-.52 0-1.04.2-1.43.59L10.3 9.45l-7.72 7.72c-.78.78-.78 2.05 0 2.83L4 21.41c.39.39.9.59 1.41.59.51 0 1.02-.2 1.41-.59l7.78-7.78 2.81-2.81c.8-.78.8-2.07 0-2.86zM5.41 20L4 18.59l7.72-7.72 1.47 1.35L5.41 20z\"/>\n",
              "  </svg>\n",
              "      </button>\n",
              "      \n",
              "  <style>\n",
              "    .colab-df-container {\n",
              "      display:flex;\n",
              "      flex-wrap:wrap;\n",
              "      gap: 12px;\n",
              "    }\n",
              "\n",
              "    .colab-df-convert {\n",
              "      background-color: #E8F0FE;\n",
              "      border: none;\n",
              "      border-radius: 50%;\n",
              "      cursor: pointer;\n",
              "      display: none;\n",
              "      fill: #1967D2;\n",
              "      height: 32px;\n",
              "      padding: 0 0 0 0;\n",
              "      width: 32px;\n",
              "    }\n",
              "\n",
              "    .colab-df-convert:hover {\n",
              "      background-color: #E2EBFA;\n",
              "      box-shadow: 0px 1px 2px rgba(60, 64, 67, 0.3), 0px 1px 3px 1px rgba(60, 64, 67, 0.15);\n",
              "      fill: #174EA6;\n",
              "    }\n",
              "\n",
              "    [theme=dark] .colab-df-convert {\n",
              "      background-color: #3B4455;\n",
              "      fill: #D2E3FC;\n",
              "    }\n",
              "\n",
              "    [theme=dark] .colab-df-convert:hover {\n",
              "      background-color: #434B5C;\n",
              "      box-shadow: 0px 1px 3px 1px rgba(0, 0, 0, 0.15);\n",
              "      filter: drop-shadow(0px 1px 2px rgba(0, 0, 0, 0.3));\n",
              "      fill: #FFFFFF;\n",
              "    }\n",
              "  </style>\n",
              "\n",
              "      <script>\n",
              "        const buttonEl =\n",
              "          document.querySelector('#df-af36b7bf-208c-4415-b82b-90e9b910fce0 button.colab-df-convert');\n",
              "        buttonEl.style.display =\n",
              "          google.colab.kernel.accessAllowed ? 'block' : 'none';\n",
              "\n",
              "        async function convertToInteractive(key) {\n",
              "          const element = document.querySelector('#df-af36b7bf-208c-4415-b82b-90e9b910fce0');\n",
              "          const dataTable =\n",
              "            await google.colab.kernel.invokeFunction('convertToInteractive',\n",
              "                                                     [key], {});\n",
              "          if (!dataTable) return;\n",
              "\n",
              "          const docLinkHtml = 'Like what you see? Visit the ' +\n",
              "            '<a target=\"_blank\" href=https://colab.research.google.com/notebooks/data_table.ipynb>data table notebook</a>'\n",
              "            + ' to learn more about interactive tables.';\n",
              "          element.innerHTML = '';\n",
              "          dataTable['output_type'] = 'display_data';\n",
              "          await google.colab.output.renderOutput(dataTable, element);\n",
              "          const docLink = document.createElement('div');\n",
              "          docLink.innerHTML = docLinkHtml;\n",
              "          element.appendChild(docLink);\n",
              "        }\n",
              "      </script>\n",
              "    </div>\n",
              "  </div>\n",
              "  "
            ]
          },
          "metadata": {},
          "execution_count": 7
        }
      ],
      "source": [
        "data1.head()"
      ]
    },
    {
      "cell_type": "code",
      "execution_count": 8,
      "metadata": {
        "colab": {
          "base_uri": "https://localhost:8080/"
        },
        "id": "7sYeLJbhinX0",
        "outputId": "4ae47709-a851-4614-a763-93330d5fc4ba"
      },
      "outputs": [
        {
          "output_type": "execute_result",
          "data": {
            "text/plain": [
              "array([399])"
            ]
          },
          "metadata": {},
          "execution_count": 8
        }
      ],
      "source": [
        "# see unique values in len column\n",
        "data1['len'].unique()"
      ]
    },
    {
      "cell_type": "code",
      "execution_count": 9,
      "metadata": {
        "colab": {
          "base_uri": "https://localhost:8080/"
        },
        "id": "yjvV8YzvinX0",
        "outputId": "1c569b82-315e-421e-ee20-23b01816d067"
      },
      "outputs": [
        {
          "output_type": "execute_result",
          "data": {
            "text/plain": [
              "Sequence    0\n",
              "Label       0\n",
              "len         0\n",
              "dtype: int64"
            ]
          },
          "metadata": {},
          "execution_count": 9
        }
      ],
      "source": [
        "# check if there are null values in the dataset\n",
        "data1.isnull().sum()\n"
      ]
    },
    {
      "cell_type": "code",
      "execution_count": 10,
      "metadata": {
        "id": "703LRwRginX1"
      },
      "outputs": [],
      "source": [
        "# removing null values\n",
        "data1.dropna(inplace=True)"
      ]
    },
    {
      "cell_type": "code",
      "execution_count": 11,
      "metadata": {
        "id": "CPftbHmninX1"
      },
      "outputs": [],
      "source": [
        "# remove duplicates from the dataset\n",
        "data1[\"Sequence\"].drop_duplicates(inplace=True)"
      ]
    },
    {
      "cell_type": "code",
      "execution_count": 12,
      "metadata": {
        "colab": {
          "base_uri": "https://localhost:8080/"
        },
        "id": "28NMAC27inX2",
        "outputId": "f6d2fd7a-594e-4d61-a318-65db1479aaf1"
      },
      "outputs": [
        {
          "output_type": "stream",
          "name": "stdout",
          "text": [
            "<class 'pandas.core.frame.DataFrame'>\n",
            "Int64Index: 2318 entries, 0 to 2317\n",
            "Data columns (total 3 columns):\n",
            " #   Column    Non-Null Count  Dtype \n",
            "---  ------    --------------  ----- \n",
            " 0   Sequence  2318 non-null   object\n",
            " 1   Label     2318 non-null   bool  \n",
            " 2   len       2318 non-null   int64 \n",
            "dtypes: bool(1), int64(1), object(1)\n",
            "memory usage: 56.6+ KB\n"
          ]
        }
      ],
      "source": [
        "# remove the sequence if there are any other nucleotides other than A,T,C,G\n",
        "\n",
        "def check_seq(sequence):\n",
        "    for i in sequence:\n",
        "        if i not in ['A','T','C','G']:\n",
        "            return False\n",
        "    return True\n",
        "\n",
        "# data1[\"h\"] = data1['Sequence'].apply(check_seq)\n",
        "\n",
        "# remove the sequence if there are any other nucleotides other than A,T,C,G\n",
        "data1 = data1[data1['Sequence'].apply(check_seq)]\n",
        "# data1[data1['h']==False]\n",
        "data1.info()\n"
      ]
    },
    {
      "cell_type": "code",
      "execution_count": 13,
      "metadata": {
        "id": "cZjulPUHinX2"
      },
      "outputs": [],
      "source": [
        "# C2 encoding of sequence\n",
        "def C2_encoding(sequence):\n",
        "    encoding = []\n",
        "    for i in sequence:\n",
        "        if i == 'A':\n",
        "            encoding.append([0,0])\n",
        "        elif i == 'C':\n",
        "            encoding.append([0,1])\n",
        "        elif i == 'G':\n",
        "            encoding.append([1,0])\n",
        "        elif i == 'T':\n",
        "            encoding.append([1,1])\n",
        "    return encoding\n"
      ]
    },
    {
      "cell_type": "code",
      "execution_count": 14,
      "metadata": {
        "id": "hI8DuY37inX2"
      },
      "outputs": [],
      "source": [
        "data1['C2_encoding'] = data1['Sequence'].apply(C2_encoding)"
      ]
    },
    {
      "cell_type": "code",
      "execution_count": 15,
      "metadata": {
        "colab": {
          "base_uri": "https://localhost:8080/",
          "height": 337
        },
        "id": "dX5__w43inX3",
        "outputId": "6edec7c1-f534-4e34-d4b1-45e26ce99819"
      },
      "outputs": [
        {
          "output_type": "execute_result",
          "data": {
            "text/plain": [
              "                                            Sequence  Label  len  \\\n",
              "0  GATCCCTGCGGCGTTCGCGAGGGTGGGACGGGAAGCGGGCTGGGAA...   True  399   \n",
              "1  GTCACTGCCCTCGCGGCCAATCCAAGGGCTGCGCGCGTGTCCCTTA...   True  399   \n",
              "2  GTCACTGTCCTCGGGGCCAATCCAAGGGCTGCGCGCGTGTCCCTTA...   True  399   \n",
              "3  GCGGAAAACGGCAGGAGGAGAGCCAATCCCGAGGGTCGGCGGACGC...   True  399   \n",
              "4  TCGGCGGTGGAACCGCCAGTCCGGGGTCACAGAGCTTGAGAAGCGA...   True  399   \n",
              "\n",
              "                                         C2_encoding  \n",
              "0  [[1, 0], [0, 0], [1, 1], [0, 1], [0, 1], [0, 1...  \n",
              "1  [[1, 0], [1, 1], [0, 1], [0, 0], [0, 1], [1, 1...  \n",
              "2  [[1, 0], [1, 1], [0, 1], [0, 0], [0, 1], [1, 1...  \n",
              "3  [[1, 0], [0, 1], [1, 0], [1, 0], [0, 0], [0, 0...  \n",
              "4  [[1, 1], [0, 1], [1, 0], [1, 0], [0, 1], [1, 0...  "
            ],
            "text/html": [
              "\n",
              "  <div id=\"df-25582e23-d0c1-42df-985c-893c15431a83\">\n",
              "    <div class=\"colab-df-container\">\n",
              "      <div>\n",
              "<style scoped>\n",
              "    .dataframe tbody tr th:only-of-type {\n",
              "        vertical-align: middle;\n",
              "    }\n",
              "\n",
              "    .dataframe tbody tr th {\n",
              "        vertical-align: top;\n",
              "    }\n",
              "\n",
              "    .dataframe thead th {\n",
              "        text-align: right;\n",
              "    }\n",
              "</style>\n",
              "<table border=\"1\" class=\"dataframe\">\n",
              "  <thead>\n",
              "    <tr style=\"text-align: right;\">\n",
              "      <th></th>\n",
              "      <th>Sequence</th>\n",
              "      <th>Label</th>\n",
              "      <th>len</th>\n",
              "      <th>C2_encoding</th>\n",
              "    </tr>\n",
              "  </thead>\n",
              "  <tbody>\n",
              "    <tr>\n",
              "      <th>0</th>\n",
              "      <td>GATCCCTGCGGCGTTCGCGAGGGTGGGACGGGAAGCGGGCTGGGAA...</td>\n",
              "      <td>True</td>\n",
              "      <td>399</td>\n",
              "      <td>[[1, 0], [0, 0], [1, 1], [0, 1], [0, 1], [0, 1...</td>\n",
              "    </tr>\n",
              "    <tr>\n",
              "      <th>1</th>\n",
              "      <td>GTCACTGCCCTCGCGGCCAATCCAAGGGCTGCGCGCGTGTCCCTTA...</td>\n",
              "      <td>True</td>\n",
              "      <td>399</td>\n",
              "      <td>[[1, 0], [1, 1], [0, 1], [0, 0], [0, 1], [1, 1...</td>\n",
              "    </tr>\n",
              "    <tr>\n",
              "      <th>2</th>\n",
              "      <td>GTCACTGTCCTCGGGGCCAATCCAAGGGCTGCGCGCGTGTCCCTTA...</td>\n",
              "      <td>True</td>\n",
              "      <td>399</td>\n",
              "      <td>[[1, 0], [1, 1], [0, 1], [0, 0], [0, 1], [1, 1...</td>\n",
              "    </tr>\n",
              "    <tr>\n",
              "      <th>3</th>\n",
              "      <td>GCGGAAAACGGCAGGAGGAGAGCCAATCCCGAGGGTCGGCGGACGC...</td>\n",
              "      <td>True</td>\n",
              "      <td>399</td>\n",
              "      <td>[[1, 0], [0, 1], [1, 0], [1, 0], [0, 0], [0, 0...</td>\n",
              "    </tr>\n",
              "    <tr>\n",
              "      <th>4</th>\n",
              "      <td>TCGGCGGTGGAACCGCCAGTCCGGGGTCACAGAGCTTGAGAAGCGA...</td>\n",
              "      <td>True</td>\n",
              "      <td>399</td>\n",
              "      <td>[[1, 1], [0, 1], [1, 0], [1, 0], [0, 1], [1, 0...</td>\n",
              "    </tr>\n",
              "  </tbody>\n",
              "</table>\n",
              "</div>\n",
              "      <button class=\"colab-df-convert\" onclick=\"convertToInteractive('df-25582e23-d0c1-42df-985c-893c15431a83')\"\n",
              "              title=\"Convert this dataframe to an interactive table.\"\n",
              "              style=\"display:none;\">\n",
              "        \n",
              "  <svg xmlns=\"http://www.w3.org/2000/svg\" height=\"24px\"viewBox=\"0 0 24 24\"\n",
              "       width=\"24px\">\n",
              "    <path d=\"M0 0h24v24H0V0z\" fill=\"none\"/>\n",
              "    <path d=\"M18.56 5.44l.94 2.06.94-2.06 2.06-.94-2.06-.94-.94-2.06-.94 2.06-2.06.94zm-11 1L8.5 8.5l.94-2.06 2.06-.94-2.06-.94L8.5 2.5l-.94 2.06-2.06.94zm10 10l.94 2.06.94-2.06 2.06-.94-2.06-.94-.94-2.06-.94 2.06-2.06.94z\"/><path d=\"M17.41 7.96l-1.37-1.37c-.4-.4-.92-.59-1.43-.59-.52 0-1.04.2-1.43.59L10.3 9.45l-7.72 7.72c-.78.78-.78 2.05 0 2.83L4 21.41c.39.39.9.59 1.41.59.51 0 1.02-.2 1.41-.59l7.78-7.78 2.81-2.81c.8-.78.8-2.07 0-2.86zM5.41 20L4 18.59l7.72-7.72 1.47 1.35L5.41 20z\"/>\n",
              "  </svg>\n",
              "      </button>\n",
              "      \n",
              "  <style>\n",
              "    .colab-df-container {\n",
              "      display:flex;\n",
              "      flex-wrap:wrap;\n",
              "      gap: 12px;\n",
              "    }\n",
              "\n",
              "    .colab-df-convert {\n",
              "      background-color: #E8F0FE;\n",
              "      border: none;\n",
              "      border-radius: 50%;\n",
              "      cursor: pointer;\n",
              "      display: none;\n",
              "      fill: #1967D2;\n",
              "      height: 32px;\n",
              "      padding: 0 0 0 0;\n",
              "      width: 32px;\n",
              "    }\n",
              "\n",
              "    .colab-df-convert:hover {\n",
              "      background-color: #E2EBFA;\n",
              "      box-shadow: 0px 1px 2px rgba(60, 64, 67, 0.3), 0px 1px 3px 1px rgba(60, 64, 67, 0.15);\n",
              "      fill: #174EA6;\n",
              "    }\n",
              "\n",
              "    [theme=dark] .colab-df-convert {\n",
              "      background-color: #3B4455;\n",
              "      fill: #D2E3FC;\n",
              "    }\n",
              "\n",
              "    [theme=dark] .colab-df-convert:hover {\n",
              "      background-color: #434B5C;\n",
              "      box-shadow: 0px 1px 3px 1px rgba(0, 0, 0, 0.15);\n",
              "      filter: drop-shadow(0px 1px 2px rgba(0, 0, 0, 0.3));\n",
              "      fill: #FFFFFF;\n",
              "    }\n",
              "  </style>\n",
              "\n",
              "      <script>\n",
              "        const buttonEl =\n",
              "          document.querySelector('#df-25582e23-d0c1-42df-985c-893c15431a83 button.colab-df-convert');\n",
              "        buttonEl.style.display =\n",
              "          google.colab.kernel.accessAllowed ? 'block' : 'none';\n",
              "\n",
              "        async function convertToInteractive(key) {\n",
              "          const element = document.querySelector('#df-25582e23-d0c1-42df-985c-893c15431a83');\n",
              "          const dataTable =\n",
              "            await google.colab.kernel.invokeFunction('convertToInteractive',\n",
              "                                                     [key], {});\n",
              "          if (!dataTable) return;\n",
              "\n",
              "          const docLinkHtml = 'Like what you see? Visit the ' +\n",
              "            '<a target=\"_blank\" href=https://colab.research.google.com/notebooks/data_table.ipynb>data table notebook</a>'\n",
              "            + ' to learn more about interactive tables.';\n",
              "          element.innerHTML = '';\n",
              "          dataTable['output_type'] = 'display_data';\n",
              "          await google.colab.output.renderOutput(dataTable, element);\n",
              "          const docLink = document.createElement('div');\n",
              "          docLink.innerHTML = docLinkHtml;\n",
              "          element.appendChild(docLink);\n",
              "        }\n",
              "      </script>\n",
              "    </div>\n",
              "  </div>\n",
              "  "
            ]
          },
          "metadata": {},
          "execution_count": 15
        }
      ],
      "source": [
        "data1.head()"
      ]
    },
    {
      "cell_type": "code",
      "execution_count": 16,
      "metadata": {
        "colab": {
          "base_uri": "https://localhost:8080/"
        },
        "id": "GoTToCnOinX3",
        "outputId": "31108666-3730-4966-fefc-f1e36c6017fb"
      },
      "outputs": [
        {
          "output_type": "execute_result",
          "data": {
            "text/plain": [
              "True     1159\n",
              "False    1159\n",
              "Name: Label, dtype: int64"
            ]
          },
          "metadata": {},
          "execution_count": 16
        }
      ],
      "source": [
        "data1[\"Label\"].value_counts()\n"
      ]
    },
    {
      "cell_type": "code",
      "execution_count": 17,
      "metadata": {
        "colab": {
          "base_uri": "https://localhost:8080/"
        },
        "id": "jMDA7BeuinX3",
        "outputId": "f65afb5a-b0d3-4a2a-b098-97c78b10da5e"
      },
      "outputs": [
        {
          "output_type": "execute_result",
          "data": {
            "text/plain": [
              "0       [[1, 0], [0, 0], [1, 1], [0, 1], [0, 1], [0, 1...\n",
              "1       [[1, 0], [1, 1], [0, 1], [0, 0], [0, 1], [1, 1...\n",
              "2       [[1, 0], [1, 1], [0, 1], [0, 0], [0, 1], [1, 1...\n",
              "3       [[1, 0], [0, 1], [1, 0], [1, 0], [0, 0], [0, 0...\n",
              "4       [[1, 1], [0, 1], [1, 0], [1, 0], [0, 1], [1, 0...\n",
              "                              ...                        \n",
              "2313    [[0, 0], [1, 0], [1, 0], [0, 0], [1, 0], [0, 0...\n",
              "2314    [[1, 0], [1, 1], [1, 0], [1, 0], [0, 0], [0, 0...\n",
              "2315    [[0, 0], [0, 1], [0, 0], [1, 0], [0, 0], [0, 0...\n",
              "2316    [[0, 0], [0, 0], [1, 1], [0, 1], [1, 1], [1, 0...\n",
              "2317    [[0, 0], [0, 1], [1, 1], [0, 1], [1, 1], [1, 1...\n",
              "Name: C2_encoding, Length: 2318, dtype: object"
            ]
          },
          "metadata": {},
          "execution_count": 17
        }
      ],
      "source": [
        "# gapped kmer in the sequence\n",
        "import itertools\n",
        "def gapped_kmer(sequence, k=6, g=2):\n",
        "    encoding = []\n",
        "    freq_dict = {}\n",
        "    for i in range(len(sequence) - k + 1):\n",
        "        encoding.append(sequence[i:i+k])\n",
        "    return encoding, freq_dict\n",
        "\n",
        "def get_kmer_frequencies(seq,k):\n",
        "    freq_dict = {}\n",
        "    l=['A','T','C','G']\n",
        "    repetitions = k\n",
        "    combinations = list(itertools.product(l, repeat=repetitions))\n",
        "    for i in combinations:\n",
        "        se=''.join(list(i))\n",
        "        fo=seq.count(se)\n",
        "        freq_dict[se]=fo\n",
        "    total_kmers = len(seq) - k + 1\n",
        "    for kmer in freq_dict:\n",
        "        freq_dict[kmer] /= total_kmers\n",
        "    return freq_dict\n",
        "\n",
        "    \n",
        "                \n",
        "\n",
        "\n",
        "data1['gapped_kmer'] = data1['Sequence'].apply(gapped_kmer)\n",
        "data1[\"kmer_frequencies_tri\"] = data1[\"Sequence\"].apply(get_kmer_frequencies, k=3)\n",
        "data1[\"kmer_frequencies_di\"] = data1[\"Sequence\"].apply(get_kmer_frequencies, k=2)\n",
        "data1[\"C2_encoding\"]"
      ]
    },
    {
      "cell_type": "code",
      "execution_count": 18,
      "metadata": {
        "id": "Q6VysrswinX4"
      },
      "outputs": [],
      "source": [
        "def atg_freq(sequence):\n",
        "    total_atg = sequence.count('ATG')\n",
        "    \n",
        "        \n",
        "    return total_atg\n",
        "def atg_features(sequence):\n",
        "    inframe_atg = 0\n",
        "    for i in range(len(sequence)):\n",
        "        if i % 3 == 0 and sequence[i:i+3] == 'ATG': \n",
        "            inframe_atg += 1\n",
        "    return inframe_atg\n",
        "\n",
        "\n",
        "data1['atg_freq'] = data1['Sequence'].apply(atg_freq)\n",
        "data1[\"atg_features\"]=data1['Sequence'].apply(atg_features)"
      ]
    },
    {
      "cell_type": "code",
      "execution_count": 19,
      "metadata": {
        "colab": {
          "base_uri": "https://localhost:8080/",
          "height": 733
        },
        "id": "ydsGyWUTinX5",
        "outputId": "a9e62235-97e7-49dd-e135-bbd8921c3c7b"
      },
      "outputs": [
        {
          "output_type": "execute_result",
          "data": {
            "text/plain": [
              "                                            Sequence  Label  len  \\\n",
              "0  GATCCCTGCGGCGTTCGCGAGGGTGGGACGGGAAGCGGGCTGGGAA...   True  399   \n",
              "1  GTCACTGCCCTCGCGGCCAATCCAAGGGCTGCGCGCGTGTCCCTTA...   True  399   \n",
              "2  GTCACTGTCCTCGGGGCCAATCCAAGGGCTGCGCGCGTGTCCCTTA...   True  399   \n",
              "3  GCGGAAAACGGCAGGAGGAGAGCCAATCCCGAGGGTCGGCGGACGC...   True  399   \n",
              "4  TCGGCGGTGGAACCGCCAGTCCGGGGTCACAGAGCTTGAGAAGCGA...   True  399   \n",
              "\n",
              "                                         C2_encoding  \\\n",
              "0  [[1, 0], [0, 0], [1, 1], [0, 1], [0, 1], [0, 1...   \n",
              "1  [[1, 0], [1, 1], [0, 1], [0, 0], [0, 1], [1, 1...   \n",
              "2  [[1, 0], [1, 1], [0, 1], [0, 0], [0, 1], [1, 1...   \n",
              "3  [[1, 0], [0, 1], [1, 0], [1, 0], [0, 0], [0, 0...   \n",
              "4  [[1, 1], [0, 1], [1, 0], [1, 0], [0, 1], [1, 0...   \n",
              "\n",
              "                                         gapped_kmer  atg_freq  atg_features  \\\n",
              "0  ([GATCCC, ATCCCT, TCCCTG, CCCTGC, CCTGCG, CTGC...         2             1   \n",
              "1  ([GTCACT, TCACTG, CACTGC, ACTGCC, CTGCCC, TGCC...         2             1   \n",
              "2  ([GTCACT, TCACTG, CACTGT, ACTGTC, CTGTCC, TGTC...         2             1   \n",
              "3  ([GCGGAA, CGGAAA, GGAAAA, GAAAAC, AAAACG, AAAC...         1             1   \n",
              "4  ([TCGGCG, CGGCGG, GGCGGT, GCGGTG, CGGTGG, GGTG...         1             1   \n",
              "\n",
              "         AA        AT        AC  ...       GTC       GTG       GCA       GCT  \\\n",
              "0  0.022613  0.025126  0.025126  ...  0.017632  0.022670  0.010076  0.027708   \n",
              "1  0.027638  0.010050  0.030151  ...  0.017632  0.022670  0.015113  0.015113   \n",
              "2  0.027638  0.012563  0.032663  ...  0.015113  0.025189  0.015113  0.017632   \n",
              "3  0.025126  0.010050  0.037688  ...  0.020151  0.020151  0.015113  0.010076   \n",
              "4  0.015075  0.012563  0.035176  ...  0.017632  0.010076  0.012594  0.017632   \n",
              "\n",
              "        GCC       GCG       GGA       GGT       GGC       GGG  \n",
              "0  0.022670  0.027708  0.027708  0.035264  0.020151  0.052897  \n",
              "1  0.052897  0.062972  0.022670  0.020151  0.060453  0.030227  \n",
              "2  0.045340  0.068010  0.022670  0.020151  0.062972  0.035264  \n",
              "3  0.040302  0.078086  0.030227  0.035264  0.080605  0.045340  \n",
              "4  0.068010  0.025189  0.015113  0.012594  0.017632  0.015113  \n",
              "\n",
              "[5 rows x 87 columns]"
            ],
            "text/html": [
              "\n",
              "  <div id=\"df-29aa76b8-7cb2-4f75-9d62-2a0b67466dc9\">\n",
              "    <div class=\"colab-df-container\">\n",
              "      <div>\n",
              "<style scoped>\n",
              "    .dataframe tbody tr th:only-of-type {\n",
              "        vertical-align: middle;\n",
              "    }\n",
              "\n",
              "    .dataframe tbody tr th {\n",
              "        vertical-align: top;\n",
              "    }\n",
              "\n",
              "    .dataframe thead th {\n",
              "        text-align: right;\n",
              "    }\n",
              "</style>\n",
              "<table border=\"1\" class=\"dataframe\">\n",
              "  <thead>\n",
              "    <tr style=\"text-align: right;\">\n",
              "      <th></th>\n",
              "      <th>Sequence</th>\n",
              "      <th>Label</th>\n",
              "      <th>len</th>\n",
              "      <th>C2_encoding</th>\n",
              "      <th>gapped_kmer</th>\n",
              "      <th>atg_freq</th>\n",
              "      <th>atg_features</th>\n",
              "      <th>AA</th>\n",
              "      <th>AT</th>\n",
              "      <th>AC</th>\n",
              "      <th>...</th>\n",
              "      <th>GTC</th>\n",
              "      <th>GTG</th>\n",
              "      <th>GCA</th>\n",
              "      <th>GCT</th>\n",
              "      <th>GCC</th>\n",
              "      <th>GCG</th>\n",
              "      <th>GGA</th>\n",
              "      <th>GGT</th>\n",
              "      <th>GGC</th>\n",
              "      <th>GGG</th>\n",
              "    </tr>\n",
              "  </thead>\n",
              "  <tbody>\n",
              "    <tr>\n",
              "      <th>0</th>\n",
              "      <td>GATCCCTGCGGCGTTCGCGAGGGTGGGACGGGAAGCGGGCTGGGAA...</td>\n",
              "      <td>True</td>\n",
              "      <td>399</td>\n",
              "      <td>[[1, 0], [0, 0], [1, 1], [0, 1], [0, 1], [0, 1...</td>\n",
              "      <td>([GATCCC, ATCCCT, TCCCTG, CCCTGC, CCTGCG, CTGC...</td>\n",
              "      <td>2</td>\n",
              "      <td>1</td>\n",
              "      <td>0.022613</td>\n",
              "      <td>0.025126</td>\n",
              "      <td>0.025126</td>\n",
              "      <td>...</td>\n",
              "      <td>0.017632</td>\n",
              "      <td>0.022670</td>\n",
              "      <td>0.010076</td>\n",
              "      <td>0.027708</td>\n",
              "      <td>0.022670</td>\n",
              "      <td>0.027708</td>\n",
              "      <td>0.027708</td>\n",
              "      <td>0.035264</td>\n",
              "      <td>0.020151</td>\n",
              "      <td>0.052897</td>\n",
              "    </tr>\n",
              "    <tr>\n",
              "      <th>1</th>\n",
              "      <td>GTCACTGCCCTCGCGGCCAATCCAAGGGCTGCGCGCGTGTCCCTTA...</td>\n",
              "      <td>True</td>\n",
              "      <td>399</td>\n",
              "      <td>[[1, 0], [1, 1], [0, 1], [0, 0], [0, 1], [1, 1...</td>\n",
              "      <td>([GTCACT, TCACTG, CACTGC, ACTGCC, CTGCCC, TGCC...</td>\n",
              "      <td>2</td>\n",
              "      <td>1</td>\n",
              "      <td>0.027638</td>\n",
              "      <td>0.010050</td>\n",
              "      <td>0.030151</td>\n",
              "      <td>...</td>\n",
              "      <td>0.017632</td>\n",
              "      <td>0.022670</td>\n",
              "      <td>0.015113</td>\n",
              "      <td>0.015113</td>\n",
              "      <td>0.052897</td>\n",
              "      <td>0.062972</td>\n",
              "      <td>0.022670</td>\n",
              "      <td>0.020151</td>\n",
              "      <td>0.060453</td>\n",
              "      <td>0.030227</td>\n",
              "    </tr>\n",
              "    <tr>\n",
              "      <th>2</th>\n",
              "      <td>GTCACTGTCCTCGGGGCCAATCCAAGGGCTGCGCGCGTGTCCCTTA...</td>\n",
              "      <td>True</td>\n",
              "      <td>399</td>\n",
              "      <td>[[1, 0], [1, 1], [0, 1], [0, 0], [0, 1], [1, 1...</td>\n",
              "      <td>([GTCACT, TCACTG, CACTGT, ACTGTC, CTGTCC, TGTC...</td>\n",
              "      <td>2</td>\n",
              "      <td>1</td>\n",
              "      <td>0.027638</td>\n",
              "      <td>0.012563</td>\n",
              "      <td>0.032663</td>\n",
              "      <td>...</td>\n",
              "      <td>0.015113</td>\n",
              "      <td>0.025189</td>\n",
              "      <td>0.015113</td>\n",
              "      <td>0.017632</td>\n",
              "      <td>0.045340</td>\n",
              "      <td>0.068010</td>\n",
              "      <td>0.022670</td>\n",
              "      <td>0.020151</td>\n",
              "      <td>0.062972</td>\n",
              "      <td>0.035264</td>\n",
              "    </tr>\n",
              "    <tr>\n",
              "      <th>3</th>\n",
              "      <td>GCGGAAAACGGCAGGAGGAGAGCCAATCCCGAGGGTCGGCGGACGC...</td>\n",
              "      <td>True</td>\n",
              "      <td>399</td>\n",
              "      <td>[[1, 0], [0, 1], [1, 0], [1, 0], [0, 0], [0, 0...</td>\n",
              "      <td>([GCGGAA, CGGAAA, GGAAAA, GAAAAC, AAAACG, AAAC...</td>\n",
              "      <td>1</td>\n",
              "      <td>1</td>\n",
              "      <td>0.025126</td>\n",
              "      <td>0.010050</td>\n",
              "      <td>0.037688</td>\n",
              "      <td>...</td>\n",
              "      <td>0.020151</td>\n",
              "      <td>0.020151</td>\n",
              "      <td>0.015113</td>\n",
              "      <td>0.010076</td>\n",
              "      <td>0.040302</td>\n",
              "      <td>0.078086</td>\n",
              "      <td>0.030227</td>\n",
              "      <td>0.035264</td>\n",
              "      <td>0.080605</td>\n",
              "      <td>0.045340</td>\n",
              "    </tr>\n",
              "    <tr>\n",
              "      <th>4</th>\n",
              "      <td>TCGGCGGTGGAACCGCCAGTCCGGGGTCACAGAGCTTGAGAAGCGA...</td>\n",
              "      <td>True</td>\n",
              "      <td>399</td>\n",
              "      <td>[[1, 1], [0, 1], [1, 0], [1, 0], [0, 1], [1, 0...</td>\n",
              "      <td>([TCGGCG, CGGCGG, GGCGGT, GCGGTG, CGGTGG, GGTG...</td>\n",
              "      <td>1</td>\n",
              "      <td>1</td>\n",
              "      <td>0.015075</td>\n",
              "      <td>0.012563</td>\n",
              "      <td>0.035176</td>\n",
              "      <td>...</td>\n",
              "      <td>0.017632</td>\n",
              "      <td>0.010076</td>\n",
              "      <td>0.012594</td>\n",
              "      <td>0.017632</td>\n",
              "      <td>0.068010</td>\n",
              "      <td>0.025189</td>\n",
              "      <td>0.015113</td>\n",
              "      <td>0.012594</td>\n",
              "      <td>0.017632</td>\n",
              "      <td>0.015113</td>\n",
              "    </tr>\n",
              "  </tbody>\n",
              "</table>\n",
              "<p>5 rows × 87 columns</p>\n",
              "</div>\n",
              "      <button class=\"colab-df-convert\" onclick=\"convertToInteractive('df-29aa76b8-7cb2-4f75-9d62-2a0b67466dc9')\"\n",
              "              title=\"Convert this dataframe to an interactive table.\"\n",
              "              style=\"display:none;\">\n",
              "        \n",
              "  <svg xmlns=\"http://www.w3.org/2000/svg\" height=\"24px\"viewBox=\"0 0 24 24\"\n",
              "       width=\"24px\">\n",
              "    <path d=\"M0 0h24v24H0V0z\" fill=\"none\"/>\n",
              "    <path d=\"M18.56 5.44l.94 2.06.94-2.06 2.06-.94-2.06-.94-.94-2.06-.94 2.06-2.06.94zm-11 1L8.5 8.5l.94-2.06 2.06-.94-2.06-.94L8.5 2.5l-.94 2.06-2.06.94zm10 10l.94 2.06.94-2.06 2.06-.94-2.06-.94-.94-2.06-.94 2.06-2.06.94z\"/><path d=\"M17.41 7.96l-1.37-1.37c-.4-.4-.92-.59-1.43-.59-.52 0-1.04.2-1.43.59L10.3 9.45l-7.72 7.72c-.78.78-.78 2.05 0 2.83L4 21.41c.39.39.9.59 1.41.59.51 0 1.02-.2 1.41-.59l7.78-7.78 2.81-2.81c.8-.78.8-2.07 0-2.86zM5.41 20L4 18.59l7.72-7.72 1.47 1.35L5.41 20z\"/>\n",
              "  </svg>\n",
              "      </button>\n",
              "      \n",
              "  <style>\n",
              "    .colab-df-container {\n",
              "      display:flex;\n",
              "      flex-wrap:wrap;\n",
              "      gap: 12px;\n",
              "    }\n",
              "\n",
              "    .colab-df-convert {\n",
              "      background-color: #E8F0FE;\n",
              "      border: none;\n",
              "      border-radius: 50%;\n",
              "      cursor: pointer;\n",
              "      display: none;\n",
              "      fill: #1967D2;\n",
              "      height: 32px;\n",
              "      padding: 0 0 0 0;\n",
              "      width: 32px;\n",
              "    }\n",
              "\n",
              "    .colab-df-convert:hover {\n",
              "      background-color: #E2EBFA;\n",
              "      box-shadow: 0px 1px 2px rgba(60, 64, 67, 0.3), 0px 1px 3px 1px rgba(60, 64, 67, 0.15);\n",
              "      fill: #174EA6;\n",
              "    }\n",
              "\n",
              "    [theme=dark] .colab-df-convert {\n",
              "      background-color: #3B4455;\n",
              "      fill: #D2E3FC;\n",
              "    }\n",
              "\n",
              "    [theme=dark] .colab-df-convert:hover {\n",
              "      background-color: #434B5C;\n",
              "      box-shadow: 0px 1px 3px 1px rgba(0, 0, 0, 0.15);\n",
              "      filter: drop-shadow(0px 1px 2px rgba(0, 0, 0, 0.3));\n",
              "      fill: #FFFFFF;\n",
              "    }\n",
              "  </style>\n",
              "\n",
              "      <script>\n",
              "        const buttonEl =\n",
              "          document.querySelector('#df-29aa76b8-7cb2-4f75-9d62-2a0b67466dc9 button.colab-df-convert');\n",
              "        buttonEl.style.display =\n",
              "          google.colab.kernel.accessAllowed ? 'block' : 'none';\n",
              "\n",
              "        async function convertToInteractive(key) {\n",
              "          const element = document.querySelector('#df-29aa76b8-7cb2-4f75-9d62-2a0b67466dc9');\n",
              "          const dataTable =\n",
              "            await google.colab.kernel.invokeFunction('convertToInteractive',\n",
              "                                                     [key], {});\n",
              "          if (!dataTable) return;\n",
              "\n",
              "          const docLinkHtml = 'Like what you see? Visit the ' +\n",
              "            '<a target=\"_blank\" href=https://colab.research.google.com/notebooks/data_table.ipynb>data table notebook</a>'\n",
              "            + ' to learn more about interactive tables.';\n",
              "          element.innerHTML = '';\n",
              "          dataTable['output_type'] = 'display_data';\n",
              "          await google.colab.output.renderOutput(dataTable, element);\n",
              "          const docLink = document.createElement('div');\n",
              "          docLink.innerHTML = docLinkHtml;\n",
              "          element.appendChild(docLink);\n",
              "        }\n",
              "      </script>\n",
              "    </div>\n",
              "  </div>\n",
              "  "
            ]
          },
          "metadata": {},
          "execution_count": 19
        }
      ],
      "source": [
        "\n",
        "# split kmer_frequencies keys as columns\n",
        "data1 = pd.concat([data1, data1['kmer_frequencies_di'].apply(pd.Series)], axis=1)\n",
        "data1 = pd.concat([data1, data1['kmer_frequencies_tri'].apply(pd.Series)], axis=1)\n",
        "data1.drop('kmer_frequencies_tri', axis=1, inplace=True)\n",
        "data1.drop('kmer_frequencies_di', axis=1, inplace=True)\n",
        "# replace nan  with 0\n",
        "data1.fillna(0, inplace=True)\n",
        "data1.head()\n"
      ]
    },
    {
      "cell_type": "code",
      "execution_count": 20,
      "metadata": {
        "colab": {
          "base_uri": "https://localhost:8080/"
        },
        "id": "CCJdraBkinX6",
        "outputId": "4cb8d469-b4ee-4a79-995d-52560aafd5c4"
      },
      "outputs": [
        {
          "output_type": "execute_result",
          "data": {
            "text/plain": [
              "(2318, 87)"
            ]
          },
          "metadata": {},
          "execution_count": 20
        }
      ],
      "source": [
        "# check the len of gapped_kmer\n",
        "data1['gapped_kmer'].apply(len).unique()\n",
        "# label encoding of the label column\n",
        "from sklearn.preprocessing import LabelEncoder\n",
        "le = LabelEncoder()\n",
        "data1['Label'] = le.fit_transform(data1['Label'])\n",
        "data1.head()\n",
        "data1.shape\n"
      ]
    },
    {
      "cell_type": "code",
      "execution_count": 21,
      "metadata": {
        "colab": {
          "base_uri": "https://localhost:8080/"
        },
        "id": "IJFAbu0XinX6",
        "outputId": "8e51de28-2de1-43bb-d1cb-a558ffbe038d"
      },
      "outputs": [
        {
          "output_type": "execute_result",
          "data": {
            "text/plain": [
              "1    1159\n",
              "0    1159\n",
              "Name: Label, dtype: int64"
            ]
          },
          "metadata": {},
          "execution_count": 21
        }
      ],
      "source": [
        "data1['Label'].value_counts()"
      ]
    },
    {
      "cell_type": "code",
      "execution_count": 22,
      "metadata": {
        "colab": {
          "base_uri": "https://localhost:8080/"
        },
        "id": "sjv5YaMfinX7",
        "outputId": "2cc87922-9c93-4cbb-d79c-5c37fd68257c"
      },
      "outputs": [
        {
          "output_type": "stream",
          "name": "stdout",
          "text": [
            "<class 'pandas.core.frame.DataFrame'>\n",
            "Int64Index: 2318 entries, 0 to 2317\n",
            "Data columns (total 87 columns):\n",
            " #   Column        Non-Null Count  Dtype  \n",
            "---  ------        --------------  -----  \n",
            " 0   Sequence      2318 non-null   object \n",
            " 1   Label         2318 non-null   int64  \n",
            " 2   len           2318 non-null   int64  \n",
            " 3   C2_encoding   2318 non-null   object \n",
            " 4   gapped_kmer   2318 non-null   object \n",
            " 5   atg_freq      2318 non-null   float64\n",
            " 6   atg_features  2318 non-null   float64\n",
            " 7   AA            2318 non-null   float64\n",
            " 8   AT            2318 non-null   float64\n",
            " 9   AC            2318 non-null   float64\n",
            " 10  AG            2318 non-null   float64\n",
            " 11  TA            2318 non-null   float64\n",
            " 12  TT            2318 non-null   float64\n",
            " 13  TC            2318 non-null   float64\n",
            " 14  TG            2318 non-null   float64\n",
            " 15  CA            2318 non-null   float64\n",
            " 16  CT            2318 non-null   float64\n",
            " 17  CC            2318 non-null   float64\n",
            " 18  CG            2318 non-null   float64\n",
            " 19  GA            2318 non-null   float64\n",
            " 20  GT            2318 non-null   float64\n",
            " 21  GC            2318 non-null   float64\n",
            " 22  GG            2318 non-null   float64\n",
            " 23  AAA           2318 non-null   float64\n",
            " 24  AAT           2318 non-null   float64\n",
            " 25  AAC           2318 non-null   float64\n",
            " 26  AAG           2318 non-null   float64\n",
            " 27  ATA           2318 non-null   float64\n",
            " 28  ATT           2318 non-null   float64\n",
            " 29  ATC           2318 non-null   float64\n",
            " 30  ATG           2318 non-null   float64\n",
            " 31  ACA           2318 non-null   float64\n",
            " 32  ACT           2318 non-null   float64\n",
            " 33  ACC           2318 non-null   float64\n",
            " 34  ACG           2318 non-null   float64\n",
            " 35  AGA           2318 non-null   float64\n",
            " 36  AGT           2318 non-null   float64\n",
            " 37  AGC           2318 non-null   float64\n",
            " 38  AGG           2318 non-null   float64\n",
            " 39  TAA           2318 non-null   float64\n",
            " 40  TAT           2318 non-null   float64\n",
            " 41  TAC           2318 non-null   float64\n",
            " 42  TAG           2318 non-null   float64\n",
            " 43  TTA           2318 non-null   float64\n",
            " 44  TTT           2318 non-null   float64\n",
            " 45  TTC           2318 non-null   float64\n",
            " 46  TTG           2318 non-null   float64\n",
            " 47  TCA           2318 non-null   float64\n",
            " 48  TCT           2318 non-null   float64\n",
            " 49  TCC           2318 non-null   float64\n",
            " 50  TCG           2318 non-null   float64\n",
            " 51  TGA           2318 non-null   float64\n",
            " 52  TGT           2318 non-null   float64\n",
            " 53  TGC           2318 non-null   float64\n",
            " 54  TGG           2318 non-null   float64\n",
            " 55  CAA           2318 non-null   float64\n",
            " 56  CAT           2318 non-null   float64\n",
            " 57  CAC           2318 non-null   float64\n",
            " 58  CAG           2318 non-null   float64\n",
            " 59  CTA           2318 non-null   float64\n",
            " 60  CTT           2318 non-null   float64\n",
            " 61  CTC           2318 non-null   float64\n",
            " 62  CTG           2318 non-null   float64\n",
            " 63  CCA           2318 non-null   float64\n",
            " 64  CCT           2318 non-null   float64\n",
            " 65  CCC           2318 non-null   float64\n",
            " 66  CCG           2318 non-null   float64\n",
            " 67  CGA           2318 non-null   float64\n",
            " 68  CGT           2318 non-null   float64\n",
            " 69  CGC           2318 non-null   float64\n",
            " 70  CGG           2318 non-null   float64\n",
            " 71  GAA           2318 non-null   float64\n",
            " 72  GAT           2318 non-null   float64\n",
            " 73  GAC           2318 non-null   float64\n",
            " 74  GAG           2318 non-null   float64\n",
            " 75  GTA           2318 non-null   float64\n",
            " 76  GTT           2318 non-null   float64\n",
            " 77  GTC           2318 non-null   float64\n",
            " 78  GTG           2318 non-null   float64\n",
            " 79  GCA           2318 non-null   float64\n",
            " 80  GCT           2318 non-null   float64\n",
            " 81  GCC           2318 non-null   float64\n",
            " 82  GCG           2318 non-null   float64\n",
            " 83  GGA           2318 non-null   float64\n",
            " 84  GGT           2318 non-null   float64\n",
            " 85  GGC           2318 non-null   float64\n",
            " 86  GGG           2318 non-null   float64\n",
            "dtypes: float64(82), int64(2), object(3)\n",
            "memory usage: 1.6+ MB\n"
          ]
        }
      ],
      "source": [
        "# pca on di kmer and tri kmer \n",
        "from sklearn.decomposition import PCA\n",
        "from sklearn.preprocessing import StandardScaler\n",
        "pca = PCA(n_components=20)\n",
        "scaler = StandardScaler()\n",
        "data1.iloc[:, 5:] = scaler.fit_transform(data1.iloc[:, 5:])\n",
        "features = pca.fit_transform(data1.iloc[:, 5:])\n",
        "\n",
        "data1.info()"
      ]
    },
    {
      "cell_type": "code",
      "execution_count": 23,
      "metadata": {
        "colab": {
          "base_uri": "https://localhost:8080/"
        },
        "id": "a37Y5kNMinX7",
        "outputId": "9e045a81-ea5e-4299-d30e-c94a05fc8460"
      },
      "outputs": [
        {
          "output_type": "execute_result",
          "data": {
            "text/plain": [
              "array([[ 8.04896459, -0.2641255 , -3.87244628, ..., -1.52411624,\n",
              "        -1.2274092 ,  0.37778181],\n",
              "       [10.13144179,  0.09454052,  0.73835181, ...,  0.21358044,\n",
              "         0.43814929, -1.00237876],\n",
              "       [ 9.81191092, -0.33375663,  1.31085388, ...,  0.1639112 ,\n",
              "         0.98373789, -0.30890143],\n",
              "       ...,\n",
              "       [-5.39280107, -3.98038722, -1.52085195, ..., -0.51013481,\n",
              "        -0.25479981,  0.44754379],\n",
              "       [-4.3077427 , -5.08535294, -1.70341944, ...,  0.11249996,\n",
              "        -0.38882822,  0.38075344],\n",
              "       [-4.17209458, -5.34778033, -1.91432365, ...,  0.1892315 ,\n",
              "        -0.48250368,  0.23703247]])"
            ]
          },
          "metadata": {},
          "execution_count": 23
        }
      ],
      "source": [
        "features"
      ]
    },
    {
      "cell_type": "code",
      "execution_count": 24,
      "metadata": {
        "id": "OJYCRc_-inX7"
      },
      "outputs": [],
      "source": [
        "import csv\n",
        "\n",
        "with open('mmc1.csv', 'r') as file:\n",
        "    reader = csv.DictReader(file)\n",
        "    h=[]\n",
        "    for row in reader:\n",
        "        if row['Label'] == 'True':\n",
        "            h.append(1)\n",
        "        else:\n",
        "            h.append(0)\n"
      ]
    },
    {
      "cell_type": "code",
      "execution_count": 25,
      "metadata": {
        "colab": {
          "base_uri": "https://localhost:8080/"
        },
        "id": "qCJEs8weinX8",
        "outputId": "aa09cb92-158f-4f59-c1d4-46bf8b1bdf80"
      },
      "outputs": [
        {
          "output_type": "stream",
          "name": "stdout",
          "text": [
            "[0, 1, 0, 0, 0, 0, 1, 0, 0, 1, 1, 1, 1, 1, 0, 0, 0, 0, 0, 0, 1, 0, 1, 1, 1, 1, 1, 1, 1, 0, 1, 1, 0, 1, 0, 1, 1, 0, 1, 0, 1, 0, 0, 0, 1, 1, 0, 1, 0, 0, 0, 1, 1, 1, 1, 1, 0, 0, 0, 0, 0, 0, 1, 0, 0, 1, 1, 1, 1, 1, 1, 1, 1, 0, 0, 0, 0, 0, 1, 0, 1, 0, 0, 0, 1, 1, 0, 0, 1, 1, 1, 1, 1, 1, 1, 1, 1, 1, 0, 0, 1, 1, 0, 1, 1, 1, 1, 1, 0, 0, 0, 1, 0, 0, 0, 1, 1, 0, 0, 0, 1, 0, 0, 0, 1, 0, 0, 0, 0, 1, 1, 1, 0, 1, 0, 1, 1, 0, 1, 1, 0, 0, 0, 1, 1, 1, 0, 0, 1, 0, 1, 1, 1, 0, 0, 0, 0, 1, 1, 1, 0, 0, 1, 1, 0, 0, 1, 0, 0, 0, 0, 0, 1, 1, 1, 1, 0, 1, 1, 0, 1, 0, 0, 1, 0, 0, 1, 1, 0, 0, 0, 1, 0, 0, 1, 1, 0, 0, 1, 0, 0, 0, 1, 0, 1, 1, 0, 1, 0, 1, 1, 1, 1, 1, 0, 1, 1, 0, 0, 1, 0, 0, 0, 0, 1, 1, 1, 1, 1, 1, 1, 0, 1, 1, 1, 1, 0, 1, 1, 1, 1, 1, 1, 0, 1, 0, 1, 0, 1, 0, 1, 1, 1, 1, 1, 0, 1, 1, 0, 0, 0, 0, 1, 0, 1, 1, 1, 0, 0, 0, 1, 0, 0, 1, 1, 1, 1, 0, 0, 1, 0, 0, 1, 1, 1, 0, 1, 0, 1, 1, 0, 0, 0, 0, 1, 0, 0, 1, 0, 0, 0, 0, 0, 0, 1, 0, 0, 0, 0, 0, 0, 1, 0, 1, 0, 1, 1, 1, 0, 1, 1, 0, 1, 0, 1, 1, 1, 0, 0, 0, 1, 1, 0, 0, 0, 0, 0, 0, 1, 1, 1, 0, 1, 0, 1, 1, 1, 1, 1, 0, 0, 0, 0, 0, 1, 0, 0, 0, 0, 0, 1, 1, 0, 1, 0, 1, 1, 0, 1, 1, 0, 1, 1, 0, 1, 0, 0, 0, 0, 1, 0, 1, 1, 1, 1, 1, 0, 1, 1, 0, 0, 0, 0, 1, 1, 1, 0, 0, 0, 0, 1, 0, 1, 1, 1, 0, 1, 1, 1, 1, 0, 1, 0, 0, 0, 1, 1, 1, 0, 1, 1, 1, 1, 0, 0, 1, 1, 0, 0, 1, 0, 1, 0, 0, 1, 1, 1, 0, 0, 0, 1, 1, 0, 1, 0, 1, 1, 0, 1, 1, 1, 0, 1, 1, 1, 0, 0, 1, 0, 1, 0, 1, 1, 0, 0, 0, 1, 0, 0, 0, 1, 0, 1, 0, 0, 1, 0, 1, 1, 1, 0, 1, 1, 0, 1, 0, 0, 0, 1, 1, 1, 1, 1, 1, 1, 1, 0, 1, 1, 0, 0, 1, 1, 1, 1, 0, 1, 1, 1, 1, 0, 0, 1, 1, 1, 1, 1, 1, 1, 1, 1, 1, 0, 1, 0, 1, 0, 0, 1, 0, 0, 0, 0, 0, 1, 1, 0, 1, 0, 0, 0, 1, 0, 1, 0, 0, 1, 0, 0, 0, 0, 1, 0, 0, 0, 1, 1, 0, 0, 0, 1, 1, 1, 1, 1, 1, 0, 0, 0, 0, 1, 1, 1, 1, 0, 0, 1, 1, 0, 0, 1, 0, 1, 1, 1, 0, 0, 1, 1, 0, 1, 1, 1, 0, 1, 0, 0, 1, 0, 1, 0, 1, 0, 0, 0, 1, 1, 0, 0, 0, 1, 1, 0, 1, 0, 1, 0, 0, 1, 1, 1, 1, 0, 0, 1, 0, 0, 1, 0, 1, 1, 0, 0, 1, 0, 1, 1, 0, 0, 0, 0, 1, 0, 1, 0, 0, 0, 0, 0, 1, 0, 0, 1, 1, 0, 0, 0, 1, 0, 0, 1, 0, 0, 1, 0, 0, 0, 0, 1, 0, 0, 1, 1, 0, 1, 0, 0, 1, 1, 0, 1, 0, 0, 1, 1, 0, 0, 1, 0, 1, 1, 0, 1, 0, 1, 0]\n",
            "Accuracy: 0.9813218390804598\n"
          ]
        },
        {
          "output_type": "execute_result",
          "data": {
            "text/plain": [
              "array([[332,  10],\n",
              "       [  3, 351]])"
            ]
          },
          "metadata": {},
          "execution_count": 25
        }
      ],
      "source": [
        "from sklearn.model_selection import train_test_split\n",
        "from sklearn import svm\n",
        "from sklearn.metrics import accuracy_score\n",
        "from sklearn.metrics import confusion_matrix\n",
        "X_train, X_test, y_train, y_test = train_test_split(features, h, test_size=0.3)\n",
        "print(y_test)\n",
        "clf = svm.SVC(kernel='linear', C=1).fit(X_train, y_train)\n",
        "y_pred = clf.predict(X_test)\n",
        "\n",
        "print(\"Accuracy:\", accuracy_score(y_test, y_pred))\n",
        "confusion_matrix(y_test, y_pred)\n",
        "\n",
        "\n",
        "\n"
      ]
    },
    {
      "cell_type": "code",
      "execution_count": 26,
      "metadata": {
        "colab": {
          "base_uri": "https://localhost:8080/"
        },
        "id": "9x4pvfArinX8",
        "outputId": "d1a43ca4-a61b-4572-deff-556ace266159"
      },
      "outputs": [
        {
          "output_type": "stream",
          "name": "stdout",
          "text": [
            "[-22.11443562  11.34346015  10.30358236  14.21404894  -6.19737707\n",
            " -21.402135   -44.22310296  11.04424171  47.42418829  13.85728163\n",
            " -40.86205965 -20.4934404  -31.00708697  11.14296197  19.09536252\n",
            " -18.60371786  12.77816517  12.60719984  -6.15382228   1.62514484]\n"
          ]
        },
        {
          "output_type": "stream",
          "name": "stderr",
          "text": [
            "/usr/local/lib/python3.10/dist-packages/sklearn/base.py:439: UserWarning: X does not have valid feature names, but PCA was fitted with feature names\n",
            "  warnings.warn(\n",
            "/usr/local/lib/python3.10/dist-packages/sklearn/base.py:439: UserWarning: X does not have valid feature names, but PCA was fitted with feature names\n",
            "  warnings.warn(\n",
            "/usr/local/lib/python3.10/dist-packages/sklearn/base.py:439: UserWarning: X does not have valid feature names, but PCA was fitted with feature names\n",
            "  warnings.warn(\n"
          ]
        },
        {
          "output_type": "execute_result",
          "data": {
            "text/plain": [
              "array([1, 1])"
            ]
          },
          "metadata": {},
          "execution_count": 26
        }
      ],
      "source": [
        "def predicting(a):\n",
        "    l=[]\n",
        "    l.append(atg_freq(a))\n",
        "    l.append(atg_features(a))\n",
        "    f2=list(get_kmer_frequencies(a,k=2).values())\n",
        "    f3=list(get_kmer_frequencies(a,k=3).values())\n",
        "    final=l+f2+f3\n",
        "    final=np.array(final)\n",
        "    # my_dataframe=data1.iloc[:, 6:]\n",
        "    # new_dataframe = pd.DataFrame([final], columns=my_dataframe.columns)\n",
        "    # my_dataframe= pd.concat([my_dataframe, new_dataframe], ignore_index=True)\n",
        "    # print(my_dataframe.head())\n",
        "    \n",
        "    # pca = PCA(n_components=20)\n",
        "    last= pca.transform([final])\n",
        "    return last[-1]\n",
        "\n",
        "a=\"AAACAACGTTGCAATGGAATAACTTTGTACATGTCATTTCTCCTGTGTAAAAGGTGTCTATTGGGGAAATTGCTAGAAGTGGCTTTGCTGAGTCTGAGGGTCTGTGCATTTGTGATTTGATCAACATCGTCAAATTATACTGCCACCAGCAATGTATGAAAGTGCTTGTTTTCCCGTAGCTTGGTCAATGAACTATTAGACCTGAGATCTTTAGCCATCCAATATGTGAAAAACTGTAACTTTAGTTTGCATTTGTTTATTGTATGTGAAGTTGAGCATCCTTTCAGAAGTTTAAGGCCTACTCTGTCCTGTCTGGGTCAGAGTATGCCCTTTTATTTTATTTTTAGTTTTAGTTTTTGAGACAGAGTCTCGCTCTGTCACCCAGGCTGGAGTACGGTGGCGCAATCTCGGCTCACTGTAACCTCTGCCTCCCGGGTTCAAGCGATTCTTCTGCCTCAGCCTCCTGAGTAGCTGGGATTACAGGAGCACGCCACCACGCCCGGCTAATTTTTTTTGTATTTTCAATAGAGACGGGGGTTTCACCATGTTGGTCAGGCTGGTCTCGAACTCCTGACCTGATGATCCGCCCGCCTCAGCCTCCCAAAGCGCTGGGATTACAGGCGTGAGCCACCGTGCCCGGCCCTCAGAGTATGCCCTTTTAAAAATCTGTGGGTACACGTAGCCAACTGACATTTTAAGACAAGAGGACCCACAGACCCTCTTTCCACAACGCAGCCCGGGACCTGTCTGTCTGCATCAATAGTGCCTGGCTTTCGGAGCTAGAAAACAGCACCTGCGCGTGGTCGAAGCCTGAACCTCTACTTACAGGTGCGGAGCTTCCGGCTTGCCAGGGGAAGGAGCCCGCCCCTCCCGGCTGCGTGCACCAGCGCAGCTAGTCACGTGACGCCGGGGGCGGGGGCAGATAGGAGGTGCCTGCTGTCATCGTTCCGTGGGCCCTGCTGCGGGCACGCTCTCGGCGCATGCGTTTTTTATGCGGGATTAAGCTTGCTGCTGCGTGACAGCGGAGGGCTAGGAAAAGGCGCAGTGGGGCCCGGAGCTGTCACCCCTGACTCGACGCAGCTTCCGTTCTCCTGGTGACGTGGCCTACAGGAACCGCCCCAGTGGTCAGCTGCCGCGCTGTTGCTAGGCAACAGCGTGCGAGCTCAGATCAGCGTGGGGTGGAGGAGAAGTGGAGTTTGGAAGTTCAGGGGCACAGGGGCACAGGCCCACGACTGCAGCGGGATGGACCAGTACTGCATCCTGGGCCGCATCGGGGAGGGCGCCCACGGCATCGTCTTCAAGGCCAAGCACGTGGAGGTGAGGCTGGACCGCGGCCGGCAGCCTGGCGGGGGTGTGCCCCCGCCACCCTCCGGCTAACGCTCTAAACTGTTTCGGTTCCCTTTTTACATCCAGTACAGTTTTTAAAACCTACTCATATTCTAAACCTACTTTGGGCCGTTGCGCTTCCCTCCGCACAGCTGGCTTGGTCCCCTACCCCAGCGGCTGGGTCCCAGGCTAGTCCTAGACCCCCGAGGAGGGCCTCTGGCCGAGCCGGGGGCGCGTGTCTCTCTCTCAACCACCTTCCCCCCACCCACCTTCATCTCTCTTTCCCAGCCGAGGGTGGGCTGGCAGTGTCTGCCTTCTATCCTGCAGACTGGCGAGATAGTTGCCCTCAAGAAGGTGGCCCTAAGGCGGTTGGAAGACGGCTTCCCTAACCAGGCCCTGCGGGAGATTAAGGCTCTGCAGGAGATGGAGGACAATCAGTATGTGAGTAGGGGAGGGGGGGGCATCGTATTCTCACCCTCAGTCGCTCGTTCCCACTTCTTTGTGCCTTCATTTTCCCAGCTACGCCTTCACCAGCTTTCAGGGATTTCCTCCCGCTGTCACTCACACACACTGCTCATTCATCTGCCTCCTTACCCCCTTTTGCCCTTTTTTGTCCACTTGTTCACCTTTATTTACCTATTTCTTTCATTTCTCACACATTCACTCTCATTTGCCTACTTATTTCTTAATGTATTCATTCATTCACCGACTTTTTTTCTCAAAACATGTAGTGATTTATAATGTAACTAGCACCTATTGAGCTCCCGATGTGTTCTGCAGGCATTATATACATTGTCATTTTGAGACCTCTTTACTACTGTACAAGGCAGGTTTCCAGATCTCTGTTTCTCAGGTGAGAGGAGGAGGTTATGTCACCAGCTCTTGGGCCCTCCGTTAGTCAGTAGAGGGTTTGGCCCAGGTTTGATTGAGAGTCCAGACATTCTTCCCTTGGGACCTCCCATAGGCTCTACCCTGTGTTGGGCACTGGTGACACAGAGAAACCAGCTCCAGCCCAGCTCCTGAGGACTTAAGTGTGCTAACAAGAGACAGAGGCAACAGGGCCCACCTAGTGTGGTTCGTGCTGTGATAGGGTACCGGGAGGGGCTGCTGGAACACGAAGAGGGGCATCTTTCACCCCTAGTGTCATTACTCTTTTGGTGCTCTCTCTCACCCATGTCGAAATAGGGAATGTATTTGACTCCCTGGAGAGTTAACAGGGTTGGGTCTCTGTGATCTGGAGATATGCATGATATATTGGATGACAAAAGCATGTTATAAAATTTTGTGTCATCTGGGTTTTGTTTGGAAATATTATATATGTGAATGTGTATTTGTGTGTGCCATATCTGTTGTAAAGTCTGGTAGAATACACTCTAAGATTGACTGTAGGATTTTTCTTTTGTTCTTTTTCTGTTGGATTTTATGTCTTACCTGAATGTGTGCATGTGTTTTGATCTGTTAAATGGTTGTGTACTACCTGAAAAATCCGAAAACAGCAATCAGGCCATTTTGATTTTTTGAGGAAGATAAAAGGGCTTCCAGACAGCCATGTGTGGGATAGGTGGAGAGATCCATAAGGAAGCTGGTGATATGGTCCCTACATCCAGTTGGTCAGCAATTCTGAAGGTTCTAACTTTAAAACATACTCTAGATTTGCTCCTTGCCCAAGTCATCATCACCACTCATCAGAATGACAGTGGCAGCCTCCCCACTGCTCTCCATAGCCACAGTCCGGAGGGCTTTGTCAAAAGTGTAAGTTAAGTCATCGGCTCCCCTGCGTAAAAAGCCCTGGTGGCTTCTCTTCACACTTAAGAGCACTATCACCATGTGCCCACCTCCAGCTGGCCTCTCCCTTTTCTCTCATTCAACACAACTTCTTAGGCATCTCTCCAGTGACCAGCACCTATCTAGGGTCCAGGAGCACAGAACAAGGCAGACACATCCTTCCCTTAAACAATCTCATGTACTCACATCCCTCTAGCCTCCTTCTGTGCTGGCGTTAGGGCCTTGCACTTGCTTTTCTTCCTGCTCAGAGCTTTATCCCAGATCCCCACAAACTGGGTCCTCATCTAGCCCCACCCCACCTAAATAAAGAAGTATCCTTTTCTCCACTCACAGAATCACACTATCCTCTTCTAGTTCTGTTGATTTTTTTTCTTTTTTTGATACAGGGTCTCACTCTGTCACCCAGGCTGGAGTGTAGAAGTGCGATTTTGTCTCCCTGTAGTCTCAACCTCCTGGGCTCAGGTGATCCTCCCACCTCAGCTTCCCAAGTAGCTAGGACTACAGGCACGTGTCACCATGCCTGGCTAGTTTTTTGTATTTTTTGTAGAGACAAGGTTTCACCATGTTGCCCAGGCTGGTCTCAAACACCTGGGTTCAAGCCATCCGCCCACCTTGGCCTCTCAAAGTACTGGGATTACGGGCATGAGACGTCATGCCCAGCCCCCTTGTATTTTGGTTCCTGTACTTACAGAATCTGAATATATCCCTTTTATTCATTTATTTGTTAAACTGTTTGTCCTTTGTGCTGTGAGTTCATTAAGAGTCCTGTCTCTCAGCTCACTCTCTGTGTAGCCTGGCTCCTCTGACAGTAGTGGCCTCAGTGTTTGTGATGTGTCTGTAGCTGTCCCAGCACTGGGAAAGGTGGGATTCCTGGTGTCCTTTCCTTGGTGCTGGGATTCGGTGGTTCTAGAGGAAACAGGAGGAGACCTGTCCATCTCATGTGTGACCATCCAGATGATTTTCAGGCGGGTAGGCTGGGTGGGCGGACCAGATGGTGCCACTAAATGACCTTTTTTAGACCTTTTAGTGTTCATGGAGAATTAGAGTGGGGGCACACCTTATCTCAGGAGAGCAGAGCAAATCATGAGCATCGAGCTCTCTGATTCTTAGCTCAGGTCCACGTCACCTTCTTTGCTTACTGTCTTTTTGGATACAGGGTCCTCTGTCAGGGCATGGGCTGGGGTCTCAGGGTCACAGAGAGGGTCTGGTGACTTGAGTCTGGGGGCTAACAAGATGTCCTGCCCACAGGTGGTACAACTGAAGGCTGTGTTCCCACACGGTGGAGGCTTTGTGCTGGCCTTTGAGTTCATGCTGTCGGATCTGGCCGAGGTGGTGCGCCATGCCCAGAGGCCACTAGCCCAGGCACAGGTCAAGAGCTACCTGCAGATGCTGCTCAAGGGTGTCGCCTTCTGCCATGCCAACAACATTGTACATCGGGTCAGTCTCAGCATAGGCCGGGCATGGGGTCTGGGGAGCTGACTTGGCTTGGGGATGGGGCTAGCCCTTGTAAAAGGTGTGATAAGAAGTTGGGACAGAGCTGGTCAAGGCCTCCAGGTAAGTGGCCAGGGCATGGCCCTGGAGGAGGTGGGGACCGGGGCTGACCTGAGTGGTTAGACTGCCAAGCCCGCTTGTCCCAAGGTCCTATGGGGGATTTGGAGGGACTGATGCTTCTTTTGGTACTCCCAGGACCTGAAACCTGCCAACCTGCTCATCAGCGCCTCAGGCCAGCTCAAGATAGCGGACTTTGGCCTGGCTCGAGTCTTTTCCCCAGACGGCAGCCGCCTCTACACACACCAGGTGGCCACCAGGTAGGGAGGGCCAGATCCCTTCCAGTCTTCTCCATGGGGAAGAGATGCTTCTGGGCCTTTTCTCCAGACATTGCTTGTGGGGCTGGGGTCACCTCCCCAGGCATCCTTTTCTCAGCCCAGTGCCTGCCAGCCCTCTTCCTCGCAGGTGGTACCGAGCCCCCGAGCTCCTGTATGGTGCCCGCCAGTATGACCAGGGCGTCGATCTGTGGTGAGACCCCTGTGGGTGGTCAAAGGGTAACATGGCTCATGGATTTCTGCTAGGCTCTGAGGTCTCTGAGCTGTTTGGTGGTCTTTTCCCTGGTGGGAGTTTAGGCTTCCTTAAGGGTGTCTTCCCTGGTTGGGGTATTCTGAGCACTTTGGGGTTGGGGTTCCTCACTATGATGTTTTCGAGCTGGGTAGGGGCCAGGTGGGATGAGAATGGTGGTCCCAGGTGGGAAGCTTTCTGGGCTAGATGGGGAGGTGGTCTGAGCCGATATGTGCTGGAGTTAGATCCTAGGATATGGCATCTCTGAGCTGGTCAGAGGCCTGTGTCCTTGGACATGAAAGCTCTGAGCTTGTTTTGCAGCAAGAAGATAGTTGGCAGTGCCCATGGGTCTGAGATTTGGGGCAGGTTTGCAGGTCTGCCCCAGAAGTGTCCTAGAGCAGGAGTCTCCGAGAAGTCTTGGAACAGCTGGGGCTTTGCTCTGGGTTCTAGGGTTGAGGGCTTTGAGGGTTCAGGGACTGGGCCTCTGGACGTGAGGCTCCAGGGCTGGCTTGTGGGGCCTTGCCCTGGAGTGCAGTGTTAGAGCTGCTCTGTGGGTGGGTCTGTGGTCCATGGTGGGAGATCTCTGACCTGCTTGGGGCTCTGTGTCCACAGGTCTGTGGGCTGCATCATGGGGGAGCTGTTGAATGGGTCCCCCCTTTTCCCGGGCAAGAACGATATTGAACAGCTTTGCTATGTGCTTCGCATCTTGGGCACCCCAAACCCTCAAGTCTGGCCGGTTTGTAGGGGCCCTTGGTGAGGTGGGTGTGGGGCAGGTTTACTCCACTCCCAACAGCAAGTAACCACTCCCTCCCCTGAACCTTCTCTCTCCTGGCCCCAACCCCCCTTGATGGACAGGGACCACTGTCCTGGCCCAACTCAGGGCTTCCTCCTTCCTGCTGTCATTTGGGTTGGGGTAGATCCTGTCCTTTGTCCCTTTTCACCCCAGTACACACATGTGCAGTGTCTCAGCAAGCTGTGCACAGAGTCGTCATCTGAGAGGGCAAGGGGATGGATGAAGGAATACAGGGGTGGGTGAGTGAATGAATGATGGGTCAGGGAGACACATGGATGGGAGAGCACCCCCCATGTGAGTGTGTGTTAGGGGCTGAGAGTTGACAGCAGAGAGCATGGCAAGGGTCGGGAACTACTCTCATTGTACCCTGTTCCTTCTCCCTGGCCCAGGAGCTCACTGAGCTGCCGGACTACAACAAGATCTCCTTTAAGGAGCAGGTGCCCATGCCCCTGGAGGAGGTGCTGCCTGACGTCTCTCCCCAGGCATTGGATCTGCTGGGTCAATTCCTTCTCTACCCTCCTCACCAGCGCATCGCAGCTTCCAAGGTAGGGGGAGAGGCTGTAGTCTCTGCTCCTTCAGCTCCCCTCCCCATCACCCTGGTACTCTGTACTTGGTAGCCATGTGACCCCATCACATCAGCGACCCTCAGAACCTGTGATTGGCATGGACCAGCACCAGACATCTGGAACCCAGGGGACAGGGGCCTTGGAGCAGGTGTGCCTCTCATGAGTAGACCCCACTGGACATCCCCAGACTTCCCCTGAGGGTGGCCCATACGAGGGGCATGCCCAACTCTCAGGAGAGCGCGTGTCCGGGAGTGCAGGTTTCTGGGCTGCCCCTGACCCTGTGGCAGATACAGTAAGAGAGTCACTGGGGACTCATTCCTTTATTCCATTAGCAAGTATTTTCTGCACATCTGGCACATGCAGGGATTGTCCTGGGCCCTGCACAGATGGTAAACAATCAGTCCTACCTCCGCGGGGCACTCCTGGTGGTGAGGTAGCTCCAGGTCCAAAAGGTCACAAGAGGTCATGTTCTCCAGCTGTGGGAGCCCCAGGAGAGAGGCAAGGCCGACTTTGGGGTCAAGCAAAGCTTCCTGGTGGAGGGCAGGTTTAAGCATGAGATGTTTGAGGAGGTGTTCGCTGAAGAGAGAAATGGTGGGCAGAGGCCTGGAAGAGAGGACCCAGGAAGGCTGGTTATGGCTGGTAGGCCTGGGAGGACGATGACCACAGGAGCATGGGCTGACAGGTGTCAGGGTGTCTCTCAGGGGTCCCTGTCCCCTCCCTGCACTCAGCACCAGCCGCGTGTGTTTACATACGCCCTCTTGGTCTCCACTGTCAGCAGCTCCTGTGGGCTCTGTGTCCACAGTGTACCCAAGCCGTGTGACCCTTATCTCTTGGGTTGCCTCCCAGAATCTGGGTCTCCCCTCATCCCATTTAATCTCTTCTCCACCTGGCAGACAGAGTAACTTTATCCAAGTAGAACAGGACACATTCCTTCTCTGCCAGGGCCCTCCTGTGGCTCCATCTCAGAGGAAAAGCCAGGGTCCTTTTTGTGACCCACAGATGTCGTATGCTTGGGTGCCATCACCTCATGACGCTGCCTGCTGTTGTGCCCTGTGCTCACTCCTCTCCAGCCCCAGGGGTCAGTACACTTTTGTCCCTGGCCTGGAGCCTCATGTCCCACTTGCTTATGTCTCAAGTCTTGGCTTAAATGTCACTTCTCAGATGGCCTTCCCTCATGACTCTTCAGATCTGCAACCTCTCTCCAGGATTCCTCATTCCTCTGTCTTGCTTTCTCTCTTCCACTGCACTAATCATTATCTGACATACTGTGTATTTTACTTCATCTTGTTTATTACCCCCCACCCTCACTTATGTCAGAAAAACAGAGCTTTTGTCTGTTTTATTAACGGCTATGTTCCCAGCTTCTGGAATAGTGCTTCAGACATAGTAGACACTCAGAAAACACCCAGACACACTGAGTCAGCTGAATGCATAGATGAAGGAACATCTGCTTGAGGCTGGGGACAGGGAGGTGACTAGTTTCCTTCTGCTGTTCCTTACTTGCCACCCTCAGGCTCTCCTCCATCAGTACTTCTTCACAGCTCCCCTGCCTGCCCATCCATCTGAGCTGCCGATTCCTCAGCGTCTAGGGGGACCTGCCCCCAAGGCCCATCCAGGGCCCCCCCACATCCATGACTTCCACGTGGACCGGCCTCTTGAGGAGTCGCTGTTGAACCCAGAGCTGATTCGGCCCTTCATCCTGGAGGGGTGAGAAGTTGGCCCTGGTCCCGTCTGCCTGCTCCTCAGGACCACTCAGTCCACCTGTTCCTCTGCCACCTGCCTGGCTTCACCCTCCAAGGCCTCCCCATGGCCACAGTGGGCCCACACCACACCCTGCCCCTTAGCCCTTGCGAGGGTTGGTCTCGAGGCAGAGGTCATGTTCCCAGCCAAGAGTATGAGAACATCCAGTCGAGCAGAGGAGATTCATGGCCTGTGCTCGGTGAGCCTTACCTTCTGTGTGCTACTGACGTACCCATCAGGACAGTGAGCTCTGCTGCCAGTCAAGGCCTGCATATGCAGAATGACGATGCCTGCCTTGGTGCTGCTTCCCCGAGTGCTGCCTCCTGGTCAAGGAGAAGTGCAGAGAGTAAGGTGTCCTTATGTTGGAAACTCAAGTGGAAGGAAGATTTGGTTTGGTTTTATTCTCAGAGCCATTAAACACTAGTTCAGTATGTGAGATATAGATTCTAAAAACCTCAGGTGGCTCTGCCTTATGTCTGTTCCTCCTTCATTTCTCTCAAGGGAAATGGCTAAGGTGGCATTGTCTCATGGCTCTCGTTTTTGGGGTCATGGGGAGGGTAGCACCAGGCATAGCCACTTTTGCCCTGAGGGACTCCTGTGTGCTTCACATCACTGAGCACTCATTTAGAAGTGAGGGAGACAGAAGTCTAGGCCCAGGGATGGCTCCAGTTGGGGATCCAGCAGGAGACCCTCTGCACATGAGGCTGGTTTACCAACATCTACTCCCTCAGGATGAGCGTGAGCCAGAAGCAGCTGTGTATTTAAGGAAACAAGCGTTCCTGGAATTAATTTATAAATTTAATAAATCCCAATATAATCCCAGCTAGTGCTTTTTCCTTATTATAATTTGATAAGGTGATTATAAAAGATACATGGAAGGAAGTGGAACCAGATGCAGAAGAGGAAATGATGGAAGGACTTATGGTATCAGATACCAATATTTAAAAGTTTGTATAATAATAAAGAGTATGATTGTGGTTCAAGGATAAAAACAGACTAGAGAAACTTATTCTTAGCCATCCTTTATTTTTATTTTATTTATTTTTTGATGGAGTCTTGCTCTGTTGCCCAGGCTGGAGTGCAGTGGCACAATCTCGGCTTACTGCAACCTCCGCCTCCTGGGTTCAAGTGATTCTCCTGCCTCAGCTTCCCGAGTAGCTGGGACTACAGGCGCGTGCCACCACACCTGGCTAATTTTTGTATTTTTACTCAAGACAGGGTTTCACCATGTTAGCCAGGATGGTCTTGATCTCCTGACCTCGTGATCTGCCTGCCCGGGCCTCTCAAAGTGCTGGGATTGTAGGCGTGAGCCACCATGCCCAGCCCCAGGCACCCTTTATTTTTAAAATGTTTATTTTATGCTTCATGTGGATAAACTCTTCTGTGAGCACTCAGGG\"\n",
        "b=\"ACTCTTTTTGCAGAATCTGCAAGTGGACATTTGGAGCGCTTTGTGGTCTTTGGTGGAAAAGGAAATATCTTCACATAAAATCTAGACAGAAGCAATCTGAGAAACTTCTTTGTGATGTGTGCGTTCATCTCACAGAGTTGATCTTTTCTTGATGGAGCAGATTTGGAACTCTCTTTTTGTAGTATCTGCAAGTGGAAAATGGGAGTGCCCTATGGCCTTTTGTGGAAAATAAATTATCTTCACTTAAAAACTACACAGGAGAATTCTGAGAAACTTCTTTGTGATGTGTGCATTCATCTCACTGAGTTGAAACTTTTTTTTGATTGAACAGTGTGGAAACACTCTTTTTGTTGAATCTGCAAGTGGACATTTGGAGTACTTTTTAGCATATGGTAGAAA\"\n",
        "\n",
        "\n",
        "\n",
        "tis=[]\n",
        "tis.append(predicting(a))\n",
        "tis.append(predicting(b))\n",
        "print(predicting(a))\n",
        "y_pred = clf.predict(tis)\n",
        "y_pred\n"
      ]
    },
    {
      "cell_type": "code",
      "execution_count": 27,
      "metadata": {
        "colab": {
          "base_uri": "https://localhost:8080/"
        },
        "id": "XYXH7FVPinX9",
        "outputId": "18e011ad-7250-4e91-e7be-4cdae642198d"
      },
      "outputs": [
        {
          "output_type": "stream",
          "name": "stdout",
          "text": [
            "[[340   4]\n",
            " [  2 350]]\n",
            "Accuracy: 0.9913793103448276\n"
          ]
        }
      ],
      "source": [
        "from sklearn.ensemble import RandomForestClassifier\n",
        "from sklearn.model_selection import train_test_split\n",
        "X_train, X_test, y_train, y_test = train_test_split(features, h, test_size=0.3)\n",
        "from sklearn.metrics import confusion_matrix\n",
        "from sklearn.metrics import accuracy_score\n",
        "\n",
        "rfc = RandomForestClassifier(n_estimators=500)\n",
        "\n",
        "# Train the classifier on the training data\n",
        "rfc.fit(X_train, y_train)\n",
        "\n",
        "y_pred = rfc.predict(X_test)\n",
        "cm = confusion_matrix(y_test, y_pred)\n",
        "\n",
        "print(cm)\n",
        "\n",
        "print(\"Accuracy:\", accuracy_score(y_test, y_pred))\n",
        "\n",
        "\n",
        "\n",
        "\n"
      ]
    },
    {
      "cell_type": "code",
      "execution_count": 28,
      "metadata": {
        "colab": {
          "base_uri": "https://localhost:8080/"
        },
        "id": "PtF39ICtinX-",
        "outputId": "11baad7e-6256-4fa0-f47f-f91a265d5361"
      },
      "outputs": [
        {
          "output_type": "stream",
          "name": "stderr",
          "text": [
            "/usr/local/lib/python3.10/dist-packages/sklearn/base.py:439: UserWarning: X does not have valid feature names, but PCA was fitted with feature names\n",
            "  warnings.warn(\n",
            "/usr/local/lib/python3.10/dist-packages/sklearn/base.py:439: UserWarning: X does not have valid feature names, but PCA was fitted with feature names\n",
            "  warnings.warn(\n"
          ]
        },
        {
          "output_type": "execute_result",
          "data": {
            "text/plain": [
              "array([1, 1])"
            ]
          },
          "metadata": {},
          "execution_count": 28
        }
      ],
      "source": [
        "   a=\"AAGGAGAGGCCCGGACTTGGGCATATCTGCAGAAAAACCCTTCCCCACTAGGCAGGCGCGGGGGAGGGCGTGGAGGGGCGGGGTGGTGCCGCCCCCGGGGCGGGCCCAGTGCGTGGCAGCGGGACCTGCGGCCCCGTCGCGAAGTTTCCAGCCCTGCGAGCGCCGCCGGGTCGGCCGATCGTCCCCCATACCTCGGCCATGCGGCCCCTGCTGCTACTGGCCCTGCTGGGCTGGCTGCTGCTGGCCGAAGCGAAGGGCGACGCCAAGCCGGAGGGTGAGGGAGCGAAGGCCGGGGGCGGGAGCGCGGATCCGGGCGGGAGGGCTGGTGTCGGGCTGCCTCCCTGGGAACGACCTGAATGGGAGGCCTGGGCTGGAGAGGGAGTCTGGGTTCCGGCTCCT\"\n",
        "b=\"GAAATATCACTTTGTAGATTGTACAAAAAGACTGTTTCTAAACTGCTCAATCAAAAGAAAATTTCAAACTGGTGAGATGAATGCACACATAACAAAGGAGTTTCTCAGGAATCTTTTTTTTTTATTTTCAACACTTTTTTATTTCTTTCAAAGTTAGTTTTTTAATTTATTATTATTATATTTTAAGTTTTAGGGTACATGTGCACAATGTGCAGGTTTGTTACATATGTATACATGTGCCATGCTGGTGTGCTGCACCCACTAACTCGTCATCTAGCATTAGGTATATCTCCCAATGCTATCCCTCCCCCTTCCCCCCACCCCACAACAGTCCCCAGAGTGTGATATTCCCCTTCCTGTGTCCATATGTTGCTCTCATTGTTCAATTCCCACCCATGA\"\n",
        "\n",
        "\n",
        "tis=[]\n",
        "tis.append(predicting(a))\n",
        "tis.append(predicting(b))\n",
        "predict=rfc.predict(tis)\n",
        "predict"
      ]
    },
    {
      "cell_type": "code",
      "execution_count": 29,
      "metadata": {
        "id": "gN2lO7hzinX-"
      },
      "outputs": [],
      "source": [
        "def C4_encoding(sequence):\n",
        "    encoding = []\n",
        "    for i in sequence:\n",
        "        if i == 'A':\n",
        "            encoding.append([0,0,0,0])\n",
        "        elif i == 'C':\n",
        "            encoding.append([0,0,0,1])\n",
        "        elif i == 'G':\n",
        "            encoding.append([1,0,0,0])\n",
        "        elif i == 'T':\n",
        "            encoding.append([0,1,0,0])\n",
        "    return encoding"
      ]
    },
    {
      "cell_type": "code",
      "execution_count": 30,
      "metadata": {
        "id": "kaZCEWkpinX-"
      },
      "outputs": [],
      "source": [
        "\n",
        "import pandas as pd\n",
        "import numpy as np\n",
        "data = pd.read_csv(\"mmc1.csv\")"
      ]
    },
    {
      "cell_type": "code",
      "execution_count": 31,
      "metadata": {
        "colab": {
          "base_uri": "https://localhost:8080/",
          "height": 206
        },
        "id": "74yvJM4EinX_",
        "outputId": "b7847988-a8ab-415e-dde8-d2a8e5dfe3fd"
      },
      "outputs": [
        {
          "output_type": "execute_result",
          "data": {
            "text/plain": [
              "                                            Sequence  Label\n",
              "0  GATCCCTGCGGCGTTCGCGAGGGTGGGACGGGAAGCGGGCTGGGAA...   True\n",
              "1  GTCACTGCCCTCGCGGCCAATCCAAGGGCTGCGCGCGTGTCCCTTA...   True\n",
              "2  GTCACTGTCCTCGGGGCCAATCCAAGGGCTGCGCGCGTGTCCCTTA...   True\n",
              "3  GCGGAAAACGGCAGGAGGAGAGCCAATCCCGAGGGTCGGCGGACGC...   True\n",
              "4  TCGGCGGTGGAACCGCCAGTCCGGGGTCACAGAGCTTGAGAAGCGA...   True"
            ],
            "text/html": [
              "\n",
              "  <div id=\"df-ff179261-2583-49e8-b3ff-85c9066dcf06\">\n",
              "    <div class=\"colab-df-container\">\n",
              "      <div>\n",
              "<style scoped>\n",
              "    .dataframe tbody tr th:only-of-type {\n",
              "        vertical-align: middle;\n",
              "    }\n",
              "\n",
              "    .dataframe tbody tr th {\n",
              "        vertical-align: top;\n",
              "    }\n",
              "\n",
              "    .dataframe thead th {\n",
              "        text-align: right;\n",
              "    }\n",
              "</style>\n",
              "<table border=\"1\" class=\"dataframe\">\n",
              "  <thead>\n",
              "    <tr style=\"text-align: right;\">\n",
              "      <th></th>\n",
              "      <th>Sequence</th>\n",
              "      <th>Label</th>\n",
              "    </tr>\n",
              "  </thead>\n",
              "  <tbody>\n",
              "    <tr>\n",
              "      <th>0</th>\n",
              "      <td>GATCCCTGCGGCGTTCGCGAGGGTGGGACGGGAAGCGGGCTGGGAA...</td>\n",
              "      <td>True</td>\n",
              "    </tr>\n",
              "    <tr>\n",
              "      <th>1</th>\n",
              "      <td>GTCACTGCCCTCGCGGCCAATCCAAGGGCTGCGCGCGTGTCCCTTA...</td>\n",
              "      <td>True</td>\n",
              "    </tr>\n",
              "    <tr>\n",
              "      <th>2</th>\n",
              "      <td>GTCACTGTCCTCGGGGCCAATCCAAGGGCTGCGCGCGTGTCCCTTA...</td>\n",
              "      <td>True</td>\n",
              "    </tr>\n",
              "    <tr>\n",
              "      <th>3</th>\n",
              "      <td>GCGGAAAACGGCAGGAGGAGAGCCAATCCCGAGGGTCGGCGGACGC...</td>\n",
              "      <td>True</td>\n",
              "    </tr>\n",
              "    <tr>\n",
              "      <th>4</th>\n",
              "      <td>TCGGCGGTGGAACCGCCAGTCCGGGGTCACAGAGCTTGAGAAGCGA...</td>\n",
              "      <td>True</td>\n",
              "    </tr>\n",
              "  </tbody>\n",
              "</table>\n",
              "</div>\n",
              "      <button class=\"colab-df-convert\" onclick=\"convertToInteractive('df-ff179261-2583-49e8-b3ff-85c9066dcf06')\"\n",
              "              title=\"Convert this dataframe to an interactive table.\"\n",
              "              style=\"display:none;\">\n",
              "        \n",
              "  <svg xmlns=\"http://www.w3.org/2000/svg\" height=\"24px\"viewBox=\"0 0 24 24\"\n",
              "       width=\"24px\">\n",
              "    <path d=\"M0 0h24v24H0V0z\" fill=\"none\"/>\n",
              "    <path d=\"M18.56 5.44l.94 2.06.94-2.06 2.06-.94-2.06-.94-.94-2.06-.94 2.06-2.06.94zm-11 1L8.5 8.5l.94-2.06 2.06-.94-2.06-.94L8.5 2.5l-.94 2.06-2.06.94zm10 10l.94 2.06.94-2.06 2.06-.94-2.06-.94-.94-2.06-.94 2.06-2.06.94z\"/><path d=\"M17.41 7.96l-1.37-1.37c-.4-.4-.92-.59-1.43-.59-.52 0-1.04.2-1.43.59L10.3 9.45l-7.72 7.72c-.78.78-.78 2.05 0 2.83L4 21.41c.39.39.9.59 1.41.59.51 0 1.02-.2 1.41-.59l7.78-7.78 2.81-2.81c.8-.78.8-2.07 0-2.86zM5.41 20L4 18.59l7.72-7.72 1.47 1.35L5.41 20z\"/>\n",
              "  </svg>\n",
              "      </button>\n",
              "      \n",
              "  <style>\n",
              "    .colab-df-container {\n",
              "      display:flex;\n",
              "      flex-wrap:wrap;\n",
              "      gap: 12px;\n",
              "    }\n",
              "\n",
              "    .colab-df-convert {\n",
              "      background-color: #E8F0FE;\n",
              "      border: none;\n",
              "      border-radius: 50%;\n",
              "      cursor: pointer;\n",
              "      display: none;\n",
              "      fill: #1967D2;\n",
              "      height: 32px;\n",
              "      padding: 0 0 0 0;\n",
              "      width: 32px;\n",
              "    }\n",
              "\n",
              "    .colab-df-convert:hover {\n",
              "      background-color: #E2EBFA;\n",
              "      box-shadow: 0px 1px 2px rgba(60, 64, 67, 0.3), 0px 1px 3px 1px rgba(60, 64, 67, 0.15);\n",
              "      fill: #174EA6;\n",
              "    }\n",
              "\n",
              "    [theme=dark] .colab-df-convert {\n",
              "      background-color: #3B4455;\n",
              "      fill: #D2E3FC;\n",
              "    }\n",
              "\n",
              "    [theme=dark] .colab-df-convert:hover {\n",
              "      background-color: #434B5C;\n",
              "      box-shadow: 0px 1px 3px 1px rgba(0, 0, 0, 0.15);\n",
              "      filter: drop-shadow(0px 1px 2px rgba(0, 0, 0, 0.3));\n",
              "      fill: #FFFFFF;\n",
              "    }\n",
              "  </style>\n",
              "\n",
              "      <script>\n",
              "        const buttonEl =\n",
              "          document.querySelector('#df-ff179261-2583-49e8-b3ff-85c9066dcf06 button.colab-df-convert');\n",
              "        buttonEl.style.display =\n",
              "          google.colab.kernel.accessAllowed ? 'block' : 'none';\n",
              "\n",
              "        async function convertToInteractive(key) {\n",
              "          const element = document.querySelector('#df-ff179261-2583-49e8-b3ff-85c9066dcf06');\n",
              "          const dataTable =\n",
              "            await google.colab.kernel.invokeFunction('convertToInteractive',\n",
              "                                                     [key], {});\n",
              "          if (!dataTable) return;\n",
              "\n",
              "          const docLinkHtml = 'Like what you see? Visit the ' +\n",
              "            '<a target=\"_blank\" href=https://colab.research.google.com/notebooks/data_table.ipynb>data table notebook</a>'\n",
              "            + ' to learn more about interactive tables.';\n",
              "          element.innerHTML = '';\n",
              "          dataTable['output_type'] = 'display_data';\n",
              "          await google.colab.output.renderOutput(dataTable, element);\n",
              "          const docLink = document.createElement('div');\n",
              "          docLink.innerHTML = docLinkHtml;\n",
              "          element.appendChild(docLink);\n",
              "        }\n",
              "      </script>\n",
              "    </div>\n",
              "  </div>\n",
              "  "
            ]
          },
          "metadata": {},
          "execution_count": 31
        }
      ],
      "source": [
        "data.head()"
      ]
    },
    {
      "cell_type": "code",
      "execution_count": 32,
      "metadata": {
        "id": "kUHqJ8kPinX_"
      },
      "outputs": [],
      "source": [
        "data[\"C4_encoding\"] = data[\"Sequence\"].apply(C4_encoding)"
      ]
    },
    {
      "cell_type": "code",
      "execution_count": 33,
      "metadata": {
        "id": "r_pB5wR3inX_"
      },
      "outputs": [],
      "source": [
        "data[\"C4_encoding\"][0]\n",
        "\n",
        "np_data = np.array(data[\"C4_encoding\"])"
      ]
    },
    {
      "cell_type": "code",
      "execution_count": 34,
      "metadata": {
        "id": "_nf__PtRinX_"
      },
      "outputs": [],
      "source": [
        "np_data = np_data.reshape(1, -1)"
      ]
    },
    {
      "cell_type": "code",
      "execution_count": 35,
      "metadata": {
        "id": "mZ2pZediinYA"
      },
      "outputs": [],
      "source": [
        "import tensorflow as tf\n",
        "from tensorflow import keras\n",
        "from keras import layers , models\n"
      ]
    },
    {
      "cell_type": "code",
      "execution_count": 36,
      "metadata": {
        "id": "tvJ9x-HbinYA"
      },
      "outputs": [],
      "source": [
        "\n"
      ]
    },
    {
      "cell_type": "code",
      "execution_count": 36,
      "metadata": {
        "id": "ULiPB9DCinYA"
      },
      "outputs": [],
      "source": []
    },
    {
      "cell_type": "code",
      "execution_count": 37,
      "metadata": {
        "colab": {
          "base_uri": "https://localhost:8080/"
        },
        "id": "cd3rKVLiinYB",
        "outputId": "613835e6-5dff-4b7f-bbf1-774f4f33e726"
      },
      "outputs": [
        {
          "output_type": "stream",
          "name": "stdout",
          "text": [
            "(2318, 399, 4, 1)\n"
          ]
        }
      ],
      "source": [
        "sequences_train = data[\"C4_encoding\"]\n",
        "sequences_train = np.array(sequences_train)\n",
        "sequences_train = np.array([np.array(seq).reshape((399, 4, 1)) for seq in sequences_train])\n",
        "\n",
        "sequences_train = sequences_train.reshape((2318, 399, 4, 1))\n",
        "\n",
        "print(sequences_train.shape)\n",
        "\n"
      ]
    },
    {
      "cell_type": "code",
      "execution_count": 38,
      "metadata": {
        "id": "--g1EEbYinYB"
      },
      "outputs": [],
      "source": [
        "a  = np_data[0]"
      ]
    },
    {
      "cell_type": "code",
      "execution_count": 39,
      "metadata": {
        "colab": {
          "base_uri": "https://localhost:8080/"
        },
        "id": "K1Mh5N4RinYB",
        "outputId": "9a134d6d-28c3-4a90-db4e-9c75eac2cd94"
      },
      "outputs": [
        {
          "output_type": "execute_result",
          "data": {
            "text/plain": [
              "array([list([[1, 0, 0, 0], [0, 0, 0, 0], [0, 1, 0, 0], [0, 0, 0, 1], [0, 0, 0, 1], [0, 0, 0, 1], [0, 1, 0, 0], [1, 0, 0, 0], [0, 0, 0, 1], [1, 0, 0, 0], [1, 0, 0, 0], [0, 0, 0, 1], [1, 0, 0, 0], [0, 1, 0, 0], [0, 1, 0, 0], [0, 0, 0, 1], [1, 0, 0, 0], [0, 0, 0, 1], [1, 0, 0, 0], [0, 0, 0, 0], [1, 0, 0, 0], [1, 0, 0, 0], [1, 0, 0, 0], [0, 1, 0, 0], [1, 0, 0, 0], [1, 0, 0, 0], [1, 0, 0, 0], [0, 0, 0, 0], [0, 0, 0, 1], [1, 0, 0, 0], [1, 0, 0, 0], [1, 0, 0, 0], [0, 0, 0, 0], [0, 0, 0, 0], [1, 0, 0, 0], [0, 0, 0, 1], [1, 0, 0, 0], [1, 0, 0, 0], [1, 0, 0, 0], [0, 0, 0, 1], [0, 1, 0, 0], [1, 0, 0, 0], [1, 0, 0, 0], [1, 0, 0, 0], [0, 0, 0, 0], [0, 0, 0, 0], [1, 0, 0, 0], [0, 1, 0, 0], [0, 0, 0, 1], [1, 0, 0, 0], [1, 0, 0, 0], [1, 0, 0, 0], [0, 0, 0, 1], [0, 0, 0, 1], [1, 0, 0, 0], [0, 0, 0, 0], [1, 0, 0, 0], [1, 0, 0, 0], [0, 1, 0, 0], [1, 0, 0, 0], [1, 0, 0, 0], [1, 0, 0, 0], [0, 1, 0, 0], [1, 0, 0, 0], [0, 1, 0, 0], [1, 0, 0, 0], [1, 0, 0, 0], [1, 0, 0, 0], [1, 0, 0, 0], [0, 1, 0, 0], [0, 1, 0, 0], [0, 0, 0, 1], [1, 0, 0, 0], [1, 0, 0, 0], [1, 0, 0, 0], [1, 0, 0, 0], [0, 1, 0, 0], [1, 0, 0, 0], [0, 1, 0, 0], [0, 0, 0, 0], [0, 1, 0, 0], [0, 1, 0, 0], [0, 1, 0, 0], [0, 0, 0, 1], [1, 0, 0, 0], [0, 1, 0, 0], [0, 0, 0, 1], [0, 0, 0, 1], [0, 0, 0, 0], [0, 0, 0, 1], [1, 0, 0, 0], [0, 0, 0, 0], [1, 0, 0, 0], [0, 0, 0, 1], [0, 0, 0, 1], [1, 0, 0, 0], [1, 0, 0, 0], [1, 0, 0, 0], [1, 0, 0, 0], [0, 0, 0, 0], [1, 0, 0, 0], [1, 0, 0, 0], [1, 0, 0, 0], [1, 0, 0, 0], [1, 0, 0, 0], [0, 1, 0, 0], [0, 0, 0, 0], [0, 0, 0, 1], [0, 1, 0, 0], [1, 0, 0, 0], [1, 0, 0, 0], [0, 0, 0, 1], [0, 0, 0, 1], [0, 0, 0, 1], [0, 1, 0, 0], [1, 0, 0, 0], [0, 0, 0, 1], [0, 0, 0, 1], [1, 0, 0, 0], [0, 0, 0, 1], [0, 1, 0, 0], [1, 0, 0, 0], [0, 0, 0, 0], [0, 0, 0, 1], [0, 1, 0, 0], [1, 0, 0, 0], [0, 0, 0, 1], [1, 0, 0, 0], [0, 0, 0, 1], [1, 0, 0, 0], [0, 0, 0, 1], [0, 0, 0, 0], [1, 0, 0, 0], [0, 0, 0, 0], [0, 0, 0, 0], [1, 0, 0, 0], [0, 0, 0, 1], [1, 0, 0, 0], [0, 1, 0, 0], [1, 0, 0, 0], [0, 0, 0, 1], [0, 0, 0, 1], [1, 0, 0, 0], [0, 0, 0, 1], [0, 1, 0, 0], [0, 0, 0, 1], [0, 0, 0, 1], [0, 0, 0, 1], [0, 1, 0, 0], [0, 0, 0, 1], [0, 0, 0, 0], [0, 0, 0, 1], [0, 0, 0, 0], [1, 0, 0, 0], [1, 0, 0, 0], [1, 0, 0, 0], [0, 1, 0, 0], [0, 0, 0, 1], [0, 1, 0, 0], [1, 0, 0, 0], [0, 0, 0, 1], [0, 0, 0, 1], [0, 1, 0, 0], [0, 0, 0, 1], [1, 0, 0, 0], [1, 0, 0, 0], [0, 0, 0, 1], [0, 1, 0, 0], [0, 0, 0, 1], [0, 1, 0, 0], [1, 0, 0, 0], [0, 0, 0, 1], [0, 1, 0, 0], [0, 0, 0, 1], [1, 0, 0, 0], [0, 0, 0, 1], [0, 0, 0, 0], [1, 0, 0, 0], [1, 0, 0, 0], [1, 0, 0, 0], [0, 0, 0, 0], [0, 0, 0, 0], [0, 0, 0, 0], [0, 0, 0, 0], [1, 0, 0, 0], [0, 1, 0, 0], [0, 0, 0, 1], [0, 1, 0, 0], [1, 0, 0, 0], [0, 0, 0, 0], [0, 0, 0, 0], [1, 0, 0, 0], [0, 0, 0, 0], [0, 0, 0, 1], [1, 0, 0, 0], [0, 0, 0, 1], [0, 1, 0, 0], [0, 1, 0, 0], [0, 0, 0, 0], [0, 1, 0, 0], [1, 0, 0, 0], [0, 1, 0, 0], [0, 0, 0, 1], [0, 0, 0, 1], [0, 0, 0, 0], [0, 0, 0, 0], [1, 0, 0, 0], [1, 0, 0, 0], [1, 0, 0, 0], [1, 0, 0, 0], [0, 0, 0, 0], [0, 1, 0, 0], [0, 0, 0, 1], [0, 0, 0, 1], [0, 1, 0, 0], [1, 0, 0, 0], [0, 0, 0, 1], [0, 0, 0, 0], [1, 0, 0, 0], [1, 0, 0, 0], [0, 1, 0, 0], [1, 0, 0, 0], [0, 0, 0, 1], [0, 0, 0, 0], [0, 1, 0, 0], [0, 0, 0, 1], [0, 0, 0, 1], [0, 1, 0, 0], [0, 0, 0, 1], [0, 0, 0, 1], [1, 0, 0, 0], [0, 0, 0, 0], [0, 1, 0, 0], [0, 0, 0, 1], [0, 1, 0, 0], [1, 0, 0, 0], [0, 0, 0, 1], [1, 0, 0, 0], [0, 0, 0, 0], [0, 0, 0, 1], [0, 1, 0, 0], [1, 0, 0, 0], [0, 0, 0, 1], [0, 0, 0, 1], [0, 0, 0, 1], [1, 0, 0, 0], [1, 0, 0, 0], [1, 0, 0, 0], [0, 0, 0, 1], [0, 1, 0, 0], [1, 0, 0, 0], [0, 0, 0, 1], [0, 0, 0, 1], [1, 0, 0, 0], [0, 0, 0, 0], [0, 0, 0, 0], [0, 1, 0, 0], [0, 0, 0, 0], [0, 1, 0, 0], [0, 0, 0, 1], [0, 0, 0, 1], [0, 1, 0, 0], [0, 0, 0, 1], [0, 0, 0, 1], [0, 0, 0, 1], [0, 0, 0, 1], [1, 0, 0, 0], [1, 0, 0, 0], [0, 1, 0, 0], [1, 0, 0, 0], [1, 0, 0, 0], [0, 1, 0, 0], [1, 0, 0, 0], [0, 0, 0, 0], [1, 0, 0, 0], [0, 0, 0, 0], [0, 1, 0, 0], [1, 0, 0, 0], [0, 0, 0, 1], [1, 0, 0, 0], [1, 0, 0, 0], [1, 0, 0, 0], [1, 0, 0, 0], [0, 0, 0, 1], [0, 1, 0, 0], [0, 0, 0, 1], [1, 0, 0, 0], [1, 0, 0, 0], [0, 1, 0, 0], [0, 1, 0, 0], [1, 0, 0, 0], [1, 0, 0, 0], [1, 0, 0, 0], [1, 0, 0, 0], [0, 0, 0, 1], [0, 1, 0, 0], [1, 0, 0, 0], [1, 0, 0, 0], [1, 0, 0, 0], [0, 0, 0, 0], [1, 0, 0, 0], [0, 1, 0, 0], [0, 1, 0, 0], [0, 0, 0, 0], [0, 0, 0, 1], [0, 1, 0, 0], [0, 0, 0, 1], [0, 1, 0, 0], [0, 0, 0, 1], [0, 0, 0, 1], [0, 0, 0, 1], [0, 0, 0, 1], [0, 1, 0, 0], [1, 0, 0, 0], [0, 0, 0, 1], [1, 0, 0, 0], [1, 0, 0, 0], [0, 0, 0, 0], [1, 0, 0, 0], [0, 0, 0, 1], [0, 1, 0, 0], [0, 1, 0, 0], [1, 0, 0, 0], [0, 1, 0, 0], [0, 0, 0, 1], [0, 0, 0, 1], [0, 0, 0, 1], [0, 1, 0, 0], [1, 0, 0, 0], [0, 0, 0, 1], [1, 0, 0, 0], [1, 0, 0, 0], [0, 1, 0, 0], [0, 1, 0, 0], [0, 1, 0, 0], [0, 1, 0, 0], [0, 0, 0, 1], [0, 0, 0, 0], [1, 0, 0, 0], [1, 0, 0, 0], [1, 0, 0, 0], [0, 1, 0, 0], [0, 1, 0, 0], [0, 1, 0, 0], [0, 1, 0, 0], [0, 0, 0, 1], [0, 0, 0, 0], [1, 0, 0, 0], [1, 0, 0, 0], [0, 0, 0, 0], [0, 1, 0, 0], [0, 0, 0, 1], [1, 0, 0, 0], [0, 0, 0, 0], [1, 0, 0, 0], [0, 0, 0, 0], [1, 0, 0, 0], [0, 1, 0, 0], [0, 0, 0, 1], [0, 0, 0, 1], [0, 1, 0, 0], [0, 0, 0, 0], [0, 0, 0, 0], [0, 0, 0, 1], [0, 0, 0, 1], [0, 1, 0, 0], [0, 0, 0, 1], [0, 0, 0, 0], [0, 0, 0, 1], [0, 0, 0, 1], [0, 0, 0, 1], [0, 0, 0, 1], [0, 1, 0, 0], [1, 0, 0, 0], [0, 0, 0, 1], [1, 0, 0, 0], [1, 0, 0, 0], [1, 0, 0, 0], [0, 1, 0, 0], [1, 0, 0, 0], [0, 1, 0, 0], [1, 0, 0, 0], [0, 0, 0, 1], [0, 1, 0, 0], [1, 0, 0, 0], [1, 0, 0, 0], [0, 0, 0, 0], [1, 0, 0, 0], [1, 0, 0, 0], [1, 0, 0, 0], [0, 0, 0, 0], [1, 0, 0, 0], [0, 0, 0, 1], [0, 0, 0, 1], [0, 1, 0, 0], [0, 0, 0, 1], [0, 0, 0, 1], [1, 0, 0, 0], [0, 0, 0, 0]]),\n",
              "       list([[1, 0, 0, 0], [0, 1, 0, 0], [0, 0, 0, 1], [0, 0, 0, 0], [0, 0, 0, 1], [0, 1, 0, 0], [1, 0, 0, 0], [0, 0, 0, 1], [0, 0, 0, 1], [0, 0, 0, 1], [0, 1, 0, 0], [0, 0, 0, 1], [1, 0, 0, 0], [0, 0, 0, 1], [1, 0, 0, 0], [1, 0, 0, 0], [0, 0, 0, 1], [0, 0, 0, 1], [0, 0, 0, 0], [0, 0, 0, 0], [0, 1, 0, 0], [0, 0, 0, 1], [0, 0, 0, 1], [0, 0, 0, 0], [0, 0, 0, 0], [1, 0, 0, 0], [1, 0, 0, 0], [1, 0, 0, 0], [0, 0, 0, 1], [0, 1, 0, 0], [1, 0, 0, 0], [0, 0, 0, 1], [1, 0, 0, 0], [0, 0, 0, 1], [1, 0, 0, 0], [0, 0, 0, 1], [1, 0, 0, 0], [0, 1, 0, 0], [1, 0, 0, 0], [0, 1, 0, 0], [0, 0, 0, 1], [0, 0, 0, 1], [0, 0, 0, 1], [0, 1, 0, 0], [0, 1, 0, 0], [0, 0, 0, 0], [0, 0, 0, 1], [1, 0, 0, 0], [0, 0, 0, 1], [0, 0, 0, 0], [0, 1, 0, 0], [0, 1, 0, 0], [0, 1, 0, 0], [0, 0, 0, 1], [0, 0, 0, 1], [1, 0, 0, 0], [0, 1, 0, 0], [0, 0, 0, 1], [1, 0, 0, 0], [0, 0, 0, 1], [0, 0, 0, 1], [1, 0, 0, 0], [1, 0, 0, 0], [1, 0, 0, 0], [0, 0, 0, 0], [1, 0, 0, 0], [1, 0, 0, 0], [0, 0, 0, 0], [0, 0, 0, 0], [1, 0, 0, 0], [1, 0, 0, 0], [1, 0, 0, 0], [1, 0, 0, 0], [0, 1, 0, 0], [1, 0, 0, 0], [0, 1, 0, 0], [1, 0, 0, 0], [0, 1, 0, 0], [1, 0, 0, 0], [0, 1, 0, 0], [0, 1, 0, 0], [0, 1, 0, 0], [0, 0, 0, 1], [1, 0, 0, 0], [0, 0, 0, 1], [0, 0, 0, 1], [0, 1, 0, 0], [1, 0, 0, 0], [0, 0, 0, 1], [1, 0, 0, 0], [0, 0, 0, 1], [0, 0, 0, 0], [1, 0, 0, 0], [0, 1, 0, 0], [1, 0, 0, 0], [1, 0, 0, 0], [0, 1, 0, 0], [0, 0, 0, 1], [0, 0, 0, 1], [0, 1, 0, 0], [1, 0, 0, 0], [1, 0, 0, 0], [0, 0, 0, 1], [0, 0, 0, 1], [0, 0, 0, 0], [0, 0, 0, 1], [0, 0, 0, 1], [1, 0, 0, 0], [1, 0, 0, 0], [0, 0, 0, 1], [0, 1, 0, 0], [0, 0, 0, 1], [1, 0, 0, 0], [0, 0, 0, 1], [1, 0, 0, 0], [1, 0, 0, 0], [0, 0, 0, 1], [1, 0, 0, 0], [0, 0, 0, 1], [1, 0, 0, 0], [0, 1, 0, 0], [1, 0, 0, 0], [1, 0, 0, 0], [0, 0, 0, 0], [1, 0, 0, 0], [1, 0, 0, 0], [0, 0, 0, 1], [0, 1, 0, 0], [1, 0, 0, 0], [0, 0, 0, 1], [0, 1, 0, 0], [0, 0, 0, 1], [0, 0, 0, 1], [0, 0, 0, 1], [0, 0, 0, 0], [1, 0, 0, 0], [0, 0, 0, 1], [0, 0, 0, 1], [1, 0, 0, 0], [0, 0, 0, 1], [1, 0, 0, 0], [0, 0, 0, 1], [0, 0, 0, 1], [0, 0, 0, 1], [1, 0, 0, 0], [0, 0, 0, 0], [1, 0, 0, 0], [0, 1, 0, 0], [0, 0, 0, 1], [0, 0, 0, 0], [1, 0, 0, 0], [0, 0, 0, 0], [0, 0, 0, 1], [0, 1, 0, 0], [0, 0, 0, 1], [1, 0, 0, 0], [1, 0, 0, 0], [1, 0, 0, 0], [0, 1, 0, 0], [1, 0, 0, 0], [1, 0, 0, 0], [1, 0, 0, 0], [1, 0, 0, 0], [1, 0, 0, 0], [0, 1, 0, 0], [0, 0, 0, 1], [0, 0, 0, 1], [0, 0, 0, 1], [1, 0, 0, 0], [1, 0, 0, 0], [0, 0, 0, 1], [1, 0, 0, 0], [1, 0, 0, 0], [0, 0, 0, 1], [1, 0, 0, 0], [1, 0, 0, 0], [0, 1, 0, 0], [0, 0, 0, 0], [1, 0, 0, 0], [0, 0, 0, 1], [1, 0, 0, 0], [1, 0, 0, 0], [0, 0, 0, 1], [1, 0, 0, 0], [1, 0, 0, 0], [0, 0, 0, 1], [1, 0, 0, 0], [1, 0, 0, 0], [0, 0, 0, 1], [1, 0, 0, 0], [1, 0, 0, 0], [0, 1, 0, 0], [1, 0, 0, 0], [0, 0, 0, 1], [1, 0, 0, 0], [0, 0, 0, 0], [1, 0, 0, 0], [0, 0, 0, 1], [0, 0, 0, 0], [0, 1, 0, 0], [1, 0, 0, 0], [0, 1, 0, 0], [0, 0, 0, 1], [1, 0, 0, 0], [0, 1, 0, 0], [1, 0, 0, 0], [1, 0, 0, 0], [0, 0, 0, 1], [0, 1, 0, 0], [0, 0, 0, 1], [0, 1, 0, 0], [0, 1, 0, 0], [0, 0, 0, 1], [1, 0, 0, 0], [1, 0, 0, 0], [0, 0, 0, 1], [1, 0, 0, 0], [0, 1, 0, 0], [0, 1, 0, 0], [0, 0, 0, 0], [0, 0, 0, 0], [0, 0, 0, 1], [0, 0, 0, 0], [0, 0, 0, 0], [1, 0, 0, 0], [1, 0, 0, 0], [1, 0, 0, 0], [0, 0, 0, 1], [0, 0, 0, 1], [0, 0, 0, 1], [0, 0, 0, 1], [0, 0, 0, 0], [0, 0, 0, 0], [1, 0, 0, 0], [1, 0, 0, 0], [1, 0, 0, 0], [0, 1, 0, 0], [1, 0, 0, 0], [0, 0, 0, 0], [0, 0, 0, 0], [1, 0, 0, 0], [1, 0, 0, 0], [0, 0, 0, 1], [1, 0, 0, 0], [0, 0, 0, 1], [1, 0, 0, 0], [1, 0, 0, 0], [1, 0, 0, 0], [1, 0, 0, 0], [0, 0, 0, 1], [0, 0, 0, 1], [1, 0, 0, 0], [0, 0, 0, 1], [0, 0, 0, 1], [1, 0, 0, 0], [0, 0, 0, 1], [0, 0, 0, 1], [1, 0, 0, 0], [0, 0, 0, 1], [0, 0, 0, 1], [0, 1, 0, 0], [0, 1, 0, 0], [0, 1, 0, 0], [1, 0, 0, 0], [0, 0, 0, 1], [0, 0, 0, 1], [1, 0, 0, 0], [0, 0, 0, 1], [0, 0, 0, 1], [0, 0, 0, 1], [1, 0, 0, 0], [0, 0, 0, 1], [1, 0, 0, 0], [0, 0, 0, 1], [0, 0, 0, 0], [1, 0, 0, 0], [0, 0, 0, 1], [0, 0, 0, 1], [0, 0, 0, 1], [1, 0, 0, 0], [1, 0, 0, 0], [1, 0, 0, 0], [1, 0, 0, 0], [0, 0, 0, 1], [0, 0, 0, 1], [1, 0, 0, 0], [0, 0, 0, 0], [1, 0, 0, 0], [1, 0, 0, 0], [1, 0, 0, 0], [0, 0, 0, 1], [1, 0, 0, 0], [1, 0, 0, 0], [0, 0, 0, 1], [1, 0, 0, 0], [1, 0, 0, 0], [1, 0, 0, 0], [1, 0, 0, 0], [0, 0, 0, 0], [0, 0, 0, 1], [0, 0, 0, 1], [1, 0, 0, 0], [0, 0, 0, 1], [1, 0, 0, 0], [1, 0, 0, 0], [0, 1, 0, 0], [0, 1, 0, 0], [0, 1, 0, 0], [1, 0, 0, 0], [1, 0, 0, 0], [1, 0, 0, 0], [0, 0, 0, 0], [1, 0, 0, 0], [0, 0, 0, 0], [0, 0, 0, 1], [0, 0, 0, 1], [1, 0, 0, 0], [1, 0, 0, 0], [0, 0, 0, 1], [0, 0, 0, 1], [1, 0, 0, 0], [1, 0, 0, 0], [0, 0, 0, 1], [1, 0, 0, 0], [0, 0, 0, 1], [0, 0, 0, 1], [0, 0, 0, 1], [0, 0, 0, 0], [0, 0, 0, 0], [1, 0, 0, 0], [1, 0, 0, 0], [0, 0, 0, 0], [0, 0, 0, 1], [0, 0, 0, 0], [0, 0, 0, 0], [0, 0, 0, 0], [0, 1, 0, 0], [1, 0, 0, 0], [1, 0, 0, 0], [0, 0, 0, 0], [1, 0, 0, 0], [0, 0, 0, 1], [0, 0, 0, 0], [0, 0, 0, 0], [0, 0, 0, 1], [0, 1, 0, 0], [0, 1, 0, 0], [0, 0, 0, 1], [1, 0, 0, 0], [0, 0, 0, 0], [0, 0, 0, 1], [0, 0, 0, 1], [0, 0, 0, 1], [0, 0, 0, 1], [0, 0, 0, 0], [0, 0, 0, 1], [0, 0, 0, 1], [1, 0, 0, 0], [1, 0, 0, 0], [0, 0, 0, 1], [0, 0, 0, 1], [0, 1, 0, 0], [1, 0, 0, 0], [1, 0, 0, 0], [0, 0, 0, 0], [1, 0, 0, 0], [0, 0, 0, 1], [1, 0, 0, 0], [0, 0, 0, 1], [1, 0, 0, 0], [0, 0, 0, 1], [0, 0, 0, 1], [1, 0, 0, 0], [0, 0, 0, 1], [0, 0, 0, 1], [0, 0, 0, 0], [0, 0, 0, 0], [1, 0, 0, 0], [1, 0, 0, 0], [0, 0, 0, 1], [1, 0, 0, 0], [1, 0, 0, 0], [0, 0, 0, 1], [1, 0, 0, 0], [0, 0, 0, 1], [1, 0, 0, 0], [0, 0, 0, 1], [1, 0, 0, 0], [0, 0, 0, 0], [1, 0, 0, 0], [0, 0, 0, 1], [0, 1, 0, 0], [1, 0, 0, 0], [1, 0, 0, 0], [0, 0, 0, 0], [1, 0, 0, 0], [0, 0, 0, 1], [0, 0, 0, 0], [0, 0, 0, 1]]),\n",
              "       list([[1, 0, 0, 0], [0, 1, 0, 0], [0, 0, 0, 1], [0, 0, 0, 0], [0, 0, 0, 1], [0, 1, 0, 0], [1, 0, 0, 0], [0, 1, 0, 0], [0, 0, 0, 1], [0, 0, 0, 1], [0, 1, 0, 0], [0, 0, 0, 1], [1, 0, 0, 0], [1, 0, 0, 0], [1, 0, 0, 0], [1, 0, 0, 0], [0, 0, 0, 1], [0, 0, 0, 1], [0, 0, 0, 0], [0, 0, 0, 0], [0, 1, 0, 0], [0, 0, 0, 1], [0, 0, 0, 1], [0, 0, 0, 0], [0, 0, 0, 0], [1, 0, 0, 0], [1, 0, 0, 0], [1, 0, 0, 0], [0, 0, 0, 1], [0, 1, 0, 0], [1, 0, 0, 0], [0, 0, 0, 1], [1, 0, 0, 0], [0, 0, 0, 1], [1, 0, 0, 0], [0, 0, 0, 1], [1, 0, 0, 0], [0, 1, 0, 0], [1, 0, 0, 0], [0, 1, 0, 0], [0, 0, 0, 1], [0, 0, 0, 1], [0, 0, 0, 1], [0, 1, 0, 0], [0, 1, 0, 0], [0, 0, 0, 0], [0, 0, 0, 1], [1, 0, 0, 0], [0, 0, 0, 1], [1, 0, 0, 0], [0, 0, 0, 1], [0, 1, 0, 0], [0, 1, 0, 0], [0, 0, 0, 1], [0, 1, 0, 0], [0, 0, 0, 0], [0, 1, 0, 0], [0, 0, 0, 1], [1, 0, 0, 0], [0, 0, 0, 1], [0, 0, 0, 1], [1, 0, 0, 0], [1, 0, 0, 0], [1, 0, 0, 0], [0, 0, 0, 0], [1, 0, 0, 0], [1, 0, 0, 0], [0, 0, 0, 0], [0, 0, 0, 0], [1, 0, 0, 0], [1, 0, 0, 0], [1, 0, 0, 0], [1, 0, 0, 0], [0, 1, 0, 0], [1, 0, 0, 0], [0, 1, 0, 0], [1, 0, 0, 0], [0, 1, 0, 0], [1, 0, 0, 0], [0, 1, 0, 0], [1, 0, 0, 0], [1, 0, 0, 0], [0, 0, 0, 1], [1, 0, 0, 0], [0, 0, 0, 1], [0, 0, 0, 1], [0, 1, 0, 0], [1, 0, 0, 0], [0, 0, 0, 1], [1, 0, 0, 0], [0, 0, 0, 1], [0, 0, 0, 0], [1, 0, 0, 0], [0, 1, 0, 0], [1, 0, 0, 0], [1, 0, 0, 0], [0, 0, 0, 1], [1, 0, 0, 0], [1, 0, 0, 0], [0, 1, 0, 0], [1, 0, 0, 0], [0, 0, 0, 0], [0, 0, 0, 1], [0, 0, 0, 1], [0, 0, 0, 0], [0, 0, 0, 1], [0, 0, 0, 1], [1, 0, 0, 0], [1, 0, 0, 0], [0, 0, 0, 1], [0, 1, 0, 0], [0, 0, 0, 1], [1, 0, 0, 0], [0, 0, 0, 1], [1, 0, 0, 0], [1, 0, 0, 0], [0, 0, 0, 1], [1, 0, 0, 0], [0, 0, 0, 1], [1, 0, 0, 0], [0, 1, 0, 0], [1, 0, 0, 0], [1, 0, 0, 0], [0, 0, 0, 0], [1, 0, 0, 0], [1, 0, 0, 0], [0, 0, 0, 1], [0, 1, 0, 0], [1, 0, 0, 0], [0, 0, 0, 1], [0, 1, 0, 0], [0, 0, 0, 1], [0, 0, 0, 1], [0, 0, 0, 1], [0, 0, 0, 0], [1, 0, 0, 0], [0, 0, 0, 1], [0, 0, 0, 1], [1, 0, 0, 0], [0, 0, 0, 1], [1, 0, 0, 0], [0, 0, 0, 1], [1, 0, 0, 0], [0, 0, 0, 1], [1, 0, 0, 0], [0, 0, 0, 0], [1, 0, 0, 0], [0, 1, 0, 0], [0, 0, 0, 1], [0, 0, 0, 0], [1, 0, 0, 0], [0, 0, 0, 0], [0, 0, 0, 1], [0, 1, 0, 0], [0, 0, 0, 1], [1, 0, 0, 0], [1, 0, 0, 0], [1, 0, 0, 0], [0, 1, 0, 0], [1, 0, 0, 0], [1, 0, 0, 0], [1, 0, 0, 0], [1, 0, 0, 0], [1, 0, 0, 0], [0, 1, 0, 0], [0, 0, 0, 1], [0, 0, 0, 1], [0, 0, 0, 1], [1, 0, 0, 0], [1, 0, 0, 0], [0, 0, 0, 1], [1, 0, 0, 0], [1, 0, 0, 0], [0, 0, 0, 1], [1, 0, 0, 0], [1, 0, 0, 0], [0, 1, 0, 0], [0, 0, 0, 0], [1, 0, 0, 0], [0, 0, 0, 1], [1, 0, 0, 0], [1, 0, 0, 0], [0, 0, 0, 1], [1, 0, 0, 0], [1, 0, 0, 0], [0, 0, 0, 1], [1, 0, 0, 0], [1, 0, 0, 0], [0, 0, 0, 1], [1, 0, 0, 0], [1, 0, 0, 0], [0, 1, 0, 0], [1, 0, 0, 0], [0, 0, 0, 1], [1, 0, 0, 0], [0, 0, 0, 0], [1, 0, 0, 0], [0, 0, 0, 1], [0, 0, 0, 0], [0, 1, 0, 0], [1, 0, 0, 0], [0, 1, 0, 0], [0, 0, 0, 1], [1, 0, 0, 0], [0, 1, 0, 0], [1, 0, 0, 0], [1, 0, 0, 0], [0, 0, 0, 1], [0, 1, 0, 0], [0, 0, 0, 1], [0, 1, 0, 0], [0, 1, 0, 0], [0, 0, 0, 1], [1, 0, 0, 0], [1, 0, 0, 0], [0, 0, 0, 1], [0, 0, 0, 0], [0, 1, 0, 0], [0, 1, 0, 0], [0, 0, 0, 0], [0, 0, 0, 0], [0, 0, 0, 1], [0, 0, 0, 0], [0, 0, 0, 0], [1, 0, 0, 0], [1, 0, 0, 0], [1, 0, 0, 0], [0, 0, 0, 1], [0, 0, 0, 1], [0, 0, 0, 1], [0, 0, 0, 1], [0, 0, 0, 0], [0, 0, 0, 0], [1, 0, 0, 0], [1, 0, 0, 0], [1, 0, 0, 0], [0, 1, 0, 0], [1, 0, 0, 0], [0, 0, 0, 0], [0, 0, 0, 0], [1, 0, 0, 0], [1, 0, 0, 0], [0, 0, 0, 1], [1, 0, 0, 0], [0, 0, 0, 1], [1, 0, 0, 0], [1, 0, 0, 0], [1, 0, 0, 0], [1, 0, 0, 0], [0, 0, 0, 1], [0, 0, 0, 1], [1, 0, 0, 0], [0, 0, 0, 1], [0, 0, 0, 1], [1, 0, 0, 0], [0, 0, 0, 1], [0, 0, 0, 1], [1, 0, 0, 0], [0, 0, 0, 1], [0, 0, 0, 1], [0, 1, 0, 0], [0, 1, 0, 0], [0, 1, 0, 0], [1, 0, 0, 0], [0, 0, 0, 1], [0, 0, 0, 1], [1, 0, 0, 0], [0, 0, 0, 1], [0, 0, 0, 1], [0, 0, 0, 1], [1, 0, 0, 0], [0, 0, 0, 1], [1, 0, 0, 0], [0, 0, 0, 1], [0, 0, 0, 0], [1, 0, 0, 0], [0, 0, 0, 1], [0, 0, 0, 1], [0, 0, 0, 1], [1, 0, 0, 0], [1, 0, 0, 0], [1, 0, 0, 0], [1, 0, 0, 0], [0, 0, 0, 1], [0, 0, 0, 1], [1, 0, 0, 0], [0, 0, 0, 0], [1, 0, 0, 0], [1, 0, 0, 0], [1, 0, 0, 0], [0, 0, 0, 1], [1, 0, 0, 0], [1, 0, 0, 0], [0, 0, 0, 1], [1, 0, 0, 0], [1, 0, 0, 0], [1, 0, 0, 0], [1, 0, 0, 0], [0, 0, 0, 0], [0, 0, 0, 1], [0, 0, 0, 1], [1, 0, 0, 0], [0, 0, 0, 1], [1, 0, 0, 0], [1, 0, 0, 0], [1, 0, 0, 0], [0, 1, 0, 0], [0, 1, 0, 0], [1, 0, 0, 0], [1, 0, 0, 0], [1, 0, 0, 0], [0, 0, 0, 0], [1, 0, 0, 0], [0, 0, 0, 0], [0, 0, 0, 1], [0, 0, 0, 1], [1, 0, 0, 0], [1, 0, 0, 0], [0, 0, 0, 1], [0, 0, 0, 1], [1, 0, 0, 0], [1, 0, 0, 0], [0, 0, 0, 1], [1, 0, 0, 0], [0, 0, 0, 1], [0, 0, 0, 1], [0, 0, 0, 1], [0, 0, 0, 0], [0, 0, 0, 0], [1, 0, 0, 0], [1, 0, 0, 0], [0, 0, 0, 0], [0, 0, 0, 1], [0, 0, 0, 0], [0, 0, 0, 0], [0, 0, 0, 0], [0, 1, 0, 0], [1, 0, 0, 0], [1, 0, 0, 0], [0, 0, 0, 0], [1, 0, 0, 0], [0, 0, 0, 1], [0, 0, 0, 0], [0, 0, 0, 0], [0, 0, 0, 1], [0, 1, 0, 0], [0, 1, 0, 0], [0, 0, 0, 1], [1, 0, 0, 0], [0, 0, 0, 0], [0, 0, 0, 1], [0, 0, 0, 1], [0, 0, 0, 1], [0, 0, 0, 1], [0, 0, 0, 0], [0, 0, 0, 1], [0, 0, 0, 1], [1, 0, 0, 0], [1, 0, 0, 0], [0, 0, 0, 1], [0, 0, 0, 1], [0, 1, 0, 0], [1, 0, 0, 0], [1, 0, 0, 0], [0, 0, 0, 0], [1, 0, 0, 0], [0, 0, 0, 1], [1, 0, 0, 0], [0, 0, 0, 1], [1, 0, 0, 0], [0, 0, 0, 1], [0, 0, 0, 1], [1, 0, 0, 0], [0, 0, 0, 1], [0, 0, 0, 1], [0, 0, 0, 0], [0, 0, 0, 0], [1, 0, 0, 0], [1, 0, 0, 0], [0, 0, 0, 1], [1, 0, 0, 0], [1, 0, 0, 0], [0, 0, 0, 1], [1, 0, 0, 0], [0, 0, 0, 1], [1, 0, 0, 0], [0, 0, 0, 1], [1, 0, 0, 0], [0, 0, 0, 0], [1, 0, 0, 0], [0, 0, 0, 1], [0, 1, 0, 0], [1, 0, 0, 0], [1, 0, 0, 0], [0, 0, 0, 0], [1, 0, 0, 0], [0, 0, 0, 1], [0, 0, 0, 0], [0, 0, 0, 1]]),\n",
              "       ...,\n",
              "       list([[0, 0, 0, 0], [0, 0, 0, 1], [0, 0, 0, 0], [1, 0, 0, 0], [0, 0, 0, 0], [0, 0, 0, 0], [1, 0, 0, 0], [0, 0, 0, 1], [0, 0, 0, 0], [0, 0, 0, 0], [0, 1, 0, 0], [0, 0, 0, 1], [0, 1, 0, 0], [1, 0, 0, 0], [0, 0, 0, 0], [1, 0, 0, 0], [0, 0, 0, 0], [0, 0, 0, 0], [0, 0, 0, 0], [0, 0, 0, 1], [0, 1, 0, 0], [0, 1, 0, 0], [0, 0, 0, 1], [0, 1, 0, 0], [0, 1, 0, 0], [0, 1, 0, 0], [1, 0, 0, 0], [0, 1, 0, 0], [1, 0, 0, 0], [0, 0, 0, 0], [0, 1, 0, 0], [1, 0, 0, 0], [0, 1, 0, 0], [1, 0, 0, 0], [0, 1, 0, 0], [1, 0, 0, 0], [0, 0, 0, 1], [1, 0, 0, 0], [0, 1, 0, 0], [0, 1, 0, 0], [0, 0, 0, 1], [0, 0, 0, 0], [0, 1, 0, 0], [0, 0, 0, 1], [0, 1, 0, 0], [0, 0, 0, 1], [0, 0, 0, 0], [0, 0, 0, 1], [0, 0, 0, 0], [1, 0, 0, 0], [0, 0, 0, 0], [1, 0, 0, 0], [0, 1, 0, 0], [0, 1, 0, 0], [1, 0, 0, 0], [0, 0, 0, 0], [0, 1, 0, 0], [0, 0, 0, 1], [0, 1, 0, 0], [0, 1, 0, 0], [0, 1, 0, 0], [0, 1, 0, 0], [0, 0, 0, 1], [0, 1, 0, 0], [0, 1, 0, 0], [1, 0, 0, 0], [0, 0, 0, 0], [0, 1, 0, 0], [1, 0, 0, 0], [1, 0, 0, 0], [0, 0, 0, 0], [1, 0, 0, 0], [0, 0, 0, 1], [0, 0, 0, 0], [1, 0, 0, 0], [0, 0, 0, 0], [0, 1, 0, 0], [0, 1, 0, 0], [0, 1, 0, 0], [1, 0, 0, 0], [1, 0, 0, 0], [0, 0, 0, 0], [0, 0, 0, 0], [0, 0, 0, 1], [0, 1, 0, 0], [0, 0, 0, 1], [0, 1, 0, 0], [0, 0, 0, 1], [0, 1, 0, 0], [0, 1, 0, 0], [0, 1, 0, 0], [0, 1, 0, 0], [0, 1, 0, 0], [1, 0, 0, 0], [0, 1, 0, 0], [0, 0, 0, 0], [1, 0, 0, 0], [0, 1, 0, 0], [0, 0, 0, 0], [0, 1, 0, 0], [0, 0, 0, 1], [0, 1, 0, 0], [1, 0, 0, 0], [0, 0, 0, 1], [0, 0, 0, 0], [0, 0, 0, 0], [1, 0, 0, 0], [0, 1, 0, 0], [1, 0, 0, 0], [1, 0, 0, 0], [0, 0, 0, 0], [0, 0, 0, 0], [0, 0, 0, 0], [0, 0, 0, 0], [0, 1, 0, 0], [1, 0, 0, 0], [1, 0, 0, 0], [1, 0, 0, 0], [0, 0, 0, 0], [1, 0, 0, 0], [0, 1, 0, 0], [1, 0, 0, 0], [0, 0, 0, 1], [0, 0, 0, 1], [0, 0, 0, 1], [0, 1, 0, 0], [0, 0, 0, 0], [0, 1, 0, 0], [1, 0, 0, 0], [1, 0, 0, 0], [0, 0, 0, 1], [0, 0, 0, 1], [0, 1, 0, 0], [0, 1, 0, 0], [0, 1, 0, 0], [0, 1, 0, 0], [1, 0, 0, 0], [0, 1, 0, 0], [1, 0, 0, 0], [1, 0, 0, 0], [0, 0, 0, 0], [0, 0, 0, 0], [0, 0, 0, 0], [0, 0, 0, 0], [0, 1, 0, 0], [0, 0, 0, 0], [0, 0, 0, 0], [0, 0, 0, 0], [0, 1, 0, 0], [0, 1, 0, 0], [0, 0, 0, 0], [0, 1, 0, 0], [0, 0, 0, 1], [0, 1, 0, 0], [0, 1, 0, 0], [0, 0, 0, 1], [0, 0, 0, 0], [0, 0, 0, 1], [0, 1, 0, 0], [0, 1, 0, 0], [0, 0, 0, 0], [0, 0, 0, 0], [0, 0, 0, 0], [0, 0, 0, 0], [0, 0, 0, 0], [0, 0, 0, 1], [0, 1, 0, 0], [0, 0, 0, 0], [0, 0, 0, 1], [0, 0, 0, 0], [0, 0, 0, 1], [0, 0, 0, 0], [1, 0, 0, 0], [1, 0, 0, 0], [0, 0, 0, 0], [1, 0, 0, 0], [0, 0, 0, 0], [0, 0, 0, 0], [0, 1, 0, 0], [0, 1, 0, 0], [0, 0, 0, 1], [0, 1, 0, 0], [1, 0, 0, 0], [0, 0, 0, 0], [1, 0, 0, 0], [0, 0, 0, 0], [0, 0, 0, 0], [0, 0, 0, 0], [0, 0, 0, 1], [0, 1, 0, 0], [0, 1, 0, 0], [0, 0, 0, 1], [0, 1, 0, 0], [0, 1, 0, 0], [0, 1, 0, 0], [1, 0, 0, 0], [0, 1, 0, 0], [1, 0, 0, 0], [0, 0, 0, 0], [0, 1, 0, 0], [1, 0, 0, 0], [0, 1, 0, 0], [1, 0, 0, 0], [0, 1, 0, 0], [1, 0, 0, 0], [0, 0, 0, 1], [0, 0, 0, 0], [0, 1, 0, 0], [0, 1, 0, 0], [0, 0, 0, 1], [0, 0, 0, 0], [0, 1, 0, 0], [0, 0, 0, 1], [0, 1, 0, 0], [0, 0, 0, 1], [0, 0, 0, 0], [0, 0, 0, 1], [0, 1, 0, 0], [1, 0, 0, 0], [0, 0, 0, 0], [1, 0, 0, 0], [0, 1, 0, 0], [0, 1, 0, 0], [1, 0, 0, 0], [0, 0, 0, 0], [0, 0, 0, 0], [0, 0, 0, 0], [0, 0, 0, 1], [0, 1, 0, 0], [0, 1, 0, 0], [0, 1, 0, 0], [0, 1, 0, 0], [0, 1, 0, 0], [0, 1, 0, 0], [0, 1, 0, 0], [0, 1, 0, 0], [1, 0, 0, 0], [0, 0, 0, 0], [0, 1, 0, 0], [0, 1, 0, 0], [1, 0, 0, 0], [0, 0, 0, 0], [0, 0, 0, 0], [0, 0, 0, 1], [0, 0, 0, 0], [1, 0, 0, 0], [0, 1, 0, 0], [1, 0, 0, 0], [0, 1, 0, 0], [1, 0, 0, 0], [1, 0, 0, 0], [0, 0, 0, 0], [0, 0, 0, 0], [0, 0, 0, 0], [0, 0, 0, 1], [0, 0, 0, 0], [0, 0, 0, 1], [0, 1, 0, 0], [0, 0, 0, 1], [0, 1, 0, 0], [0, 1, 0, 0], [0, 1, 0, 0], [0, 1, 0, 0], [0, 1, 0, 0], [1, 0, 0, 0], [0, 1, 0, 0], [0, 1, 0, 0], [1, 0, 0, 0], [0, 0, 0, 0], [0, 0, 0, 0], [0, 1, 0, 0], [0, 0, 0, 1], [0, 1, 0, 0], [1, 0, 0, 0], [0, 0, 0, 1], [0, 0, 0, 0], [0, 0, 0, 0], [1, 0, 0, 0], [0, 1, 0, 0], [1, 0, 0, 0], [1, 0, 0, 0], [0, 0, 0, 0], [0, 0, 0, 1], [0, 0, 0, 0], [0, 1, 0, 0], [0, 1, 0, 0], [0, 1, 0, 0], [1, 0, 0, 0], [1, 0, 0, 0], [0, 0, 0, 0], [1, 0, 0, 0], [0, 1, 0, 0], [0, 0, 0, 0], [0, 0, 0, 1], [0, 1, 0, 0], [0, 1, 0, 0], [0, 1, 0, 0], [0, 1, 0, 0], [0, 1, 0, 0], [0, 0, 0, 0], [1, 0, 0, 0], [0, 0, 0, 1], [0, 0, 0, 0], [0, 1, 0, 0], [0, 0, 0, 0], [0, 1, 0, 0], [1, 0, 0, 0], [1, 0, 0, 0], [0, 1, 0, 0], [0, 0, 0, 0], [1, 0, 0, 0], [0, 0, 0, 0], [0, 0, 0, 0], [0, 0, 0, 0], [0, 0, 0, 0], [0, 0, 0, 0], [1, 0, 0, 0], [0, 0, 0, 0], [0, 0, 0, 0], [0, 0, 0, 0], [0, 1, 0, 0], [0, 0, 0, 0], [0, 1, 0, 0], [0, 0, 0, 1], [0, 0, 0, 1], [0, 1, 0, 0], [0, 0, 0, 1], [0, 0, 0, 0], [0, 0, 0, 1], [0, 0, 0, 0], [0, 1, 0, 0], [0, 0, 0, 0], [0, 0, 0, 0], [0, 0, 0, 0], [0, 0, 0, 0], [0, 1, 0, 0], [0, 0, 0, 1], [0, 1, 0, 0], [0, 0, 0, 0], [0, 1, 0, 0], [0, 0, 0, 0], [0, 0, 0, 1], [0, 0, 0, 0], [1, 0, 0, 0], [0, 0, 0, 0], [0, 0, 0, 0], [1, 0, 0, 0], [0, 0, 0, 1], [0, 0, 0, 0], [0, 0, 0, 0], [0, 1, 0, 0], [0, 0, 0, 1], [0, 1, 0, 0], [1, 0, 0, 0], [0, 1, 0, 0], [1, 0, 0, 0], [0, 0, 0, 0], [0, 0, 0, 0], [0, 0, 0, 0], [0, 0, 0, 1], [0, 1, 0, 0], [0, 1, 0, 0], [0, 0, 0, 1], [0, 1, 0, 0], [0, 1, 0, 0], [0, 1, 0, 0], [1, 0, 0, 0], [0, 1, 0, 0], [0, 0, 0, 0], [0, 0, 0, 0], [0, 1, 0, 0], [1, 0, 0, 0], [0, 1, 0, 0], [1, 0, 0, 0], [0, 1, 0, 0], [1, 0, 0, 0], [0, 0, 0, 1], [0, 0, 0, 0], [0, 1, 0, 0], [0, 1, 0, 0], [0, 0, 0, 1], [0, 0, 0, 0], [0, 1, 0, 0], [0, 0, 0, 1], [0, 1, 0, 0], [0, 0, 0, 1], [0, 0, 0, 0], [0, 0, 0, 1], [0, 0, 0, 0], [1, 0, 0, 0], [0, 0, 0, 0], [1, 0, 0, 0], [0, 1, 0, 0], [0, 1, 0, 0], [0, 0, 0, 0], [0, 0, 0, 0], [0, 0, 0, 0], [0, 0, 0, 0], [0, 0, 0, 0]]),\n",
              "       list([[0, 0, 0, 0], [0, 0, 0, 0], [0, 1, 0, 0], [0, 0, 0, 1], [0, 1, 0, 0], [1, 0, 0, 0], [0, 0, 0, 1], [0, 0, 0, 0], [0, 0, 0, 0], [1, 0, 0, 0], [0, 1, 0, 0], [1, 0, 0, 0], [1, 0, 0, 0], [0, 0, 0, 0], [0, 0, 0, 1], [0, 0, 0, 0], [0, 1, 0, 0], [0, 1, 0, 0], [0, 1, 0, 0], [1, 0, 0, 0], [1, 0, 0, 0], [0, 0, 0, 0], [1, 0, 0, 0], [0, 0, 0, 1], [1, 0, 0, 0], [0, 0, 0, 1], [0, 1, 0, 0], [0, 1, 0, 0], [0, 1, 0, 0], [1, 0, 0, 0], [0, 1, 0, 0], [1, 0, 0, 0], [1, 0, 0, 0], [0, 1, 0, 0], [0, 0, 0, 1], [0, 1, 0, 0], [0, 1, 0, 0], [0, 1, 0, 0], [1, 0, 0, 0], [1, 0, 0, 0], [0, 1, 0, 0], [1, 0, 0, 0], [1, 0, 0, 0], [0, 0, 0, 0], [0, 0, 0, 0], [0, 0, 0, 0], [0, 0, 0, 0], [1, 0, 0, 0], [1, 0, 0, 0], [0, 0, 0, 0], [0, 0, 0, 0], [0, 0, 0, 0], [0, 1, 0, 0], [0, 0, 0, 0], [0, 1, 0, 0], [0, 0, 0, 1], [0, 1, 0, 0], [0, 1, 0, 0], [0, 0, 0, 1], [0, 0, 0, 0], [0, 0, 0, 1], [0, 0, 0, 0], [0, 1, 0, 0], [0, 0, 0, 0], [0, 0, 0, 0], [0, 0, 0, 0], [0, 0, 0, 0], [0, 1, 0, 0], [0, 0, 0, 1], [0, 1, 0, 0], [0, 0, 0, 0], [1, 0, 0, 0], [0, 0, 0, 0], [0, 0, 0, 1], [0, 0, 0, 0], [1, 0, 0, 0], [0, 0, 0, 0], [0, 0, 0, 0], [1, 0, 0, 0], [0, 0, 0, 1], [0, 0, 0, 0], [0, 0, 0, 0], [0, 1, 0, 0], [0, 0, 0, 1], [0, 1, 0, 0], [1, 0, 0, 0], [0, 0, 0, 0], [1, 0, 0, 0], [0, 0, 0, 0], [0, 0, 0, 0], [0, 0, 0, 0], [0, 0, 0, 1], [0, 1, 0, 0], [0, 1, 0, 0], [0, 0, 0, 1], [0, 1, 0, 0], [0, 1, 0, 0], [0, 1, 0, 0], [1, 0, 0, 0], [0, 1, 0, 0], [1, 0, 0, 0], [0, 0, 0, 0], [0, 1, 0, 0], [1, 0, 0, 0], [0, 1, 0, 0], [1, 0, 0, 0], [0, 1, 0, 0], [1, 0, 0, 0], [0, 0, 0, 1], [1, 0, 0, 0], [0, 1, 0, 0], [0, 1, 0, 0], [0, 0, 0, 1], [0, 0, 0, 0], [0, 1, 0, 0], [0, 0, 0, 1], [0, 1, 0, 0], [0, 0, 0, 1], [0, 0, 0, 0], [0, 0, 0, 1], [0, 0, 0, 0], [1, 0, 0, 0], [0, 0, 0, 0], [1, 0, 0, 0], [0, 1, 0, 0], [0, 1, 0, 0], [1, 0, 0, 0], [0, 0, 0, 0], [0, 1, 0, 0], [0, 0, 0, 1], [0, 1, 0, 0], [0, 1, 0, 0], [0, 1, 0, 0], [0, 1, 0, 0], [0, 0, 0, 1], [0, 1, 0, 0], [0, 1, 0, 0], [1, 0, 0, 0], [0, 0, 0, 0], [0, 1, 0, 0], [1, 0, 0, 0], [1, 0, 0, 0], [0, 0, 0, 0], [1, 0, 0, 0], [0, 0, 0, 1], [0, 0, 0, 0], [1, 0, 0, 0], [0, 0, 0, 0], [0, 1, 0, 0], [0, 1, 0, 0], [0, 1, 0, 0], [1, 0, 0, 0], [1, 0, 0, 0], [0, 0, 0, 0], [0, 0, 0, 0], [0, 0, 0, 1], [0, 1, 0, 0], [0, 0, 0, 1], [0, 1, 0, 0], [0, 0, 0, 1], [0, 1, 0, 0], [0, 1, 0, 0], [0, 1, 0, 0], [0, 1, 0, 0], [0, 1, 0, 0], [1, 0, 0, 0], [0, 1, 0, 0], [0, 0, 0, 0], [1, 0, 0, 0], [0, 1, 0, 0], [0, 0, 0, 0], [0, 1, 0, 0], [0, 0, 0, 1], [0, 1, 0, 0], [1, 0, 0, 0], [0, 0, 0, 1], [0, 0, 0, 0], [0, 0, 0, 0], [1, 0, 0, 0], [0, 1, 0, 0], [1, 0, 0, 0], [1, 0, 0, 0], [0, 0, 0, 0], [0, 0, 0, 0], [0, 0, 0, 0], [0, 0, 0, 0], [0, 1, 0, 0], [1, 0, 0, 0], [1, 0, 0, 0], [1, 0, 0, 0], [0, 0, 0, 0], [1, 0, 0, 0], [0, 1, 0, 0], [1, 0, 0, 0], [0, 0, 0, 1], [0, 0, 0, 1], [0, 0, 0, 1], [0, 1, 0, 0], [0, 0, 0, 0], [0, 1, 0, 0], [1, 0, 0, 0], [1, 0, 0, 0], [0, 0, 0, 1], [0, 0, 0, 1], [0, 1, 0, 0], [0, 1, 0, 0], [0, 1, 0, 0], [0, 1, 0, 0], [1, 0, 0, 0], [0, 1, 0, 0], [1, 0, 0, 0], [1, 0, 0, 0], [0, 0, 0, 0], [0, 0, 0, 0], [0, 0, 0, 0], [0, 0, 0, 0], [0, 1, 0, 0], [0, 0, 0, 0], [0, 0, 0, 0], [0, 0, 0, 0], [0, 1, 0, 0], [0, 1, 0, 0], [0, 0, 0, 0], [0, 1, 0, 0], [0, 0, 0, 1], [0, 1, 0, 0], [0, 1, 0, 0], [0, 0, 0, 1], [0, 0, 0, 0], [0, 0, 0, 1], [0, 1, 0, 0], [0, 1, 0, 0], [0, 0, 0, 0], [0, 0, 0, 0], [0, 0, 0, 0], [0, 0, 0, 0], [0, 0, 0, 0], [0, 0, 0, 1], [0, 1, 0, 0], [0, 0, 0, 0], [0, 0, 0, 1], [0, 0, 0, 0], [0, 0, 0, 1], [0, 0, 0, 0], [1, 0, 0, 0], [1, 0, 0, 0], [0, 0, 0, 0], [1, 0, 0, 0], [0, 0, 0, 0], [0, 0, 0, 0], [0, 1, 0, 0], [0, 1, 0, 0], [0, 0, 0, 1], [0, 1, 0, 0], [1, 0, 0, 0], [0, 0, 0, 0], [1, 0, 0, 0], [0, 0, 0, 0], [0, 0, 0, 0], [0, 0, 0, 0], [0, 0, 0, 1], [0, 1, 0, 0], [0, 1, 0, 0], [0, 0, 0, 1], [0, 1, 0, 0], [0, 1, 0, 0], [0, 1, 0, 0], [1, 0, 0, 0], [0, 1, 0, 0], [1, 0, 0, 0], [0, 0, 0, 0], [0, 1, 0, 0], [1, 0, 0, 0], [0, 1, 0, 0], [1, 0, 0, 0], [0, 1, 0, 0], [1, 0, 0, 0], [0, 0, 0, 1], [0, 0, 0, 0], [0, 1, 0, 0], [0, 1, 0, 0], [0, 0, 0, 1], [0, 0, 0, 0], [0, 1, 0, 0], [0, 0, 0, 1], [0, 1, 0, 0], [0, 0, 0, 1], [0, 0, 0, 0], [0, 0, 0, 1], [0, 1, 0, 0], [1, 0, 0, 0], [0, 0, 0, 0], [1, 0, 0, 0], [0, 1, 0, 0], [0, 1, 0, 0], [1, 0, 0, 0], [0, 0, 0, 0], [0, 0, 0, 0], [0, 0, 0, 0], [0, 0, 0, 1], [0, 1, 0, 0], [0, 1, 0, 0], [0, 1, 0, 0], [0, 1, 0, 0], [0, 1, 0, 0], [0, 1, 0, 0], [0, 1, 0, 0], [0, 1, 0, 0], [1, 0, 0, 0], [0, 0, 0, 0], [0, 1, 0, 0], [0, 1, 0, 0], [1, 0, 0, 0], [0, 0, 0, 0], [0, 0, 0, 0], [0, 0, 0, 1], [0, 0, 0, 0], [1, 0, 0, 0], [0, 1, 0, 0], [1, 0, 0, 0], [0, 1, 0, 0], [1, 0, 0, 0], [1, 0, 0, 0], [0, 0, 0, 0], [0, 0, 0, 0], [0, 0, 0, 0], [0, 0, 0, 1], [0, 0, 0, 0], [0, 0, 0, 1], [0, 1, 0, 0], [0, 0, 0, 1], [0, 1, 0, 0], [0, 1, 0, 0], [0, 1, 0, 0], [0, 1, 0, 0], [0, 1, 0, 0], [1, 0, 0, 0], [0, 1, 0, 0], [0, 1, 0, 0], [1, 0, 0, 0], [0, 0, 0, 0], [0, 0, 0, 0], [0, 1, 0, 0], [0, 0, 0, 1], [0, 1, 0, 0], [1, 0, 0, 0], [0, 0, 0, 1], [0, 0, 0, 0], [0, 0, 0, 0], [1, 0, 0, 0], [0, 1, 0, 0], [1, 0, 0, 0], [1, 0, 0, 0], [0, 0, 0, 0], [0, 0, 0, 1], [0, 0, 0, 0], [0, 1, 0, 0], [0, 1, 0, 0], [0, 1, 0, 0], [1, 0, 0, 0], [1, 0, 0, 0], [0, 0, 0, 0], [1, 0, 0, 0], [0, 1, 0, 0], [0, 0, 0, 0], [0, 0, 0, 1], [0, 1, 0, 0], [0, 1, 0, 0], [0, 1, 0, 0], [0, 1, 0, 0], [0, 1, 0, 0], [0, 0, 0, 0], [1, 0, 0, 0], [0, 0, 0, 1], [0, 0, 0, 0], [0, 1, 0, 0], [0, 0, 0, 0], [0, 1, 0, 0], [1, 0, 0, 0], [1, 0, 0, 0], [0, 1, 0, 0], [0, 0, 0, 0], [1, 0, 0, 0], [0, 0, 0, 0], [0, 0, 0, 0], [0, 0, 0, 0], [0, 0, 0, 0], [0, 0, 0, 0], [1, 0, 0, 0], [0, 0, 0, 0], [0, 0, 0, 0], [0, 0, 0, 0], [0, 1, 0, 0], [0, 0, 0, 0], [0, 1, 0, 0], [0, 0, 0, 1], [0, 0, 0, 1], [0, 1, 0, 0], [0, 0, 0, 1]]),\n",
              "       list([[0, 0, 0, 0], [0, 0, 0, 1], [0, 1, 0, 0], [0, 0, 0, 1], [0, 1, 0, 0], [0, 1, 0, 0], [0, 1, 0, 0], [0, 1, 0, 0], [0, 1, 0, 0], [1, 0, 0, 0], [0, 0, 0, 1], [0, 0, 0, 0], [1, 0, 0, 0], [0, 0, 0, 0], [0, 0, 0, 0], [0, 1, 0, 0], [0, 0, 0, 1], [0, 1, 0, 0], [1, 0, 0, 0], [0, 0, 0, 1], [0, 0, 0, 0], [0, 0, 0, 0], [1, 0, 0, 0], [0, 1, 0, 0], [1, 0, 0, 0], [1, 0, 0, 0], [0, 0, 0, 0], [0, 0, 0, 1], [0, 0, 0, 0], [0, 1, 0, 0], [0, 1, 0, 0], [0, 1, 0, 0], [1, 0, 0, 0], [1, 0, 0, 0], [0, 0, 0, 0], [1, 0, 0, 0], [0, 0, 0, 1], [1, 0, 0, 0], [0, 0, 0, 1], [0, 1, 0, 0], [0, 1, 0, 0], [0, 1, 0, 0], [1, 0, 0, 0], [0, 1, 0, 0], [1, 0, 0, 0], [1, 0, 0, 0], [0, 1, 0, 0], [0, 0, 0, 1], [0, 1, 0, 0], [0, 1, 0, 0], [0, 1, 0, 0], [1, 0, 0, 0], [1, 0, 0, 0], [0, 1, 0, 0], [1, 0, 0, 0], [1, 0, 0, 0], [0, 0, 0, 0], [0, 0, 0, 0], [0, 0, 0, 0], [0, 0, 0, 0], [1, 0, 0, 0], [1, 0, 0, 0], [0, 0, 0, 0], [0, 0, 0, 0], [0, 0, 0, 0], [0, 1, 0, 0], [0, 0, 0, 0], [0, 1, 0, 0], [0, 0, 0, 1], [0, 1, 0, 0], [0, 1, 0, 0], [0, 0, 0, 1], [0, 0, 0, 0], [0, 0, 0, 1], [0, 0, 0, 0], [0, 1, 0, 0], [0, 0, 0, 0], [0, 0, 0, 0], [0, 0, 0, 0], [0, 0, 0, 0], [0, 1, 0, 0], [0, 0, 0, 1], [0, 1, 0, 0], [0, 0, 0, 0], [1, 0, 0, 0], [0, 0, 0, 0], [0, 0, 0, 1], [0, 0, 0, 0], [1, 0, 0, 0], [0, 0, 0, 0], [0, 0, 0, 0], [1, 0, 0, 0], [0, 0, 0, 1], [0, 0, 0, 0], [0, 0, 0, 0], [0, 1, 0, 0], [0, 0, 0, 1], [0, 1, 0, 0], [1, 0, 0, 0], [0, 0, 0, 0], [1, 0, 0, 0], [0, 0, 0, 0], [0, 0, 0, 0], [0, 0, 0, 0], [0, 0, 0, 1], [0, 1, 0, 0], [0, 1, 0, 0], [0, 0, 0, 1], [0, 1, 0, 0], [0, 1, 0, 0], [0, 1, 0, 0], [1, 0, 0, 0], [0, 1, 0, 0], [1, 0, 0, 0], [0, 0, 0, 0], [0, 1, 0, 0], [1, 0, 0, 0], [0, 1, 0, 0], [1, 0, 0, 0], [0, 1, 0, 0], [1, 0, 0, 0], [0, 0, 0, 1], [1, 0, 0, 0], [0, 1, 0, 0], [0, 1, 0, 0], [0, 0, 0, 1], [0, 0, 0, 0], [0, 1, 0, 0], [0, 0, 0, 1], [0, 1, 0, 0], [0, 0, 0, 1], [0, 0, 0, 0], [0, 0, 0, 1], [0, 0, 0, 0], [1, 0, 0, 0], [0, 0, 0, 0], [1, 0, 0, 0], [0, 1, 0, 0], [0, 1, 0, 0], [1, 0, 0, 0], [0, 0, 0, 0], [0, 1, 0, 0], [0, 0, 0, 1], [0, 1, 0, 0], [0, 1, 0, 0], [0, 1, 0, 0], [0, 1, 0, 0], [0, 0, 0, 1], [0, 1, 0, 0], [0, 1, 0, 0], [1, 0, 0, 0], [0, 0, 0, 0], [0, 1, 0, 0], [1, 0, 0, 0], [1, 0, 0, 0], [0, 0, 0, 0], [1, 0, 0, 0], [0, 0, 0, 1], [0, 0, 0, 0], [1, 0, 0, 0], [0, 0, 0, 0], [0, 1, 0, 0], [0, 1, 0, 0], [0, 1, 0, 0], [1, 0, 0, 0], [1, 0, 0, 0], [0, 0, 0, 0], [0, 0, 0, 0], [0, 0, 0, 1], [0, 1, 0, 0], [0, 0, 0, 1], [0, 1, 0, 0], [0, 0, 0, 1], [0, 1, 0, 0], [0, 1, 0, 0], [0, 1, 0, 0], [0, 1, 0, 0], [0, 1, 0, 0], [1, 0, 0, 0], [0, 1, 0, 0], [0, 0, 0, 0], [1, 0, 0, 0], [0, 1, 0, 0], [0, 0, 0, 0], [0, 1, 0, 0], [0, 0, 0, 1], [0, 1, 0, 0], [1, 0, 0, 0], [0, 0, 0, 1], [0, 0, 0, 0], [0, 0, 0, 0], [1, 0, 0, 0], [0, 1, 0, 0], [1, 0, 0, 0], [1, 0, 0, 0], [0, 0, 0, 0], [0, 0, 0, 0], [0, 0, 0, 0], [0, 0, 0, 0], [0, 1, 0, 0], [1, 0, 0, 0], [1, 0, 0, 0], [1, 0, 0, 0], [0, 0, 0, 0], [1, 0, 0, 0], [0, 1, 0, 0], [1, 0, 0, 0], [0, 0, 0, 1], [0, 0, 0, 1], [0, 0, 0, 1], [0, 1, 0, 0], [0, 0, 0, 0], [0, 1, 0, 0], [1, 0, 0, 0], [1, 0, 0, 0], [0, 0, 0, 1], [0, 0, 0, 1], [0, 1, 0, 0], [0, 1, 0, 0], [0, 1, 0, 0], [0, 1, 0, 0], [1, 0, 0, 0], [0, 1, 0, 0], [1, 0, 0, 0], [1, 0, 0, 0], [0, 0, 0, 0], [0, 0, 0, 0], [0, 0, 0, 0], [0, 0, 0, 0], [0, 1, 0, 0], [0, 0, 0, 0], [0, 0, 0, 0], [0, 0, 0, 0], [0, 1, 0, 0], [0, 1, 0, 0], [0, 0, 0, 0], [0, 1, 0, 0], [0, 0, 0, 1], [0, 1, 0, 0], [0, 1, 0, 0], [0, 0, 0, 1], [0, 0, 0, 0], [0, 0, 0, 1], [0, 1, 0, 0], [0, 1, 0, 0], [0, 0, 0, 0], [0, 0, 0, 0], [0, 0, 0, 0], [0, 0, 0, 0], [0, 0, 0, 0], [0, 0, 0, 1], [0, 1, 0, 0], [0, 0, 0, 0], [0, 0, 0, 1], [0, 0, 0, 0], [0, 0, 0, 1], [0, 0, 0, 0], [1, 0, 0, 0], [1, 0, 0, 0], [0, 0, 0, 0], [1, 0, 0, 0], [0, 0, 0, 0], [0, 0, 0, 0], [0, 1, 0, 0], [0, 1, 0, 0], [0, 0, 0, 1], [0, 1, 0, 0], [1, 0, 0, 0], [0, 0, 0, 0], [1, 0, 0, 0], [0, 0, 0, 0], [0, 0, 0, 0], [0, 0, 0, 0], [0, 0, 0, 1], [0, 1, 0, 0], [0, 1, 0, 0], [0, 0, 0, 1], [0, 1, 0, 0], [0, 1, 0, 0], [0, 1, 0, 0], [1, 0, 0, 0], [0, 1, 0, 0], [1, 0, 0, 0], [0, 0, 0, 0], [0, 1, 0, 0], [1, 0, 0, 0], [0, 1, 0, 0], [1, 0, 0, 0], [0, 1, 0, 0], [1, 0, 0, 0], [0, 0, 0, 1], [0, 0, 0, 0], [0, 1, 0, 0], [0, 1, 0, 0], [0, 0, 0, 1], [0, 0, 0, 0], [0, 1, 0, 0], [0, 0, 0, 1], [0, 1, 0, 0], [0, 0, 0, 1], [0, 0, 0, 0], [0, 0, 0, 1], [0, 1, 0, 0], [1, 0, 0, 0], [0, 0, 0, 0], [1, 0, 0, 0], [0, 1, 0, 0], [0, 1, 0, 0], [1, 0, 0, 0], [0, 0, 0, 0], [0, 0, 0, 0], [0, 0, 0, 0], [0, 0, 0, 1], [0, 1, 0, 0], [0, 1, 0, 0], [0, 1, 0, 0], [0, 1, 0, 0], [0, 1, 0, 0], [0, 1, 0, 0], [0, 1, 0, 0], [0, 1, 0, 0], [1, 0, 0, 0], [0, 0, 0, 0], [0, 1, 0, 0], [0, 1, 0, 0], [1, 0, 0, 0], [0, 0, 0, 0], [0, 0, 0, 0], [0, 0, 0, 1], [0, 0, 0, 0], [1, 0, 0, 0], [0, 1, 0, 0], [1, 0, 0, 0], [0, 1, 0, 0], [1, 0, 0, 0], [1, 0, 0, 0], [0, 0, 0, 0], [0, 0, 0, 0], [0, 0, 0, 0], [0, 0, 0, 1], [0, 0, 0, 0], [0, 0, 0, 1], [0, 1, 0, 0], [0, 0, 0, 1], [0, 1, 0, 0], [0, 1, 0, 0], [0, 1, 0, 0], [0, 1, 0, 0], [0, 1, 0, 0], [1, 0, 0, 0], [0, 1, 0, 0], [0, 1, 0, 0], [1, 0, 0, 0], [0, 0, 0, 0], [0, 0, 0, 0], [0, 1, 0, 0], [0, 0, 0, 1], [0, 1, 0, 0], [1, 0, 0, 0], [0, 0, 0, 1], [0, 0, 0, 0], [0, 0, 0, 0], [1, 0, 0, 0], [0, 1, 0, 0], [1, 0, 0, 0], [1, 0, 0, 0], [0, 0, 0, 0], [0, 0, 0, 1], [0, 0, 0, 0], [0, 1, 0, 0], [0, 1, 0, 0], [0, 1, 0, 0], [1, 0, 0, 0], [1, 0, 0, 0], [0, 0, 0, 0], [1, 0, 0, 0], [0, 1, 0, 0], [0, 0, 0, 0], [0, 0, 0, 1], [0, 1, 0, 0], [0, 1, 0, 0], [0, 1, 0, 0], [0, 1, 0, 0], [0, 1, 0, 0], [0, 0, 0, 0], [1, 0, 0, 0], [0, 0, 0, 1], [0, 0, 0, 0], [0, 1, 0, 0], [0, 0, 0, 0], [0, 1, 0, 0], [1, 0, 0, 0], [1, 0, 0, 0], [0, 1, 0, 0], [0, 0, 0, 0], [1, 0, 0, 0], [0, 0, 0, 0], [0, 0, 0, 0], [0, 0, 0, 0]])],\n",
              "      dtype=object)"
            ]
          },
          "metadata": {},
          "execution_count": 39
        }
      ],
      "source": [
        "a"
      ]
    },
    {
      "cell_type": "code",
      "execution_count": 40,
      "metadata": {
        "id": "EeL8-l24inYB"
      },
      "outputs": [],
      "source": [
        "a = a.reshape(1, -1)"
      ]
    },
    {
      "cell_type": "code",
      "execution_count": 41,
      "metadata": {
        "id": "diBvMbxainYC"
      },
      "outputs": [],
      "source": [
        "a = np.array(a[0])"
      ]
    },
    {
      "cell_type": "code",
      "execution_count": 42,
      "metadata": {
        "colab": {
          "base_uri": "https://localhost:8080/"
        },
        "id": "BKMvEjpLinYC",
        "outputId": "06258f8c-09e9-4acb-a354-1a89c6e86e08"
      },
      "outputs": [
        {
          "output_type": "execute_result",
          "data": {
            "text/plain": [
              "(2318,)"
            ]
          },
          "metadata": {},
          "execution_count": 42
        }
      ],
      "source": [
        "a.shape"
      ]
    },
    {
      "cell_type": "code",
      "execution_count": 43,
      "metadata": {
        "colab": {
          "base_uri": "https://localhost:8080/"
        },
        "id": "NCYzWmOxinYC",
        "outputId": "2991d9f5-6ade-4d78-e585-e5271bb46b83"
      },
      "outputs": [
        {
          "output_type": "execute_result",
          "data": {
            "text/plain": [
              "(2318,)"
            ]
          },
          "metadata": {},
          "execution_count": 43
        }
      ],
      "source": [
        "b = np.array([])\n",
        "for i in range(0, len(np_data)):\n",
        "    a = np_data[i]\n",
        "    a = a.reshape(1, -1)\n",
        "    a = np.array(a[0])\n",
        "    b = np.append(b, a)\n",
        "\n",
        "b.shape\n",
        "\n",
        "    "
      ]
    },
    {
      "cell_type": "code",
      "execution_count": 44,
      "metadata": {
        "colab": {
          "base_uri": "https://localhost:8080/"
        },
        "id": "sOKzPNbVinYC",
        "outputId": "24f97818-f50e-45e7-f011-11b845ab64b2"
      },
      "outputs": [
        {
          "output_type": "execute_result",
          "data": {
            "text/plain": [
              "list"
            ]
          },
          "metadata": {},
          "execution_count": 44
        }
      ],
      "source": [
        "type(b[0])"
      ]
    },
    {
      "cell_type": "code",
      "execution_count": 45,
      "metadata": {
        "id": "HlbeY9KiinYD"
      },
      "outputs": [],
      "source": [
        "# convert list to a numpy 2d array\n",
        "\n",
        "for i in range(0, len(b)):\n",
        "    b[i] = np.array(b[i])"
      ]
    },
    {
      "cell_type": "code",
      "execution_count": 46,
      "metadata": {
        "colab": {
          "base_uri": "https://localhost:8080/"
        },
        "id": "TwlxiigXinYD",
        "outputId": "1dd9258e-6f06-479c-ebbf-46d66454a6dd"
      },
      "outputs": [
        {
          "output_type": "execute_result",
          "data": {
            "text/plain": [
              "numpy.ndarray"
            ]
          },
          "metadata": {},
          "execution_count": 46
        }
      ],
      "source": [
        "\n",
        "type(b[0])"
      ]
    },
    {
      "cell_type": "code",
      "execution_count": 47,
      "metadata": {
        "colab": {
          "base_uri": "https://localhost:8080/"
        },
        "id": "aNEup-7binYD",
        "outputId": "2371af4f-35ef-4542-a16c-7dd1cb3d4822"
      },
      "outputs": [
        {
          "output_type": "execute_result",
          "data": {
            "text/plain": [
              "(399, 4)"
            ]
          },
          "metadata": {},
          "execution_count": 47
        }
      ],
      "source": [
        "b[0].shape"
      ]
    },
    {
      "cell_type": "code",
      "execution_count": 48,
      "metadata": {
        "id": "wShOp1ZAinYD"
      },
      "outputs": [],
      "source": [
        "#convert 1 d array to 2d array\n"
      ]
    },
    {
      "cell_type": "code",
      "execution_count": 49,
      "metadata": {
        "colab": {
          "base_uri": "https://localhost:8080/"
        },
        "id": "tdnKJc7binYE",
        "outputId": "4cf5437a-800f-425a-d13c-4427910b9855"
      },
      "outputs": [
        {
          "output_type": "execute_result",
          "data": {
            "text/plain": [
              "(399, 4)"
            ]
          },
          "metadata": {},
          "execution_count": 49
        }
      ],
      "source": [
        "b[0].shape"
      ]
    },
    {
      "cell_type": "code",
      "execution_count": 50,
      "metadata": {
        "id": "1QKRKfoMinYE"
      },
      "outputs": [],
      "source": [
        "for i in range(0, len(b)):\n",
        "    b[i] = b[i].reshape(399, 4, 1)"
      ]
    },
    {
      "cell_type": "code",
      "execution_count": 50,
      "metadata": {
        "id": "8GPhnx6MinYE"
      },
      "outputs": [],
      "source": []
    },
    {
      "cell_type": "code",
      "execution_count": 51,
      "metadata": {
        "id": "6q9IPPV6inYE"
      },
      "outputs": [],
      "source": [
        "labels = data['Label']\n",
        "labels = labels.apply(lambda x: 1 if x == True else 0)"
      ]
    },
    {
      "cell_type": "code",
      "execution_count": 52,
      "metadata": {
        "id": "N8mkKrsSinYE"
      },
      "outputs": [],
      "source": [
        "from sklearn.model_selection import train_test_split\n",
        "X_train, X_test, y_train, y_test = train_test_split(sequences_train, labels, test_size=0.15, random_state=42)\n",
        "X_train, X_val, y_train, y_val = train_test_split(X_train, y_train, test_size=0.15, random_state=42)"
      ]
    },
    {
      "cell_type": "code",
      "execution_count": 53,
      "metadata": {
        "colab": {
          "base_uri": "https://localhost:8080/"
        },
        "id": "zA6r47BBinYF",
        "outputId": "fedfce1b-6f26-47e1-cc8f-763aa04d6e6b"
      },
      "outputs": [
        {
          "output_type": "execute_result",
          "data": {
            "text/plain": [
              "(1674, 399, 4, 1)"
            ]
          },
          "metadata": {},
          "execution_count": 53
        }
      ],
      "source": [
        "X_train.shape\n"
      ]
    },
    {
      "cell_type": "code",
      "execution_count": 54,
      "metadata": {
        "colab": {
          "base_uri": "https://localhost:8080/"
        },
        "id": "gzKiYJ4winYF",
        "outputId": "302d6fc2-06cf-4026-965e-7a4767a7f3d2"
      },
      "outputs": [
        {
          "output_type": "stream",
          "name": "stdout",
          "text": [
            "Converting labels to one-hot encoding...\n",
            "1011    1\n",
            "1745    0\n",
            "1092    1\n",
            "230     1\n",
            "1942    0\n",
            "1237    0\n",
            "483     1\n",
            "763     1\n",
            "1495    0\n",
            "1176    0\n",
            "Name: Label, dtype: int64\n",
            "[[0. 1.]\n",
            " [1. 0.]\n",
            " [0. 1.]\n",
            " [0. 1.]\n",
            " [1. 0.]\n",
            " [1. 0.]\n",
            " [0. 1.]\n",
            " [0. 1.]\n",
            " [1. 0.]\n",
            " [1. 0.]]\n",
            "Training the model...\n",
            "Learning rate:  0.05  for epoch:  0\n",
            "Epoch 1/50\n",
            "52/53 [============================>.] - ETA: 0s - loss: 0.6913 - accuracy: 0.6070 - auc: 0.6733 - precision: 0.6061 - recall: 0.6196 - true_positives: 1031.0000 - true_negatives: 994.0000 - false_positives: 670.0000 - false_negatives: 633.0000 - categorical_crossentropy: 0.6913\n",
            "Epoch 1: val_accuracy improved from -inf to 0.57432, saving model to best_model.h5\n",
            "53/53 [==============================] - 5s 72ms/step - loss: 0.6909 - accuracy: 0.6063 - auc: 0.6725 - precision: 0.6055 - recall: 0.6189 - true_positives: 1036.0000 - true_negatives: 999.0000 - false_positives: 675.0000 - false_negatives: 638.0000 - categorical_crossentropy: 0.6909 - val_loss: 0.4968 - val_accuracy: 0.5743 - val_auc: 0.7571 - val_precision: 0.5695 - val_recall: 0.5811 - val_true_positives: 172.0000 - val_true_negatives: 166.0000 - val_false_positives: 130.0000 - val_false_negatives: 124.0000 - val_categorical_crossentropy: 0.4968 - lr: 0.0500\n",
            "Learning rate:  0.05  for epoch:  1\n",
            "Epoch 2/50\n",
            "52/53 [============================>.] - ETA: 0s - loss: 0.2620 - accuracy: 0.8906 - auc: 0.9596 - precision: 0.8884 - recall: 0.8948 - true_positives: 1489.0000 - true_negatives: 1477.0000 - false_positives: 187.0000 - false_negatives: 175.0000 - categorical_crossentropy: 0.2620\n",
            "Epoch 2: val_accuracy improved from 0.57432 to 0.91216, saving model to best_model.h5\n",
            "53/53 [==============================] - 5s 87ms/step - loss: 0.2607 - accuracy: 0.8913 - auc: 0.9600 - precision: 0.8891 - recall: 0.8955 - true_positives: 1499.0000 - true_negatives: 1487.0000 - false_positives: 187.0000 - false_negatives: 175.0000 - categorical_crossentropy: 0.2607 - val_loss: 0.2358 - val_accuracy: 0.9122 - val_auc: 0.9700 - val_precision: 0.9178 - val_recall: 0.9054 - val_true_positives: 268.0000 - val_true_negatives: 272.0000 - val_false_positives: 24.0000 - val_false_negatives: 28.0000 - val_categorical_crossentropy: 0.2358 - lr: 0.0500\n",
            "Learning rate:  0.05  for epoch:  2\n",
            "Epoch 3/50\n",
            "52/53 [============================>.] - ETA: 0s - loss: 0.1558 - accuracy: 0.9507 - auc: 0.9832 - precision: 0.9518 - recall: 0.9501 - true_positives: 1581.0000 - true_negatives: 1584.0000 - false_positives: 80.0000 - false_negatives: 83.0000 - categorical_crossentropy: 0.1558\n",
            "Epoch 3: val_accuracy did not improve from 0.91216\n",
            "53/53 [==============================] - 3s 59ms/step - loss: 0.1595 - accuracy: 0.9498 - auc: 0.9822 - precision: 0.9509 - recall: 0.9492 - true_positives: 1589.0000 - true_negatives: 1592.0000 - false_positives: 82.0000 - false_negatives: 85.0000 - categorical_crossentropy: 0.1595 - val_loss: 0.3327 - val_accuracy: 0.8547 - val_auc: 0.9532 - val_precision: 0.8547 - val_recall: 0.8547 - val_true_positives: 253.0000 - val_true_negatives: 253.0000 - val_false_positives: 43.0000 - val_false_negatives: 43.0000 - val_categorical_crossentropy: 0.3327 - lr: 0.0500\n",
            "Learning rate:  0.05  for epoch:  3\n",
            "Epoch 4/50\n",
            "52/53 [============================>.] - ETA: 0s - loss: 0.1613 - accuracy: 0.9411 - auc: 0.9834 - precision: 0.9432 - recall: 0.9375 - true_positives: 1560.0000 - true_negatives: 1570.0000 - false_positives: 94.0000 - false_negatives: 104.0000 - categorical_crossentropy: 0.1613\n",
            "Epoch 4: val_accuracy did not improve from 0.91216\n",
            "53/53 [==============================] - 3s 62ms/step - loss: 0.1608 - accuracy: 0.9415 - auc: 0.9835 - precision: 0.9435 - recall: 0.9379 - true_positives: 1570.0000 - true_negatives: 1580.0000 - false_positives: 94.0000 - false_negatives: 104.0000 - categorical_crossentropy: 0.1608 - val_loss: 0.2588 - val_accuracy: 0.8919 - val_auc: 0.9719 - val_precision: 0.8919 - val_recall: 0.8919 - val_true_positives: 264.0000 - val_true_negatives: 264.0000 - val_false_positives: 32.0000 - val_false_negatives: 32.0000 - val_categorical_crossentropy: 0.2588 - lr: 0.0500\n",
            "Learning rate:  0.05  for epoch:  4\n",
            "Epoch 5/50\n",
            "52/53 [============================>.] - ETA: 0s - loss: 0.1290 - accuracy: 0.9507 - auc: 0.9891 - precision: 0.9503 - recall: 0.9531 - true_positives: 1586.0000 - true_negatives: 1581.0000 - false_positives: 83.0000 - false_negatives: 78.0000 - categorical_crossentropy: 0.1290\n",
            "Epoch 5: val_accuracy improved from 0.91216 to 0.94932, saving model to best_model.h5\n",
            "53/53 [==============================] - 3s 63ms/step - loss: 0.1292 - accuracy: 0.9504 - auc: 0.9891 - precision: 0.9500 - recall: 0.9528 - true_positives: 1595.0000 - true_negatives: 1590.0000 - false_positives: 84.0000 - false_negatives: 79.0000 - categorical_crossentropy: 0.1292 - val_loss: 0.1671 - val_accuracy: 0.9493 - val_auc: 0.9846 - val_precision: 0.9497 - val_recall: 0.9561 - val_true_positives: 283.0000 - val_true_negatives: 281.0000 - val_false_positives: 15.0000 - val_false_negatives: 13.0000 - val_categorical_crossentropy: 0.1671 - lr: 0.0500\n",
            "Learning rate:  0.05  for epoch:  5\n",
            "Epoch 6/50\n",
            "52/53 [============================>.] - ETA: 0s - loss: 0.1502 - accuracy: 0.9375 - auc: 0.9860 - precision: 0.9381 - recall: 0.9375 - true_positives: 1560.0000 - true_negatives: 1561.0000 - false_positives: 103.0000 - false_negatives: 104.0000 - categorical_crossentropy: 0.1502\n",
            "Epoch 6: val_accuracy did not improve from 0.94932\n",
            "53/53 [==============================] - 4s 84ms/step - loss: 0.1498 - accuracy: 0.9379 - auc: 0.9861 - precision: 0.9384 - recall: 0.9379 - true_positives: 1570.0000 - true_negatives: 1571.0000 - false_positives: 103.0000 - false_negatives: 104.0000 - categorical_crossentropy: 0.1498 - val_loss: 0.1476 - val_accuracy: 0.9358 - val_auc: 0.9852 - val_precision: 0.9362 - val_recall: 0.9426 - val_true_positives: 279.0000 - val_true_negatives: 277.0000 - val_false_positives: 19.0000 - val_false_negatives: 17.0000 - val_categorical_crossentropy: 0.1476 - lr: 0.0500\n",
            "Learning rate:  0.05  for epoch:  6\n",
            "Epoch 7/50\n",
            "52/53 [============================>.] - ETA: 0s - loss: 0.1037 - accuracy: 0.9621 - auc: 0.9928 - precision: 0.9610 - recall: 0.9621 - true_positives: 1601.0000 - true_negatives: 1599.0000 - false_positives: 65.0000 - false_negatives: 63.0000 - categorical_crossentropy: 0.1037\n",
            "Epoch 7: val_accuracy did not improve from 0.94932\n",
            "53/53 [==============================] - 3s 60ms/step - loss: 0.1036 - accuracy: 0.9618 - auc: 0.9928 - precision: 0.9606 - recall: 0.9624 - true_positives: 1611.0000 - true_negatives: 1608.0000 - false_positives: 66.0000 - false_negatives: 63.0000 - categorical_crossentropy: 0.1036 - val_loss: 0.2051 - val_accuracy: 0.9155 - val_auc: 0.9815 - val_precision: 0.9122 - val_recall: 0.9122 - val_true_positives: 270.0000 - val_true_negatives: 270.0000 - val_false_positives: 26.0000 - val_false_negatives: 26.0000 - val_categorical_crossentropy: 0.2051 - lr: 0.0500\n",
            "Learning rate:  0.05  for epoch:  7\n",
            "Epoch 8/50\n",
            "52/53 [============================>.] - ETA: 0s - loss: 0.1090 - accuracy: 0.9567 - auc: 0.9922 - precision: 0.9568 - recall: 0.9591 - true_positives: 1596.0000 - true_negatives: 1592.0000 - false_positives: 72.0000 - false_negatives: 68.0000 - categorical_crossentropy: 0.1090\n",
            "Epoch 8: val_accuracy did not improve from 0.94932\n",
            "53/53 [==============================] - 3s 60ms/step - loss: 0.1086 - accuracy: 0.9570 - auc: 0.9923 - precision: 0.9571 - recall: 0.9594 - true_positives: 1606.0000 - true_negatives: 1602.0000 - false_positives: 72.0000 - false_negatives: 68.0000 - categorical_crossentropy: 0.1086 - val_loss: 0.1667 - val_accuracy: 0.9324 - val_auc: 0.9841 - val_precision: 0.9293 - val_recall: 0.9324 - val_true_positives: 276.0000 - val_true_negatives: 275.0000 - val_false_positives: 21.0000 - val_false_negatives: 20.0000 - val_categorical_crossentropy: 0.1667 - lr: 0.0500\n",
            "Learning rate:  0.05  for epoch:  8\n",
            "Epoch 9/50\n",
            "52/53 [============================>.] - ETA: 0s - loss: 0.0899 - accuracy: 0.9639 - auc: 0.9948 - precision: 0.9639 - recall: 0.9627 - true_positives: 1602.0000 - true_negatives: 1604.0000 - false_positives: 60.0000 - false_negatives: 62.0000 - categorical_crossentropy: 0.0899\n",
            "Epoch 9: val_accuracy improved from 0.94932 to 0.96959, saving model to best_model.h5\n",
            "53/53 [==============================] - 4s 75ms/step - loss: 0.0900 - accuracy: 0.9642 - auc: 0.9948 - precision: 0.9641 - recall: 0.9630 - true_positives: 1612.0000 - true_negatives: 1614.0000 - false_positives: 60.0000 - false_negatives: 62.0000 - categorical_crossentropy: 0.0900 - val_loss: 0.1015 - val_accuracy: 0.9696 - val_auc: 0.9934 - val_precision: 0.9695 - val_recall: 0.9662 - val_true_positives: 286.0000 - val_true_negatives: 287.0000 - val_false_positives: 9.0000 - val_false_negatives: 10.0000 - val_categorical_crossentropy: 0.1015 - lr: 0.0500\n",
            "Learning rate:  0.05  for epoch:  9\n",
            "Epoch 10/50\n",
            "52/53 [============================>.] - ETA: 0s - loss: 0.0702 - accuracy: 0.9766 - auc: 0.9965 - precision: 0.9771 - recall: 0.9754 - true_positives: 1623.0000 - true_negatives: 1626.0000 - false_positives: 38.0000 - false_negatives: 41.0000 - categorical_crossentropy: 0.0702\n",
            "Epoch 10: val_accuracy did not improve from 0.96959\n",
            "53/53 [==============================] - 4s 67ms/step - loss: 0.0718 - accuracy: 0.9755 - auc: 0.9964 - precision: 0.9761 - recall: 0.9743 - true_positives: 1631.0000 - true_negatives: 1634.0000 - false_positives: 40.0000 - false_negatives: 43.0000 - categorical_crossentropy: 0.0718 - val_loss: 0.5415 - val_accuracy: 0.7838 - val_auc: 0.8876 - val_precision: 0.7833 - val_recall: 0.7939 - val_true_positives: 235.0000 - val_true_negatives: 231.0000 - val_false_positives: 65.0000 - val_false_negatives: 61.0000 - val_categorical_crossentropy: 0.5415 - lr: 0.0500\n",
            "Learning rate:  0.025  for epoch:  10\n",
            "Epoch 11/50\n",
            "52/53 [============================>.] - ETA: 0s - loss: 0.0736 - accuracy: 0.9712 - auc: 0.9965 - precision: 0.9694 - recall: 0.9700 - true_positives: 1614.0000 - true_negatives: 1613.0000 - false_positives: 51.0000 - false_negatives: 50.0000 - categorical_crossentropy: 0.0736\n",
            "Epoch 11: val_accuracy improved from 0.96959 to 0.97635, saving model to best_model.h5\n",
            "53/53 [==============================] - 3s 60ms/step - loss: 0.0732 - accuracy: 0.9713 - auc: 0.9966 - precision: 0.9696 - recall: 0.9701 - true_positives: 1624.0000 - true_negatives: 1623.0000 - false_positives: 51.0000 - false_negatives: 50.0000 - categorical_crossentropy: 0.0732 - val_loss: 0.0785 - val_accuracy: 0.9764 - val_auc: 0.9964 - val_precision: 0.9732 - val_recall: 0.9797 - val_true_positives: 290.0000 - val_true_negatives: 288.0000 - val_false_positives: 8.0000 - val_false_negatives: 6.0000 - val_categorical_crossentropy: 0.0785 - lr: 0.0250\n",
            "Learning rate:  0.025  for epoch:  11\n",
            "Epoch 12/50\n",
            "52/53 [============================>.] - ETA: 0s - loss: 0.0444 - accuracy: 0.9868 - auc: 0.9985 - precision: 0.9850 - recall: 0.9874 - true_positives: 1643.0000 - true_negatives: 1639.0000 - false_positives: 25.0000 - false_negatives: 21.0000 - categorical_crossentropy: 0.0444\n",
            "Epoch 12: val_accuracy improved from 0.97635 to 0.98311, saving model to best_model.h5\n",
            "53/53 [==============================] - 3s 60ms/step - loss: 0.0442 - accuracy: 0.9869 - auc: 0.9985 - precision: 0.9851 - recall: 0.9875 - true_positives: 1653.0000 - true_negatives: 1649.0000 - false_positives: 25.0000 - false_negatives: 21.0000 - categorical_crossentropy: 0.0442 - val_loss: 0.0744 - val_accuracy: 0.9831 - val_auc: 0.9962 - val_precision: 0.9797 - val_recall: 0.9797 - val_true_positives: 290.0000 - val_true_negatives: 290.0000 - val_false_positives: 6.0000 - val_false_negatives: 6.0000 - val_categorical_crossentropy: 0.0744 - lr: 0.0250\n",
            "Learning rate:  0.025  for epoch:  12\n",
            "Epoch 13/50\n",
            "52/53 [============================>.] - ETA: 0s - loss: 0.0442 - accuracy: 0.9856 - auc: 0.9986 - precision: 0.9850 - recall: 0.9844 - true_positives: 1638.0000 - true_negatives: 1639.0000 - false_positives: 25.0000 - false_negatives: 26.0000 - categorical_crossentropy: 0.0442\n",
            "Epoch 13: val_accuracy did not improve from 0.98311\n",
            "53/53 [==============================] - 5s 86ms/step - loss: 0.0439 - accuracy: 0.9857 - auc: 0.9986 - precision: 0.9851 - recall: 0.9845 - true_positives: 1648.0000 - true_negatives: 1649.0000 - false_positives: 25.0000 - false_negatives: 26.0000 - categorical_crossentropy: 0.0439 - val_loss: 0.0801 - val_accuracy: 0.9730 - val_auc: 0.9960 - val_precision: 0.9729 - val_recall: 0.9696 - val_true_positives: 287.0000 - val_true_negatives: 288.0000 - val_false_positives: 8.0000 - val_false_negatives: 9.0000 - val_categorical_crossentropy: 0.0801 - lr: 0.0250\n",
            "Learning rate:  0.025  for epoch:  13\n",
            "Epoch 14/50\n",
            "52/53 [============================>.] - ETA: 0s - loss: 0.0366 - accuracy: 0.9904 - auc: 0.9987 - precision: 0.9892 - recall: 0.9910 - true_positives: 1649.0000 - true_negatives: 1646.0000 - false_positives: 18.0000 - false_negatives: 15.0000 - categorical_crossentropy: 0.0366\n",
            "Epoch 14: val_accuracy improved from 0.98311 to 0.98649, saving model to best_model.h5\n",
            "53/53 [==============================] - 3s 60ms/step - loss: 0.0365 - accuracy: 0.9904 - auc: 0.9987 - precision: 0.9893 - recall: 0.9910 - true_positives: 1659.0000 - true_negatives: 1656.0000 - false_positives: 18.0000 - false_negatives: 15.0000 - categorical_crossentropy: 0.0365 - val_loss: 0.0627 - val_accuracy: 0.9865 - val_auc: 0.9958 - val_precision: 0.9865 - val_recall: 0.9865 - val_true_positives: 292.0000 - val_true_negatives: 292.0000 - val_false_positives: 4.0000 - val_false_negatives: 4.0000 - val_categorical_crossentropy: 0.0627 - lr: 0.0250\n",
            "Learning rate:  0.025  for epoch:  14\n",
            "Epoch 15/50\n",
            "52/53 [============================>.] - ETA: 0s - loss: 0.0337 - accuracy: 0.9934 - auc: 0.9990 - precision: 0.9928 - recall: 0.9916 - true_positives: 1650.0000 - true_negatives: 1652.0000 - false_positives: 12.0000 - false_negatives: 14.0000 - categorical_crossentropy: 0.0337\n",
            "Epoch 15: val_accuracy did not improve from 0.98649\n",
            "53/53 [==============================] - 3s 60ms/step - loss: 0.0336 - accuracy: 0.9934 - auc: 0.9990 - precision: 0.9928 - recall: 0.9916 - true_positives: 1660.0000 - true_negatives: 1662.0000 - false_positives: 12.0000 - false_negatives: 14.0000 - categorical_crossentropy: 0.0336 - val_loss: 0.0725 - val_accuracy: 0.9865 - val_auc: 0.9965 - val_precision: 0.9831 - val_recall: 0.9797 - val_true_positives: 290.0000 - val_true_negatives: 291.0000 - val_false_positives: 5.0000 - val_false_negatives: 6.0000 - val_categorical_crossentropy: 0.0725 - lr: 0.0250\n",
            "Learning rate:  0.025  for epoch:  15\n",
            "Epoch 16/50\n",
            "52/53 [============================>.] - ETA: 0s - loss: 0.0250 - accuracy: 0.9904 - auc: 0.9996 - precision: 0.9922 - recall: 0.9898 - true_positives: 1647.0000 - true_negatives: 1651.0000 - false_positives: 13.0000 - false_negatives: 17.0000 - categorical_crossentropy: 0.0250\n",
            "Epoch 16: val_accuracy improved from 0.98649 to 0.98986, saving model to best_model.h5\n",
            "53/53 [==============================] - 3s 60ms/step - loss: 0.0249 - accuracy: 0.9904 - auc: 0.9996 - precision: 0.9922 - recall: 0.9898 - true_positives: 1657.0000 - true_negatives: 1661.0000 - false_positives: 13.0000 - false_negatives: 17.0000 - categorical_crossentropy: 0.0249 - val_loss: 0.0749 - val_accuracy: 0.9899 - val_auc: 0.9959 - val_precision: 0.9899 - val_recall: 0.9899 - val_true_positives: 293.0000 - val_true_negatives: 293.0000 - val_false_positives: 3.0000 - val_false_negatives: 3.0000 - val_categorical_crossentropy: 0.0749 - lr: 0.0250\n",
            "Learning rate:  0.025  for epoch:  16\n",
            "Epoch 17/50\n",
            "52/53 [============================>.] - ETA: 0s - loss: 0.0274 - accuracy: 0.9916 - auc: 0.9993 - precision: 0.9922 - recall: 0.9916 - true_positives: 1650.0000 - true_negatives: 1651.0000 - false_positives: 13.0000 - false_negatives: 14.0000 - categorical_crossentropy: 0.0274\n",
            "Epoch 17: val_accuracy did not improve from 0.98986\n",
            "53/53 [==============================] - 4s 85ms/step - loss: 0.0275 - accuracy: 0.9916 - auc: 0.9993 - precision: 0.9922 - recall: 0.9916 - true_positives: 1660.0000 - true_negatives: 1661.0000 - false_positives: 13.0000 - false_negatives: 14.0000 - categorical_crossentropy: 0.0275 - val_loss: 0.0683 - val_accuracy: 0.9865 - val_auc: 0.9964 - val_precision: 0.9865 - val_recall: 0.9865 - val_true_positives: 292.0000 - val_true_negatives: 292.0000 - val_false_positives: 4.0000 - val_false_negatives: 4.0000 - val_categorical_crossentropy: 0.0683 - lr: 0.0250\n",
            "Learning rate:  0.025  for epoch:  17\n",
            "Epoch 18/50\n",
            "52/53 [============================>.] - ETA: 0s - loss: 0.0348 - accuracy: 0.9862 - auc: 0.9992 - precision: 0.9856 - recall: 0.9862 - true_positives: 1641.0000 - true_negatives: 1640.0000 - false_positives: 24.0000 - false_negatives: 23.0000 - categorical_crossentropy: 0.0348\n",
            "Epoch 18: val_accuracy did not improve from 0.98986\n",
            "53/53 [==============================] - 3s 63ms/step - loss: 0.0346 - accuracy: 0.9863 - auc: 0.9992 - precision: 0.9857 - recall: 0.9863 - true_positives: 1651.0000 - true_negatives: 1650.0000 - false_positives: 24.0000 - false_negatives: 23.0000 - categorical_crossentropy: 0.0346 - val_loss: 0.0962 - val_accuracy: 0.9696 - val_auc: 0.9960 - val_precision: 0.9663 - val_recall: 0.9696 - val_true_positives: 287.0000 - val_true_negatives: 286.0000 - val_false_positives: 10.0000 - val_false_negatives: 9.0000 - val_categorical_crossentropy: 0.0962 - lr: 0.0250\n",
            "Learning rate:  0.025  for epoch:  18\n",
            "Epoch 19/50\n",
            "52/53 [============================>.] - ETA: 0s - loss: 0.0175 - accuracy: 0.9940 - auc: 0.9998 - precision: 0.9946 - recall: 0.9928 - true_positives: 1652.0000 - true_negatives: 1655.0000 - false_positives: 9.0000 - false_negatives: 12.0000 - categorical_crossentropy: 0.0175\n",
            "Epoch 19: val_accuracy did not improve from 0.98986\n",
            "53/53 [==============================] - 3s 60ms/step - loss: 0.0174 - accuracy: 0.9940 - auc: 0.9998 - precision: 0.9946 - recall: 0.9928 - true_positives: 1662.0000 - true_negatives: 1665.0000 - false_positives: 9.0000 - false_negatives: 12.0000 - categorical_crossentropy: 0.0174 - val_loss: 0.0742 - val_accuracy: 0.9831 - val_auc: 0.9968 - val_precision: 0.9831 - val_recall: 0.9797 - val_true_positives: 290.0000 - val_true_negatives: 291.0000 - val_false_positives: 5.0000 - val_false_negatives: 6.0000 - val_categorical_crossentropy: 0.0742 - lr: 0.0250\n",
            "Learning rate:  0.025  for epoch:  19\n",
            "Epoch 20/50\n",
            "52/53 [============================>.] - ETA: 0s - loss: 0.0236 - accuracy: 0.9928 - auc: 0.9995 - precision: 0.9934 - recall: 0.9922 - true_positives: 1651.0000 - true_negatives: 1653.0000 - false_positives: 11.0000 - false_negatives: 13.0000 - categorical_crossentropy: 0.0236\n",
            "Epoch 20: val_accuracy did not improve from 0.98986\n",
            "53/53 [==============================] - 4s 74ms/step - loss: 0.0235 - accuracy: 0.9928 - auc: 0.9995 - precision: 0.9934 - recall: 0.9922 - true_positives: 1661.0000 - true_negatives: 1663.0000 - false_positives: 11.0000 - false_negatives: 13.0000 - categorical_crossentropy: 0.0235 - val_loss: 0.0880 - val_accuracy: 0.9730 - val_auc: 0.9963 - val_precision: 0.9729 - val_recall: 0.9696 - val_true_positives: 287.0000 - val_true_negatives: 288.0000 - val_false_positives: 8.0000 - val_false_negatives: 9.0000 - val_categorical_crossentropy: 0.0880 - lr: 0.0250\n",
            "Learning rate:  0.0125  for epoch:  20\n",
            "Epoch 21/50\n",
            "52/53 [============================>.] - ETA: 0s - loss: 0.0263 - accuracy: 0.9910 - auc: 0.9995 - precision: 0.9898 - recall: 0.9904 - true_positives: 1648.0000 - true_negatives: 1647.0000 - false_positives: 17.0000 - false_negatives: 16.0000 - categorical_crossentropy: 0.0263\n",
            "Epoch 21: val_accuracy did not improve from 0.98986\n",
            "53/53 [==============================] - 4s 72ms/step - loss: 0.0279 - accuracy: 0.9898 - auc: 0.9995 - precision: 0.9887 - recall: 0.9892 - true_positives: 1656.0000 - true_negatives: 1655.0000 - false_positives: 19.0000 - false_negatives: 18.0000 - categorical_crossentropy: 0.0279 - val_loss: 0.0571 - val_accuracy: 0.9865 - val_auc: 0.9977 - val_precision: 0.9832 - val_recall: 0.9865 - val_true_positives: 292.0000 - val_true_negatives: 291.0000 - val_false_positives: 5.0000 - val_false_negatives: 4.0000 - val_categorical_crossentropy: 0.0571 - lr: 0.0125\n",
            "Learning rate:  0.0125  for epoch:  21\n",
            "Epoch 22/50\n",
            "52/53 [============================>.] - ETA: 0s - loss: 0.0233 - accuracy: 0.9928 - auc: 0.9996 - precision: 0.9916 - recall: 0.9922 - true_positives: 1651.0000 - true_negatives: 1650.0000 - false_positives: 14.0000 - false_negatives: 13.0000 - categorical_crossentropy: 0.0233\n",
            "Epoch 22: val_accuracy did not improve from 0.98986\n",
            "53/53 [==============================] - 3s 61ms/step - loss: 0.0231 - accuracy: 0.9928 - auc: 0.9996 - precision: 0.9916 - recall: 0.9922 - true_positives: 1661.0000 - true_negatives: 1660.0000 - false_positives: 14.0000 - false_negatives: 13.0000 - categorical_crossentropy: 0.0231 - val_loss: 0.0648 - val_accuracy: 0.9865 - val_auc: 0.9962 - val_precision: 0.9898 - val_recall: 0.9831 - val_true_positives: 291.0000 - val_true_negatives: 293.0000 - val_false_positives: 3.0000 - val_false_negatives: 5.0000 - val_categorical_crossentropy: 0.0648 - lr: 0.0125\n",
            "Learning rate:  0.0125  for epoch:  22\n",
            "Epoch 23/50\n",
            "52/53 [============================>.] - ETA: 0s - loss: 0.0170 - accuracy: 0.9940 - auc: 0.9998 - precision: 0.9934 - recall: 0.9946 - true_positives: 1655.0000 - true_negatives: 1653.0000 - false_positives: 11.0000 - false_negatives: 9.0000 - categorical_crossentropy: 0.0170\n",
            "Epoch 23: val_accuracy did not improve from 0.98986\n",
            "53/53 [==============================] - 3s 61ms/step - loss: 0.0169 - accuracy: 0.9940 - auc: 0.9998 - precision: 0.9934 - recall: 0.9946 - true_positives: 1665.0000 - true_negatives: 1663.0000 - false_positives: 11.0000 - false_negatives: 9.0000 - categorical_crossentropy: 0.0169 - val_loss: 0.0563 - val_accuracy: 0.9865 - val_auc: 0.9976 - val_precision: 0.9865 - val_recall: 0.9865 - val_true_positives: 292.0000 - val_true_negatives: 292.0000 - val_false_positives: 4.0000 - val_false_negatives: 4.0000 - val_categorical_crossentropy: 0.0563 - lr: 0.0125\n",
            "Learning rate:  0.0125  for epoch:  23\n",
            "Epoch 24/50\n",
            "52/53 [============================>.] - ETA: 0s - loss: 0.0111 - accuracy: 0.9976 - auc: 0.9998 - precision: 0.9982 - recall: 0.9970 - true_positives: 1659.0000 - true_negatives: 1661.0000 - false_positives: 3.0000 - false_negatives: 5.0000 - categorical_crossentropy: 0.0111\n",
            "Epoch 24: val_accuracy did not improve from 0.98986\n",
            "53/53 [==============================] - 5s 86ms/step - loss: 0.0112 - accuracy: 0.9976 - auc: 0.9998 - precision: 0.9982 - recall: 0.9970 - true_positives: 1669.0000 - true_negatives: 1671.0000 - false_positives: 3.0000 - false_negatives: 5.0000 - categorical_crossentropy: 0.0112 - val_loss: 0.0558 - val_accuracy: 0.9865 - val_auc: 0.9980 - val_precision: 0.9832 - val_recall: 0.9865 - val_true_positives: 292.0000 - val_true_negatives: 291.0000 - val_false_positives: 5.0000 - val_false_negatives: 4.0000 - val_categorical_crossentropy: 0.0558 - lr: 0.0125\n",
            "Learning rate:  0.0125  for epoch:  24\n",
            "Epoch 25/50\n",
            "52/53 [============================>.] - ETA: 0s - loss: 0.0129 - accuracy: 0.9976 - auc: 0.9998 - precision: 0.9976 - recall: 0.9970 - true_positives: 1659.0000 - true_negatives: 1660.0000 - false_positives: 4.0000 - false_negatives: 5.0000 - categorical_crossentropy: 0.0129\n",
            "Epoch 25: val_accuracy did not improve from 0.98986\n",
            "53/53 [==============================] - 3s 61ms/step - loss: 0.0129 - accuracy: 0.9976 - auc: 0.9998 - precision: 0.9976 - recall: 0.9970 - true_positives: 1669.0000 - true_negatives: 1670.0000 - false_positives: 4.0000 - false_negatives: 5.0000 - categorical_crossentropy: 0.0129 - val_loss: 0.0510 - val_accuracy: 0.9865 - val_auc: 0.9985 - val_precision: 0.9865 - val_recall: 0.9865 - val_true_positives: 292.0000 - val_true_negatives: 292.0000 - val_false_positives: 4.0000 - val_false_negatives: 4.0000 - val_categorical_crossentropy: 0.0510 - lr: 0.0125\n",
            "Learning rate:  0.0125  for epoch:  25\n",
            "Epoch 26/50\n",
            "52/53 [============================>.] - ETA: 0s - loss: 0.0077 - accuracy: 0.9982 - auc: 1.0000 - precision: 0.9982 - recall: 0.9976 - true_positives: 1660.0000 - true_negatives: 1661.0000 - false_positives: 3.0000 - false_negatives: 4.0000 - categorical_crossentropy: 0.0077\n",
            "Epoch 26: val_accuracy did not improve from 0.98986\n",
            "53/53 [==============================] - 3s 61ms/step - loss: 0.0078 - accuracy: 0.9982 - auc: 1.0000 - precision: 0.9982 - recall: 0.9976 - true_positives: 1670.0000 - true_negatives: 1671.0000 - false_positives: 3.0000 - false_negatives: 4.0000 - categorical_crossentropy: 0.0078 - val_loss: 0.0537 - val_accuracy: 0.9899 - val_auc: 0.9984 - val_precision: 0.9899 - val_recall: 0.9899 - val_true_positives: 293.0000 - val_true_negatives: 293.0000 - val_false_positives: 3.0000 - val_false_negatives: 3.0000 - val_categorical_crossentropy: 0.0537 - lr: 0.0125\n",
            "Learning rate:  0.0125  for epoch:  26\n",
            "Epoch 27/50\n",
            "52/53 [============================>.] - ETA: 0s - loss: 0.0118 - accuracy: 0.9964 - auc: 0.9999 - precision: 0.9958 - recall: 0.9970 - true_positives: 1659.0000 - true_negatives: 1657.0000 - false_positives: 7.0000 - false_negatives: 5.0000 - categorical_crossentropy: 0.0118\n",
            "Epoch 27: val_accuracy did not improve from 0.98986\n",
            "53/53 [==============================] - 3s 61ms/step - loss: 0.0117 - accuracy: 0.9964 - auc: 0.9999 - precision: 0.9958 - recall: 0.9970 - true_positives: 1669.0000 - true_negatives: 1667.0000 - false_positives: 7.0000 - false_negatives: 5.0000 - categorical_crossentropy: 0.0117 - val_loss: 0.0714 - val_accuracy: 0.9764 - val_auc: 0.9976 - val_precision: 0.9764 - val_recall: 0.9764 - val_true_positives: 289.0000 - val_true_negatives: 289.0000 - val_false_positives: 7.0000 - val_false_negatives: 7.0000 - val_categorical_crossentropy: 0.0714 - lr: 0.0125\n",
            "Learning rate:  0.0125  for epoch:  27\n",
            "Epoch 28/50\n",
            "52/53 [============================>.] - ETA: 0s - loss: 0.0058 - accuracy: 0.9988 - auc: 1.0000 - precision: 0.9988 - recall: 0.9988 - true_positives: 1662.0000 - true_negatives: 1662.0000 - false_positives: 2.0000 - false_negatives: 2.0000 - categorical_crossentropy: 0.0058\n",
            "Epoch 28: val_accuracy did not improve from 0.98986\n",
            "53/53 [==============================] - 5s 87ms/step - loss: 0.0057 - accuracy: 0.9988 - auc: 1.0000 - precision: 0.9988 - recall: 0.9988 - true_positives: 1672.0000 - true_negatives: 1672.0000 - false_positives: 2.0000 - false_negatives: 2.0000 - categorical_crossentropy: 0.0057 - val_loss: 0.0584 - val_accuracy: 0.9865 - val_auc: 0.9983 - val_precision: 0.9864 - val_recall: 0.9831 - val_true_positives: 291.0000 - val_true_negatives: 292.0000 - val_false_positives: 4.0000 - val_false_negatives: 5.0000 - val_categorical_crossentropy: 0.0584 - lr: 0.0125\n",
            "Learning rate:  0.0125  for epoch:  28\n",
            "Epoch 29/50\n",
            "52/53 [============================>.] - ETA: 0s - loss: 0.0119 - accuracy: 0.9952 - auc: 0.9999 - precision: 0.9940 - recall: 0.9940 - true_positives: 1654.0000 - true_negatives: 1654.0000 - false_positives: 10.0000 - false_negatives: 10.0000 - categorical_crossentropy: 0.0119\n",
            "Epoch 29: val_accuracy did not improve from 0.98986\n",
            "53/53 [==============================] - 3s 61ms/step - loss: 0.0119 - accuracy: 0.9952 - auc: 0.9999 - precision: 0.9940 - recall: 0.9940 - true_positives: 1664.0000 - true_negatives: 1664.0000 - false_positives: 10.0000 - false_negatives: 10.0000 - categorical_crossentropy: 0.0119 - val_loss: 0.0455 - val_accuracy: 0.9831 - val_auc: 0.9988 - val_precision: 0.9831 - val_recall: 0.9797 - val_true_positives: 290.0000 - val_true_negatives: 291.0000 - val_false_positives: 5.0000 - val_false_negatives: 6.0000 - val_categorical_crossentropy: 0.0455 - lr: 0.0125\n",
            "Learning rate:  0.0125  for epoch:  29\n",
            "Epoch 30/50\n",
            "52/53 [============================>.] - ETA: 0s - loss: 0.0128 - accuracy: 0.9958 - auc: 0.9999 - precision: 0.9958 - recall: 0.9970 - true_positives: 1659.0000 - true_negatives: 1657.0000 - false_positives: 7.0000 - false_negatives: 5.0000 - categorical_crossentropy: 0.0128\n",
            "Epoch 30: val_accuracy did not improve from 0.98986\n",
            "53/53 [==============================] - 3s 61ms/step - loss: 0.0127 - accuracy: 0.9958 - auc: 0.9999 - precision: 0.9958 - recall: 0.9970 - true_positives: 1669.0000 - true_negatives: 1667.0000 - false_positives: 7.0000 - false_negatives: 5.0000 - categorical_crossentropy: 0.0127 - val_loss: 0.0560 - val_accuracy: 0.9865 - val_auc: 0.9983 - val_precision: 0.9865 - val_recall: 0.9865 - val_true_positives: 292.0000 - val_true_negatives: 292.0000 - val_false_positives: 4.0000 - val_false_negatives: 4.0000 - val_categorical_crossentropy: 0.0560 - lr: 0.0125\n",
            "Learning rate:  0.00625  for epoch:  30\n",
            "Epoch 31/50\n",
            "52/53 [============================>.] - ETA: 0s - loss: 0.0099 - accuracy: 0.9970 - auc: 1.0000 - precision: 0.9970 - recall: 0.9964 - true_positives: 1658.0000 - true_negatives: 1659.0000 - false_positives: 5.0000 - false_negatives: 6.0000 - categorical_crossentropy: 0.0099\n",
            "Epoch 31: val_accuracy did not improve from 0.98986\n",
            "53/53 [==============================] - 4s 77ms/step - loss: 0.0103 - accuracy: 0.9964 - auc: 0.9999 - precision: 0.9964 - recall: 0.9958 - true_positives: 1667.0000 - true_negatives: 1668.0000 - false_positives: 6.0000 - false_negatives: 7.0000 - categorical_crossentropy: 0.0103 - val_loss: 0.0562 - val_accuracy: 0.9831 - val_auc: 0.9984 - val_precision: 0.9831 - val_recall: 0.9831 - val_true_positives: 291.0000 - val_true_negatives: 291.0000 - val_false_positives: 5.0000 - val_false_negatives: 5.0000 - val_categorical_crossentropy: 0.0562 - lr: 0.0063\n",
            "Learning rate:  0.00625  for epoch:  31\n",
            "Epoch 32/50\n",
            "52/53 [============================>.] - ETA: 0s - loss: 0.0095 - accuracy: 0.9964 - auc: 1.0000 - precision: 0.9970 - recall: 0.9946 - true_positives: 1655.0000 - true_negatives: 1659.0000 - false_positives: 5.0000 - false_negatives: 9.0000 - categorical_crossentropy: 0.0095\n",
            "Epoch 32: val_accuracy did not improve from 0.98986\n",
            "53/53 [==============================] - 4s 70ms/step - loss: 0.0094 - accuracy: 0.9964 - auc: 1.0000 - precision: 0.9970 - recall: 0.9946 - true_positives: 1665.0000 - true_negatives: 1669.0000 - false_positives: 5.0000 - false_negatives: 9.0000 - categorical_crossentropy: 0.0094 - val_loss: 0.0526 - val_accuracy: 0.9865 - val_auc: 0.9985 - val_precision: 0.9865 - val_recall: 0.9865 - val_true_positives: 292.0000 - val_true_negatives: 292.0000 - val_false_positives: 4.0000 - val_false_negatives: 4.0000 - val_categorical_crossentropy: 0.0526 - lr: 0.0063\n",
            "Learning rate:  0.00625  for epoch:  32\n",
            "Epoch 33/50\n",
            "52/53 [============================>.] - ETA: 0s - loss: 0.0095 - accuracy: 0.9964 - auc: 1.0000 - precision: 0.9970 - recall: 0.9958 - true_positives: 1657.0000 - true_negatives: 1659.0000 - false_positives: 5.0000 - false_negatives: 7.0000 - categorical_crossentropy: 0.0095\n",
            "Epoch 33: val_accuracy did not improve from 0.98986\n",
            "53/53 [==============================] - 3s 62ms/step - loss: 0.0094 - accuracy: 0.9964 - auc: 1.0000 - precision: 0.9970 - recall: 0.9958 - true_positives: 1667.0000 - true_negatives: 1669.0000 - false_positives: 5.0000 - false_negatives: 7.0000 - categorical_crossentropy: 0.0094 - val_loss: 0.0520 - val_accuracy: 0.9865 - val_auc: 0.9986 - val_precision: 0.9865 - val_recall: 0.9865 - val_true_positives: 292.0000 - val_true_negatives: 292.0000 - val_false_positives: 4.0000 - val_false_negatives: 4.0000 - val_categorical_crossentropy: 0.0520 - lr: 0.0063\n",
            "Learning rate:  0.00625  for epoch:  33\n",
            "Epoch 34/50\n",
            "52/53 [============================>.] - ETA: 0s - loss: 0.0078 - accuracy: 0.9976 - auc: 1.0000 - precision: 0.9970 - recall: 0.9982 - true_positives: 1661.0000 - true_negatives: 1659.0000 - false_positives: 5.0000 - false_negatives: 3.0000 - categorical_crossentropy: 0.0078\n",
            "Epoch 34: val_accuracy did not improve from 0.98986\n",
            "53/53 [==============================] - 3s 61ms/step - loss: 0.0077 - accuracy: 0.9976 - auc: 1.0000 - precision: 0.9970 - recall: 0.9982 - true_positives: 1671.0000 - true_negatives: 1669.0000 - false_positives: 5.0000 - false_negatives: 3.0000 - categorical_crossentropy: 0.0077 - val_loss: 0.0548 - val_accuracy: 0.9899 - val_auc: 0.9983 - val_precision: 0.9899 - val_recall: 0.9899 - val_true_positives: 293.0000 - val_true_negatives: 293.0000 - val_false_positives: 3.0000 - val_false_negatives: 3.0000 - val_categorical_crossentropy: 0.0548 - lr: 0.0063\n",
            "Learning rate:  0.00625  for epoch:  34\n",
            "Epoch 35/50\n",
            "52/53 [============================>.] - ETA: 0s - loss: 0.0111 - accuracy: 0.9964 - auc: 0.9999 - precision: 0.9964 - recall: 0.9958 - true_positives: 1657.0000 - true_negatives: 1658.0000 - false_positives: 6.0000 - false_negatives: 7.0000 - categorical_crossentropy: 0.0111\n",
            "Epoch 35: val_accuracy did not improve from 0.98986\n",
            "53/53 [==============================] - 5s 87ms/step - loss: 0.0110 - accuracy: 0.9964 - auc: 0.9999 - precision: 0.9964 - recall: 0.9958 - true_positives: 1667.0000 - true_negatives: 1668.0000 - false_positives: 6.0000 - false_negatives: 7.0000 - categorical_crossentropy: 0.0110 - val_loss: 0.0588 - val_accuracy: 0.9831 - val_auc: 0.9983 - val_precision: 0.9831 - val_recall: 0.9797 - val_true_positives: 290.0000 - val_true_negatives: 291.0000 - val_false_positives: 5.0000 - val_false_negatives: 6.0000 - val_categorical_crossentropy: 0.0588 - lr: 0.0063\n",
            "Learning rate:  0.00625  for epoch:  35\n",
            "Epoch 36/50\n",
            "52/53 [============================>.] - ETA: 0s - loss: 0.0049 - accuracy: 0.9988 - auc: 1.0000 - precision: 0.9982 - recall: 0.9988 - true_positives: 1662.0000 - true_negatives: 1661.0000 - false_positives: 3.0000 - false_negatives: 2.0000 - categorical_crossentropy: 0.0049\n",
            "Epoch 36: val_accuracy did not improve from 0.98986\n",
            "53/53 [==============================] - 3s 62ms/step - loss: 0.0049 - accuracy: 0.9988 - auc: 1.0000 - precision: 0.9982 - recall: 0.9988 - true_positives: 1672.0000 - true_negatives: 1671.0000 - false_positives: 3.0000 - false_negatives: 2.0000 - categorical_crossentropy: 0.0049 - val_loss: 0.0583 - val_accuracy: 0.9831 - val_auc: 0.9984 - val_precision: 0.9831 - val_recall: 0.9797 - val_true_positives: 290.0000 - val_true_negatives: 291.0000 - val_false_positives: 5.0000 - val_false_negatives: 6.0000 - val_categorical_crossentropy: 0.0583 - lr: 0.0063\n",
            "Learning rate:  0.00625  for epoch:  36\n",
            "Epoch 37/50\n",
            "52/53 [============================>.] - ETA: 0s - loss: 0.0076 - accuracy: 0.9988 - auc: 1.0000 - precision: 0.9982 - recall: 0.9982 - true_positives: 1661.0000 - true_negatives: 1661.0000 - false_positives: 3.0000 - false_negatives: 3.0000 - categorical_crossentropy: 0.0076\n",
            "Epoch 37: val_accuracy did not improve from 0.98986\n",
            "53/53 [==============================] - 3s 62ms/step - loss: 0.0076 - accuracy: 0.9988 - auc: 1.0000 - precision: 0.9982 - recall: 0.9982 - true_positives: 1671.0000 - true_negatives: 1671.0000 - false_positives: 3.0000 - false_negatives: 3.0000 - categorical_crossentropy: 0.0076 - val_loss: 0.0510 - val_accuracy: 0.9865 - val_auc: 0.9987 - val_precision: 0.9865 - val_recall: 0.9865 - val_true_positives: 292.0000 - val_true_negatives: 292.0000 - val_false_positives: 4.0000 - val_false_negatives: 4.0000 - val_categorical_crossentropy: 0.0510 - lr: 0.0063\n",
            "Learning rate:  0.00625  for epoch:  37\n",
            "Epoch 38/50\n",
            "52/53 [============================>.] - ETA: 0s - loss: 0.0071 - accuracy: 0.9970 - auc: 1.0000 - precision: 0.9970 - recall: 0.9964 - true_positives: 1658.0000 - true_negatives: 1659.0000 - false_positives: 5.0000 - false_negatives: 6.0000 - categorical_crossentropy: 0.0071\n",
            "Epoch 38: val_accuracy did not improve from 0.98986\n",
            "53/53 [==============================] - 3s 66ms/step - loss: 0.0071 - accuracy: 0.9970 - auc: 1.0000 - precision: 0.9970 - recall: 0.9964 - true_positives: 1668.0000 - true_negatives: 1669.0000 - false_positives: 5.0000 - false_negatives: 6.0000 - categorical_crossentropy: 0.0071 - val_loss: 0.0545 - val_accuracy: 0.9865 - val_auc: 0.9986 - val_precision: 0.9832 - val_recall: 0.9865 - val_true_positives: 292.0000 - val_true_negatives: 291.0000 - val_false_positives: 5.0000 - val_false_negatives: 4.0000 - val_categorical_crossentropy: 0.0545 - lr: 0.0063\n",
            "Learning rate:  0.00625  for epoch:  38\n",
            "Epoch 39/50\n",
            "52/53 [============================>.] - ETA: 0s - loss: 0.0053 - accuracy: 0.9982 - auc: 1.0000 - precision: 0.9982 - recall: 0.9982 - true_positives: 1661.0000 - true_negatives: 1661.0000 - false_positives: 3.0000 - false_negatives: 3.0000 - categorical_crossentropy: 0.0053\n",
            "Epoch 39: val_accuracy did not improve from 0.98986\n",
            "53/53 [==============================] - 4s 82ms/step - loss: 0.0058 - accuracy: 0.9976 - auc: 1.0000 - precision: 0.9976 - recall: 0.9982 - true_positives: 1671.0000 - true_negatives: 1670.0000 - false_positives: 4.0000 - false_negatives: 3.0000 - categorical_crossentropy: 0.0058 - val_loss: 0.0530 - val_accuracy: 0.9865 - val_auc: 0.9987 - val_precision: 0.9832 - val_recall: 0.9865 - val_true_positives: 292.0000 - val_true_negatives: 291.0000 - val_false_positives: 5.0000 - val_false_negatives: 4.0000 - val_categorical_crossentropy: 0.0530 - lr: 0.0063\n",
            "Learning rate:  0.00625  for epoch:  39\n",
            "Epoch 40/50\n",
            "52/53 [============================>.] - ETA: 0s - loss: 0.0065 - accuracy: 0.9970 - auc: 1.0000 - precision: 0.9970 - recall: 0.9970 - true_positives: 1659.0000 - true_negatives: 1659.0000 - false_positives: 5.0000 - false_negatives: 5.0000 - categorical_crossentropy: 0.0065\n",
            "Epoch 40: val_accuracy did not improve from 0.98986\n",
            "53/53 [==============================] - 3s 66ms/step - loss: 0.0065 - accuracy: 0.9970 - auc: 1.0000 - precision: 0.9970 - recall: 0.9970 - true_positives: 1669.0000 - true_negatives: 1669.0000 - false_positives: 5.0000 - false_negatives: 5.0000 - categorical_crossentropy: 0.0065 - val_loss: 0.0671 - val_accuracy: 0.9797 - val_auc: 0.9980 - val_precision: 0.9797 - val_recall: 0.9764 - val_true_positives: 289.0000 - val_true_negatives: 290.0000 - val_false_positives: 6.0000 - val_false_negatives: 7.0000 - val_categorical_crossentropy: 0.0671 - lr: 0.0063\n",
            "Learning rate:  0.003125  for epoch:  40\n",
            "Epoch 41/50\n",
            "52/53 [============================>.] - ETA: 0s - loss: 0.0097 - accuracy: 0.9964 - auc: 0.9999 - precision: 0.9964 - recall: 0.9970 - true_positives: 1659.0000 - true_negatives: 1658.0000 - false_positives: 6.0000 - false_negatives: 5.0000 - categorical_crossentropy: 0.0097\n",
            "Epoch 41: val_accuracy did not improve from 0.98986\n",
            "53/53 [==============================] - 3s 63ms/step - loss: 0.0097 - accuracy: 0.9964 - auc: 0.9999 - precision: 0.9964 - recall: 0.9970 - true_positives: 1669.0000 - true_negatives: 1668.0000 - false_positives: 6.0000 - false_negatives: 5.0000 - categorical_crossentropy: 0.0097 - val_loss: 0.0615 - val_accuracy: 0.9865 - val_auc: 0.9982 - val_precision: 0.9865 - val_recall: 0.9865 - val_true_positives: 292.0000 - val_true_negatives: 292.0000 - val_false_positives: 4.0000 - val_false_negatives: 4.0000 - val_categorical_crossentropy: 0.0615 - lr: 0.0031\n",
            "Learning rate:  0.003125  for epoch:  41\n",
            "Epoch 42/50\n",
            "52/53 [============================>.] - ETA: 0s - loss: 0.0077 - accuracy: 0.9970 - auc: 1.0000 - precision: 0.9964 - recall: 0.9970 - true_positives: 1659.0000 - true_negatives: 1658.0000 - false_positives: 6.0000 - false_negatives: 5.0000 - categorical_crossentropy: 0.0077\n",
            "Epoch 42: val_accuracy did not improve from 0.98986\n",
            "53/53 [==============================] - 5s 89ms/step - loss: 0.0076 - accuracy: 0.9970 - auc: 1.0000 - precision: 0.9964 - recall: 0.9970 - true_positives: 1669.0000 - true_negatives: 1668.0000 - false_positives: 6.0000 - false_negatives: 5.0000 - categorical_crossentropy: 0.0076 - val_loss: 0.0560 - val_accuracy: 0.9865 - val_auc: 0.9985 - val_precision: 0.9865 - val_recall: 0.9865 - val_true_positives: 292.0000 - val_true_negatives: 292.0000 - val_false_positives: 4.0000 - val_false_negatives: 4.0000 - val_categorical_crossentropy: 0.0560 - lr: 0.0031\n",
            "Learning rate:  0.003125  for epoch:  42\n",
            "Epoch 43/50\n",
            "52/53 [============================>.] - ETA: 0s - loss: 0.0050 - accuracy: 0.9982 - auc: 1.0000 - precision: 0.9976 - recall: 0.9982 - true_positives: 1661.0000 - true_negatives: 1660.0000 - false_positives: 4.0000 - false_negatives: 3.0000 - categorical_crossentropy: 0.0050\n",
            "Epoch 43: val_accuracy did not improve from 0.98986\n",
            "53/53 [==============================] - 3s 64ms/step - loss: 0.0050 - accuracy: 0.9982 - auc: 1.0000 - precision: 0.9976 - recall: 0.9982 - true_positives: 1671.0000 - true_negatives: 1670.0000 - false_positives: 4.0000 - false_negatives: 3.0000 - categorical_crossentropy: 0.0050 - val_loss: 0.0547 - val_accuracy: 0.9865 - val_auc: 0.9986 - val_precision: 0.9832 - val_recall: 0.9865 - val_true_positives: 292.0000 - val_true_negatives: 291.0000 - val_false_positives: 5.0000 - val_false_negatives: 4.0000 - val_categorical_crossentropy: 0.0547 - lr: 0.0031\n",
            "Learning rate:  0.003125  for epoch:  43\n",
            "Epoch 44/50\n",
            "52/53 [============================>.] - ETA: 0s - loss: 0.0065 - accuracy: 0.9982 - auc: 1.0000 - precision: 0.9976 - recall: 0.9976 - true_positives: 1660.0000 - true_negatives: 1660.0000 - false_positives: 4.0000 - false_negatives: 4.0000 - categorical_crossentropy: 0.0065\n",
            "Epoch 44: val_accuracy did not improve from 0.98986\n",
            "53/53 [==============================] - 3s 64ms/step - loss: 0.0065 - accuracy: 0.9982 - auc: 1.0000 - precision: 0.9976 - recall: 0.9976 - true_positives: 1670.0000 - true_negatives: 1670.0000 - false_positives: 4.0000 - false_negatives: 4.0000 - categorical_crossentropy: 0.0065 - val_loss: 0.0557 - val_accuracy: 0.9865 - val_auc: 0.9986 - val_precision: 0.9832 - val_recall: 0.9865 - val_true_positives: 292.0000 - val_true_negatives: 291.0000 - val_false_positives: 5.0000 - val_false_negatives: 4.0000 - val_categorical_crossentropy: 0.0557 - lr: 0.0031\n",
            "Learning rate:  0.003125  for epoch:  44\n",
            "Epoch 45/50\n",
            "52/53 [============================>.] - ETA: 0s - loss: 0.0036 - accuracy: 0.9982 - auc: 1.0000 - precision: 0.9982 - recall: 0.9988 - true_positives: 1662.0000 - true_negatives: 1661.0000 - false_positives: 3.0000 - false_negatives: 2.0000 - categorical_crossentropy: 0.0036\n",
            "Epoch 45: val_accuracy did not improve from 0.98986\n",
            "53/53 [==============================] - 4s 68ms/step - loss: 0.0045 - accuracy: 0.9976 - auc: 1.0000 - precision: 0.9976 - recall: 0.9982 - true_positives: 1671.0000 - true_negatives: 1670.0000 - false_positives: 4.0000 - false_negatives: 3.0000 - categorical_crossentropy: 0.0045 - val_loss: 0.0567 - val_accuracy: 0.9831 - val_auc: 0.9985 - val_precision: 0.9832 - val_recall: 0.9865 - val_true_positives: 292.0000 - val_true_negatives: 291.0000 - val_false_positives: 5.0000 - val_false_negatives: 4.0000 - val_categorical_crossentropy: 0.0567 - lr: 0.0031\n",
            "Learning rate:  0.003125  for epoch:  45\n",
            "Epoch 46/50\n",
            "52/53 [============================>.] - ETA: 0s - loss: 0.0075 - accuracy: 0.9976 - auc: 1.0000 - precision: 0.9976 - recall: 0.9982 - true_positives: 1661.0000 - true_negatives: 1660.0000 - false_positives: 4.0000 - false_negatives: 3.0000 - categorical_crossentropy: 0.0075\n",
            "Epoch 46: val_accuracy did not improve from 0.98986\n",
            "53/53 [==============================] - 4s 83ms/step - loss: 0.0075 - accuracy: 0.9976 - auc: 1.0000 - precision: 0.9976 - recall: 0.9982 - true_positives: 1671.0000 - true_negatives: 1670.0000 - false_positives: 4.0000 - false_negatives: 3.0000 - categorical_crossentropy: 0.0075 - val_loss: 0.0570 - val_accuracy: 0.9899 - val_auc: 0.9984 - val_precision: 0.9899 - val_recall: 0.9899 - val_true_positives: 293.0000 - val_true_negatives: 293.0000 - val_false_positives: 3.0000 - val_false_negatives: 3.0000 - val_categorical_crossentropy: 0.0570 - lr: 0.0031\n",
            "Learning rate:  0.003125  for epoch:  46\n",
            "Epoch 47/50\n",
            "52/53 [============================>.] - ETA: 0s - loss: 0.0053 - accuracy: 0.9976 - auc: 1.0000 - precision: 0.9982 - recall: 0.9970 - true_positives: 1659.0000 - true_negatives: 1661.0000 - false_positives: 3.0000 - false_negatives: 5.0000 - categorical_crossentropy: 0.0053\n",
            "Epoch 47: val_accuracy did not improve from 0.98986\n",
            "53/53 [==============================] - 3s 63ms/step - loss: 0.0053 - accuracy: 0.9976 - auc: 1.0000 - precision: 0.9982 - recall: 0.9970 - true_positives: 1669.0000 - true_negatives: 1671.0000 - false_positives: 3.0000 - false_negatives: 5.0000 - categorical_crossentropy: 0.0053 - val_loss: 0.0560 - val_accuracy: 0.9865 - val_auc: 0.9986 - val_precision: 0.9865 - val_recall: 0.9865 - val_true_positives: 292.0000 - val_true_negatives: 292.0000 - val_false_positives: 4.0000 - val_false_negatives: 4.0000 - val_categorical_crossentropy: 0.0560 - lr: 0.0031\n",
            "Learning rate:  0.003125  for epoch:  47\n",
            "Epoch 48/50\n",
            "52/53 [============================>.] - ETA: 0s - loss: 0.0045 - accuracy: 0.9988 - auc: 1.0000 - precision: 0.9982 - recall: 0.9988 - true_positives: 1662.0000 - true_negatives: 1661.0000 - false_positives: 3.0000 - false_negatives: 2.0000 - categorical_crossentropy: 0.0045\n",
            "Epoch 48: val_accuracy did not improve from 0.98986\n",
            "53/53 [==============================] - 3s 64ms/step - loss: 0.0045 - accuracy: 0.9988 - auc: 1.0000 - precision: 0.9982 - recall: 0.9988 - true_positives: 1672.0000 - true_negatives: 1671.0000 - false_positives: 3.0000 - false_negatives: 2.0000 - categorical_crossentropy: 0.0045 - val_loss: 0.0574 - val_accuracy: 0.9865 - val_auc: 0.9985 - val_precision: 0.9865 - val_recall: 0.9865 - val_true_positives: 292.0000 - val_true_negatives: 292.0000 - val_false_positives: 4.0000 - val_false_negatives: 4.0000 - val_categorical_crossentropy: 0.0574 - lr: 0.0031\n",
            "Learning rate:  0.003125  for epoch:  48\n",
            "Epoch 49/50\n",
            "52/53 [============================>.] - ETA: 0s - loss: 0.0037 - accuracy: 0.9982 - auc: 1.0000 - precision: 0.9988 - recall: 0.9982 - true_positives: 1661.0000 - true_negatives: 1662.0000 - false_positives: 2.0000 - false_negatives: 3.0000 - categorical_crossentropy: 0.0037\n",
            "Epoch 49: val_accuracy did not improve from 0.98986\n",
            "53/53 [==============================] - 5s 87ms/step - loss: 0.0038 - accuracy: 0.9982 - auc: 1.0000 - precision: 0.9988 - recall: 0.9982 - true_positives: 1671.0000 - true_negatives: 1672.0000 - false_positives: 2.0000 - false_negatives: 3.0000 - categorical_crossentropy: 0.0038 - val_loss: 0.0737 - val_accuracy: 0.9764 - val_auc: 0.9977 - val_precision: 0.9796 - val_recall: 0.9730 - val_true_positives: 288.0000 - val_true_negatives: 290.0000 - val_false_positives: 6.0000 - val_false_negatives: 8.0000 - val_categorical_crossentropy: 0.0737 - lr: 0.0031\n",
            "Learning rate:  0.003125  for epoch:  49\n",
            "Epoch 50/50\n",
            "52/53 [============================>.] - ETA: 0s - loss: 0.0045 - accuracy: 0.9988 - auc: 1.0000 - precision: 0.9988 - recall: 0.9988 - true_positives: 1662.0000 - true_negatives: 1662.0000 - false_positives: 2.0000 - false_negatives: 2.0000 - categorical_crossentropy: 0.0045\n",
            "Epoch 50: val_accuracy did not improve from 0.98986\n",
            "53/53 [==============================] - 3s 65ms/step - loss: 0.0045 - accuracy: 0.9988 - auc: 1.0000 - precision: 0.9988 - recall: 0.9988 - true_positives: 1672.0000 - true_negatives: 1672.0000 - false_positives: 2.0000 - false_negatives: 2.0000 - categorical_crossentropy: 0.0045 - val_loss: 0.0614 - val_accuracy: 0.9797 - val_auc: 0.9984 - val_precision: 0.9798 - val_recall: 0.9831 - val_true_positives: 291.0000 - val_true_negatives: 290.0000 - val_false_positives: 6.0000 - val_false_negatives: 5.0000 - val_categorical_crossentropy: 0.0614 - lr: 0.0031\n"
          ]
        }
      ],
      "source": [
        "from keras.optimizers import SGD\n",
        "from keras.callbacks import LearningRateScheduler\n",
        "from sklearn.metrics import accuracy_score\n",
        "initial_learning_rate = 0.05\n",
        "def lr_schedule(epoch):\n",
        "    lr = initial_learning_rate * 0.5 ** (epoch // 10)\n",
        "    print('Learning rate: ', lr, ' for epoch: ', epoch)\n",
        "    return lr\n",
        "\n",
        "\n",
        "def train_model(x_train, y_train, x_val, y_val, input_shape, num_classes):\n",
        "    input_layer = keras.Input(shape=input_shape)\n",
        "    cnn_layer1 = layers.Conv2D(filters=70, kernel_size=(7,4), activation='relu',kernel_initializer=keras.initializers.GlorotUniform(seed = None))(input_layer)\n",
        "    max_pooling_layer1 = layers.MaxPooling2D(pool_size=(3,1))(cnn_layer1)\n",
        "    drop_out_layer1 = layers.Dropout(0.2)(max_pooling_layer1)\n",
        "    cnn_layer2 = layers.Conv2D(filters=100, kernel_size=(3,1), activation='relu',kernel_initializer=keras.initializers.GlorotUniform(seed = None))(drop_out_layer1)\n",
        "    max_pooling_layer2 = layers.MaxPooling2D(pool_size=(4,1))(cnn_layer2)\n",
        "    drop_out_layer2 = layers.Dropout(0.2)(max_pooling_layer2)\n",
        "    cnn_layer3 = layers.Conv2D(filters=150, kernel_size=(3,1), activation='relu',kernel_initializer=keras.initializers.GlorotUniform(seed = None))(drop_out_layer2)\n",
        "    max_pooling_layer3 = layers.MaxPooling2D(pool_size=(4,1))(cnn_layer3)\n",
        "    drop_out_layer3 = layers.Dropout(0.2)(max_pooling_layer3)\n",
        "    flatten_layer = layers.Flatten()(drop_out_layer3)\n",
        "    fully_connected_layer1 = layers.Dense(512, activation='relu',kernel_initializer=keras.initializers.GlorotUniform(seed = None))(flatten_layer)\n",
        "    drop_out_layer4 = layers.Dropout(0.2)(fully_connected_layer1)\n",
        "    softmax_layer = layers.Dense(2, activation='sigmoid')(drop_out_layer4)\n",
        "    model = models.Model(inputs=input_layer, outputs=softmax_layer)\n",
        "\n",
        "    optimizer = SGD(learning_rate=0.05, momentum=0.9, nesterov=True)\n",
        "    loss_fn = tf.keras.losses.CategoricalCrossentropy()\n",
        "    \n",
        "    model.compile(optimizer=optimizer, loss=loss_fn, metrics=['accuracy', tf.keras.metrics.AUC(), tf.keras.metrics.Precision(), tf.keras.metrics.Recall(), tf.keras.metrics.TruePositives(), tf.keras.metrics.TrueNegatives(), tf.keras.metrics.FalsePositives(), tf.keras.metrics.FalseNegatives(), tf.keras.metrics.CategoricalCrossentropy()])\n",
        "    \n",
        "    lr_scheduler = LearningRateScheduler(lr_schedule)\n",
        "    checkpoint_callback = tf.keras.callbacks.ModelCheckpoint('best_model.h5', save_best_only=True, save_weights_only=True, monitor='val_accuracy', mode='max', verbose=1)\n",
        "  \n",
        "    print(\"Converting labels to one-hot encoding...\")\n",
        "    print(y_train[:10])\n",
        "\n",
        "    y_train = tf.keras.utils.to_categorical(y_train, num_classes)\n",
        "\n",
        "    print(y_train[:10])\n",
        "\n",
        "    y_val = tf.keras.utils.to_categorical(y_val, num_classes)\n",
        "\n",
        "    print(\"Training the model...\")\n",
        "    history = model.fit(x_train, y_train, validation_data=(x_val, y_val), epochs=50, batch_size=32, callbacks=[lr_scheduler, checkpoint_callback])\n",
        " \n",
        "    \n",
        "    return history, model\n",
        "    \n",
        "\n",
        "\n",
        "input_shape  = (399, 4, 1)\n",
        "history,model  = train_model(X_train, y_train, X_val, y_val,input_shape, num_classes=2)\n",
        "\n",
        "\n",
        "   "
      ]
    },
    {
      "cell_type": "code",
      "execution_count": 59,
      "metadata": {
        "colab": {
          "base_uri": "https://localhost:8080/",
          "height": 1000
        },
        "id": "4IsuL-e0inYF",
        "outputId": "07ac825b-bc4d-4312-ad19-b242a7c6a709"
      },
      "outputs": [
        {
          "output_type": "stream",
          "name": "stdout",
          "text": [
            "[1 1 1 1 1 1 0 0 1 0 1 0 0 0 1 1 0 1 1 1 0 0 0 1 1 1 1 1 0 0 1 0 0 1 0 1 0\n",
            " 0 1 1 1 0 0 1 1 1 0 0 1 0 0 0 0 1 1 0 1 1 1 0 1 1 0 1 0 1 0 0 1 1 1 1 1 1\n",
            " 0 1 0 1 0 0 0 0 1 1 1 1 0 0 0 1 1 0 1 1 1 1 0 1 0 1 1 0 1 0 1 0 0 1 0 1 0\n",
            " 1 0 0 0 1 0 0 1 0 1 1 0 0 1 0 0 0 1 1 1 1 1 1 0 0 1 1 1 0 0 1 0 1 0 0 0 1\n",
            " 0 0 0 1 1 0 0 0 0 0 1 1 0 1 0 0 0 1 1 0 1 0 0 1 0 1 1 0 1 1 1 0 0 1 1 1 1\n",
            " 1 0 1 0 0 0 1 1 1 1 0 0 0 0 1 0 1 1 0 1 1 0 0 0 0 1 1 1 0 0 1 0 0 0 0 1 0\n",
            " 1 1 1 0 1 0 0 0 1 1 1 0 1 1 1 1 1 1 0 0 0 1 0 1 1 0 1 0 1 1 0 1 1 1 0 1 0\n",
            " 1 1 0 1 1 1 0 0 1 0 1 1 0 0 0 1 1 1 0 1 1 0 1 0 0 0 0 0 1 0 0 1 1 1 1 0 1\n",
            " 0 1 1 1 0 0 1 1 1 1 1 1 0 0 0 0 1 0 1 1 1 0 0 0 0 1 1 0 0 0 1 0 0 1 1 0 1\n",
            " 0 0 0 1 1 0 1 0 1 0 1 0 0 0 0]\n",
            "[[0. 1.]\n",
            " [0. 1.]\n",
            " [0. 1.]\n",
            " [0. 1.]\n",
            " [0. 1.]\n",
            " [0. 1.]\n",
            " [1. 0.]\n",
            " [1. 0.]\n",
            " [0. 1.]\n",
            " [1. 0.]\n",
            " [0. 1.]\n",
            " [1. 0.]\n",
            " [1. 0.]\n",
            " [1. 0.]\n",
            " [0. 1.]\n",
            " [0. 1.]\n",
            " [1. 0.]\n",
            " [0. 1.]\n",
            " [0. 1.]\n",
            " [0. 1.]\n",
            " [1. 0.]\n",
            " [1. 0.]\n",
            " [1. 0.]\n",
            " [0. 1.]\n",
            " [0. 1.]\n",
            " [0. 1.]\n",
            " [0. 1.]\n",
            " [0. 1.]\n",
            " [1. 0.]\n",
            " [1. 0.]\n",
            " [0. 1.]\n",
            " [1. 0.]\n",
            " [1. 0.]\n",
            " [0. 1.]\n",
            " [1. 0.]\n",
            " [0. 1.]\n",
            " [1. 0.]\n",
            " [1. 0.]\n",
            " [0. 1.]\n",
            " [0. 1.]\n",
            " [0. 1.]\n",
            " [1. 0.]\n",
            " [1. 0.]\n",
            " [0. 1.]\n",
            " [0. 1.]\n",
            " [0. 1.]\n",
            " [1. 0.]\n",
            " [1. 0.]\n",
            " [0. 1.]\n",
            " [1. 0.]\n",
            " [1. 0.]\n",
            " [1. 0.]\n",
            " [1. 0.]\n",
            " [0. 1.]\n",
            " [0. 1.]\n",
            " [1. 0.]\n",
            " [0. 1.]\n",
            " [0. 1.]\n",
            " [0. 1.]\n",
            " [1. 0.]\n",
            " [0. 1.]\n",
            " [0. 1.]\n",
            " [1. 0.]\n",
            " [0. 1.]\n",
            " [1. 0.]\n",
            " [0. 1.]\n",
            " [1. 0.]\n",
            " [1. 0.]\n",
            " [0. 1.]\n",
            " [0. 1.]\n",
            " [0. 1.]\n",
            " [0. 1.]\n",
            " [0. 1.]\n",
            " [0. 1.]\n",
            " [1. 0.]\n",
            " [0. 1.]\n",
            " [1. 0.]\n",
            " [0. 1.]\n",
            " [1. 0.]\n",
            " [1. 0.]\n",
            " [1. 0.]\n",
            " [1. 0.]\n",
            " [0. 1.]\n",
            " [0. 1.]\n",
            " [0. 1.]\n",
            " [0. 1.]\n",
            " [1. 0.]\n",
            " [1. 0.]\n",
            " [1. 0.]\n",
            " [0. 1.]\n",
            " [0. 1.]\n",
            " [1. 0.]\n",
            " [0. 1.]\n",
            " [0. 1.]\n",
            " [0. 1.]\n",
            " [0. 1.]\n",
            " [1. 0.]\n",
            " [0. 1.]\n",
            " [1. 0.]\n",
            " [0. 1.]\n",
            " [0. 1.]\n",
            " [1. 0.]\n",
            " [0. 1.]\n",
            " [1. 0.]\n",
            " [0. 1.]\n",
            " [1. 0.]\n",
            " [1. 0.]\n",
            " [0. 1.]\n",
            " [1. 0.]\n",
            " [0. 1.]\n",
            " [1. 0.]\n",
            " [0. 1.]\n",
            " [1. 0.]\n",
            " [1. 0.]\n",
            " [1. 0.]\n",
            " [0. 1.]\n",
            " [1. 0.]\n",
            " [1. 0.]\n",
            " [0. 1.]\n",
            " [1. 0.]\n",
            " [0. 1.]\n",
            " [0. 1.]\n",
            " [1. 0.]\n",
            " [1. 0.]\n",
            " [0. 1.]\n",
            " [1. 0.]\n",
            " [1. 0.]\n",
            " [1. 0.]\n",
            " [0. 1.]\n",
            " [0. 1.]\n",
            " [0. 1.]\n",
            " [0. 1.]\n",
            " [0. 1.]\n",
            " [0. 1.]\n",
            " [1. 0.]\n",
            " [1. 0.]\n",
            " [0. 1.]\n",
            " [0. 1.]\n",
            " [0. 1.]\n",
            " [1. 0.]\n",
            " [1. 0.]\n",
            " [0. 1.]\n",
            " [1. 0.]\n",
            " [0. 1.]\n",
            " [1. 0.]\n",
            " [1. 0.]\n",
            " [1. 0.]\n",
            " [0. 1.]\n",
            " [1. 0.]\n",
            " [1. 0.]\n",
            " [1. 0.]\n",
            " [0. 1.]\n",
            " [0. 1.]\n",
            " [1. 0.]\n",
            " [1. 0.]\n",
            " [1. 0.]\n",
            " [1. 0.]\n",
            " [1. 0.]\n",
            " [0. 1.]\n",
            " [0. 1.]\n",
            " [1. 0.]\n",
            " [0. 1.]\n",
            " [1. 0.]\n",
            " [1. 0.]\n",
            " [1. 0.]\n",
            " [0. 1.]\n",
            " [0. 1.]\n",
            " [1. 0.]\n",
            " [0. 1.]\n",
            " [1. 0.]\n",
            " [1. 0.]\n",
            " [0. 1.]\n",
            " [1. 0.]\n",
            " [0. 1.]\n",
            " [0. 1.]\n",
            " [1. 0.]\n",
            " [0. 1.]\n",
            " [0. 1.]\n",
            " [0. 1.]\n",
            " [1. 0.]\n",
            " [1. 0.]\n",
            " [0. 1.]\n",
            " [0. 1.]\n",
            " [0. 1.]\n",
            " [0. 1.]\n",
            " [0. 1.]\n",
            " [1. 0.]\n",
            " [0. 1.]\n",
            " [1. 0.]\n",
            " [1. 0.]\n",
            " [1. 0.]\n",
            " [0. 1.]\n",
            " [0. 1.]\n",
            " [0. 1.]\n",
            " [0. 1.]\n",
            " [1. 0.]\n",
            " [1. 0.]\n",
            " [1. 0.]\n",
            " [1. 0.]\n",
            " [0. 1.]\n",
            " [1. 0.]\n",
            " [0. 1.]\n",
            " [0. 1.]\n",
            " [1. 0.]\n",
            " [0. 1.]\n",
            " [0. 1.]\n",
            " [1. 0.]\n",
            " [1. 0.]\n",
            " [1. 0.]\n",
            " [1. 0.]\n",
            " [0. 1.]\n",
            " [0. 1.]\n",
            " [0. 1.]\n",
            " [1. 0.]\n",
            " [1. 0.]\n",
            " [0. 1.]\n",
            " [1. 0.]\n",
            " [1. 0.]\n",
            " [1. 0.]\n",
            " [1. 0.]\n",
            " [0. 1.]\n",
            " [1. 0.]\n",
            " [0. 1.]\n",
            " [0. 1.]\n",
            " [0. 1.]\n",
            " [1. 0.]\n",
            " [0. 1.]\n",
            " [1. 0.]\n",
            " [1. 0.]\n",
            " [1. 0.]\n",
            " [0. 1.]\n",
            " [0. 1.]\n",
            " [0. 1.]\n",
            " [1. 0.]\n",
            " [0. 1.]\n",
            " [0. 1.]\n",
            " [0. 1.]\n",
            " [0. 1.]\n",
            " [0. 1.]\n",
            " [0. 1.]\n",
            " [1. 0.]\n",
            " [1. 0.]\n",
            " [1. 0.]\n",
            " [0. 1.]\n",
            " [1. 0.]\n",
            " [0. 1.]\n",
            " [0. 1.]\n",
            " [1. 0.]\n",
            " [0. 1.]\n",
            " [1. 0.]\n",
            " [0. 1.]\n",
            " [0. 1.]\n",
            " [1. 0.]\n",
            " [0. 1.]\n",
            " [0. 1.]\n",
            " [0. 1.]\n",
            " [1. 0.]\n",
            " [0. 1.]\n",
            " [1. 0.]\n",
            " [0. 1.]\n",
            " [0. 1.]\n",
            " [1. 0.]\n",
            " [0. 1.]\n",
            " [0. 1.]\n",
            " [0. 1.]\n",
            " [1. 0.]\n",
            " [1. 0.]\n",
            " [0. 1.]\n",
            " [1. 0.]\n",
            " [0. 1.]\n",
            " [0. 1.]\n",
            " [1. 0.]\n",
            " [1. 0.]\n",
            " [1. 0.]\n",
            " [0. 1.]\n",
            " [0. 1.]\n",
            " [0. 1.]\n",
            " [1. 0.]\n",
            " [0. 1.]\n",
            " [0. 1.]\n",
            " [1. 0.]\n",
            " [0. 1.]\n",
            " [1. 0.]\n",
            " [1. 0.]\n",
            " [1. 0.]\n",
            " [1. 0.]\n",
            " [1. 0.]\n",
            " [0. 1.]\n",
            " [1. 0.]\n",
            " [1. 0.]\n",
            " [0. 1.]\n",
            " [0. 1.]\n",
            " [0. 1.]\n",
            " [0. 1.]\n",
            " [1. 0.]\n",
            " [0. 1.]\n",
            " [1. 0.]\n",
            " [0. 1.]\n",
            " [0. 1.]\n",
            " [0. 1.]\n",
            " [1. 0.]\n",
            " [1. 0.]\n",
            " [0. 1.]\n",
            " [0. 1.]\n",
            " [0. 1.]\n",
            " [0. 1.]\n",
            " [0. 1.]\n",
            " [0. 1.]\n",
            " [1. 0.]\n",
            " [1. 0.]\n",
            " [1. 0.]\n",
            " [1. 0.]\n",
            " [0. 1.]\n",
            " [1. 0.]\n",
            " [0. 1.]\n",
            " [0. 1.]\n",
            " [0. 1.]\n",
            " [1. 0.]\n",
            " [1. 0.]\n",
            " [1. 0.]\n",
            " [1. 0.]\n",
            " [0. 1.]\n",
            " [0. 1.]\n",
            " [1. 0.]\n",
            " [1. 0.]\n",
            " [1. 0.]\n",
            " [0. 1.]\n",
            " [1. 0.]\n",
            " [1. 0.]\n",
            " [0. 1.]\n",
            " [0. 1.]\n",
            " [1. 0.]\n",
            " [0. 1.]\n",
            " [1. 0.]\n",
            " [1. 0.]\n",
            " [1. 0.]\n",
            " [0. 1.]\n",
            " [0. 1.]\n",
            " [1. 0.]\n",
            " [0. 1.]\n",
            " [1. 0.]\n",
            " [0. 1.]\n",
            " [1. 0.]\n",
            " [0. 1.]\n",
            " [1. 0.]\n",
            " [1. 0.]\n",
            " [1. 0.]\n",
            " [1. 0.]]\n",
            "11/11 [==============================] - 0s 16ms/step - loss: 0.0552 - accuracy: 0.9741 - auc: 0.9986 - precision: 0.9741 - recall: 0.9741 - true_positives: 339.0000 - true_negatives: 339.0000 - false_positives: 9.0000 - false_negatives: 9.0000 - categorical_crossentropy: 0.0552\n",
            "Test accuracy: 0.9741379022598267\n"
          ]
        },
        {
          "output_type": "display_data",
          "data": {
            "text/plain": [
              "<Figure size 640x480 with 1 Axes>"
            ],
            "image/png": "[encoded data removed]"
          },
          "metadata": {}
        }
      ],
      "source": [
        "model.load_weights('best_model.h5')\n",
        "print(y_test)\n",
        "y_test = tf.keras.utils.to_categorical(y_test, num_classes=2)\n",
        "print(y_test)\n",
        "# Evaluate the model on the testing set\n",
        "test_loss, test_acc,test_auc,test_prec,test_rec,tp,tn,fp,fn,cc = model.evaluate(X_test, y_test)\n",
        "print('Test accuracy:', test_acc)\n",
        "\n",
        "import matplotlib.pyplot as plt\n",
        "\n",
        "# Plot the training and validation accuracy over epochs\n",
        "plt.plot(history.history['accuracy'], label='Training Accuracy')\n",
        "plt.plot(history.history['val_accuracy'], label='Validation Accuracy')\n",
        "plt.xlabel('Epoch')\n",
        "plt.ylabel('Accuracy')\n",
        "plt.legend()\n",
        "plt.show()\n",
        "    "
      ]
    },
    {
      "cell_type": "code",
      "execution_count": 60,
      "metadata": {
        "colab": {
          "base_uri": "https://localhost:8080/",
          "height": 485
        },
        "id": "MaD1lBEPinYG",
        "outputId": "23f919e5-60a4-43a1-a60f-eab35d3acd34"
      },
      "outputs": [
        {
          "output_type": "stream",
          "name": "stdout",
          "text": [
            "11/11 [==============================] - 0s 14ms/step\n",
            "[[166   1]\n",
            " [  8 173]]\n"
          ]
        },
        {
          "output_type": "display_data",
          "data": {
            "text/plain": [
              "<Figure size 640x480 with 2 Axes>"
            ],
            "image/png": "[encoded data removed]"
          },
          "metadata": {}
        }
      ],
      "source": [
        "from sklearn.metrics import confusion_matrix\n",
        "import seaborn as sns\n",
        "import matplotlib.pyplot as plt\n",
        "\n",
        "y_pred = model.predict(X_test)\n",
        "y_pred = np.argmax(y_pred, axis=1)\n",
        "y_test = np.argmax(y_test, axis=1)\n",
        "cm = confusion_matrix(y_test, y_pred)\n",
        "print(cm)\n",
        "sns.heatmap(cm, annot=True, fmt='d')\n",
        "plt.show()"
      ]
    },
    {
      "cell_type": "code",
      "execution_count": 61,
      "metadata": {
        "colab": {
          "base_uri": "https://localhost:8080/"
        },
        "id": "2DtFK2P8inYG",
        "outputId": "be2faaa0-d4b4-49e4-ae81-6ae069eb6e51"
      },
      "outputs": [
        {
          "output_type": "stream",
          "name": "stdout",
          "text": [
            "Test accuracy: 0.9741379310344828\n"
          ]
        }
      ],
      "source": [
        "print('Test accuracy:', accuracy_score(y_test, y_pred))"
      ]
    },
    {
      "cell_type": "code",
      "execution_count": 62,
      "metadata": {
        "id": "7kbM29jJinYG"
      },
      "outputs": [],
      "source": [
        "l= [0.9798850574712644,0.985632183908046,0.9813218390804598,0.9827586206896551,0.978448275862069]\n",
        "s= [0.985632183908046,0.9899425287356322,0.9985632183908046,0.9971264367816092,0.992816091954023]\n",
        "k= [0.9885057471264368,0.9913793103448276,0.9885057471264368,0.9885057471264368,0.9913793103448276]\n"
      ]
    },
    {
      "cell_type": "code",
      "source": [
        "import matplotlib.pyplot as plt\n",
        "\n",
        "a = [1, 2, 3, 4, 5]\n",
        "\n",
        "\n",
        "plt.plot(a, l,label=\"SVM\")\n",
        "plt.plot(a, s,label=\"RandomForest\")\n",
        "plt.plot(a, k,label=\"CNN\")\n",
        "\n",
        "plt.xlabel('')\n",
        "plt.ylabel('Accuracy')\n",
        "plt.title('Comparing models')\n",
        "plt.legend()\n",
        "plt.show()"
      ],
      "metadata": {
        "colab": {
          "base_uri": "https://localhost:8080/",
          "height": 452
        },
        "id": "zHC9khaMvfNb",
        "outputId": "d814ff39-02c6-4c76-9e84-215c7cad6b70"
      },
      "execution_count": 63,
      "outputs": [
        {
          "output_type": "display_data",
          "data": {
            "text/plain": [
              "<Figure size 640x480 with 1 Axes>"
            ],
            "image/png": "[encoded data removed]"
          },
          "metadata": {}
        }
      ]
    },
    {
      "cell_type": "code",
      "source": [],
      "metadata": {
        "id": "0QnJL6n3wwPA"
      },
      "execution_count": null,
      "outputs": []
    }
  ],
  "metadata": {
    "kernelspec": {
      "display_name": "base",
      "language": "python",
      "name": "python3"
    },
    "language_info": {
      "codemirror_mode": {
        "name": "ipython",
        "version": 3
      },
      "file_extension": ".py",
      "mimetype": "text/x-python",
      "name": "python",
      "nbconvert_exporter": "python",
      "pygments_lexer": "ipython3",
      "version": "3.9.7"
    },
    "orig_nbformat": 4,
    "colab": {
      "provenance": []
    }
  },
  "nbformat": 4,
  "nbformat_minor": 0
}